{
 "cells": [
  {
   "cell_type": "markdown",
   "id": "f4f14c91",
   "metadata": {},
   "source": [
    "### 데이터 셋 로드"
   ]
  },
  {
   "cell_type": "code",
   "execution_count": 1,
   "id": "d5a95475",
   "metadata": {},
   "outputs": [],
   "source": [
    "import pandas as pd\n",
    "import warnings\n",
    "warnings.filterwarnings('ignore')"
   ]
  },
  {
   "cell_type": "code",
   "execution_count": 7,
   "id": "1b0993b2",
   "metadata": {},
   "outputs": [
    {
     "data": {
      "text/html": [
       "<div>\n",
       "<style scoped>\n",
       "    .dataframe tbody tr th:only-of-type {\n",
       "        vertical-align: middle;\n",
       "    }\n",
       "\n",
       "    .dataframe tbody tr th {\n",
       "        vertical-align: top;\n",
       "    }\n",
       "\n",
       "    .dataframe thead th {\n",
       "        text-align: right;\n",
       "    }\n",
       "</style>\n",
       "<table border=\"1\" class=\"dataframe\">\n",
       "  <thead>\n",
       "    <tr style=\"text-align: right;\">\n",
       "      <th></th>\n",
       "      <th>PassengerId</th>\n",
       "      <th>Survived</th>\n",
       "      <th>Pclass</th>\n",
       "      <th>Sex</th>\n",
       "      <th>Age</th>\n",
       "      <th>SibSp</th>\n",
       "      <th>Parch</th>\n",
       "      <th>Fare</th>\n",
       "    </tr>\n",
       "  </thead>\n",
       "  <tbody>\n",
       "    <tr>\n",
       "      <th>0</th>\n",
       "      <td>1</td>\n",
       "      <td>0</td>\n",
       "      <td>3</td>\n",
       "      <td>0</td>\n",
       "      <td>22.0</td>\n",
       "      <td>1</td>\n",
       "      <td>0</td>\n",
       "      <td>7.2500</td>\n",
       "    </tr>\n",
       "    <tr>\n",
       "      <th>1</th>\n",
       "      <td>2</td>\n",
       "      <td>1</td>\n",
       "      <td>1</td>\n",
       "      <td>1</td>\n",
       "      <td>38.0</td>\n",
       "      <td>1</td>\n",
       "      <td>0</td>\n",
       "      <td>71.2833</td>\n",
       "    </tr>\n",
       "    <tr>\n",
       "      <th>2</th>\n",
       "      <td>3</td>\n",
       "      <td>1</td>\n",
       "      <td>3</td>\n",
       "      <td>1</td>\n",
       "      <td>26.0</td>\n",
       "      <td>0</td>\n",
       "      <td>0</td>\n",
       "      <td>7.9250</td>\n",
       "    </tr>\n",
       "    <tr>\n",
       "      <th>3</th>\n",
       "      <td>4</td>\n",
       "      <td>1</td>\n",
       "      <td>1</td>\n",
       "      <td>1</td>\n",
       "      <td>35.0</td>\n",
       "      <td>1</td>\n",
       "      <td>0</td>\n",
       "      <td>53.1000</td>\n",
       "    </tr>\n",
       "    <tr>\n",
       "      <th>4</th>\n",
       "      <td>5</td>\n",
       "      <td>0</td>\n",
       "      <td>3</td>\n",
       "      <td>0</td>\n",
       "      <td>35.0</td>\n",
       "      <td>0</td>\n",
       "      <td>0</td>\n",
       "      <td>8.0500</td>\n",
       "    </tr>\n",
       "  </tbody>\n",
       "</table>\n",
       "</div>"
      ],
      "text/plain": [
       "   PassengerId  Survived  Pclass  Sex   Age  SibSp  Parch     Fare\n",
       "0            1         0       3    0  22.0      1      0   7.2500\n",
       "1            2         1       1    1  38.0      1      0  71.2833\n",
       "2            3         1       3    1  26.0      0      0   7.9250\n",
       "3            4         1       1    1  35.0      1      0  53.1000\n",
       "4            5         0       3    0  35.0      0      0   8.0500"
      ]
     },
     "execution_count": 7,
     "metadata": {},
     "output_type": "execute_result"
    }
   ],
   "source": [
    "df = pd.read_csv('data/titanic_cleaning.csv')\n",
    "df.head()"
   ]
  },
  {
   "cell_type": "code",
   "execution_count": 8,
   "id": "9613b48a",
   "metadata": {},
   "outputs": [
    {
     "data": {
      "text/plain": [
       "Index(['PassengerId', 'Survived', 'Pclass', 'Sex', 'Age', 'SibSp', 'Parch',\n",
       "       'Fare'],\n",
       "      dtype='object')"
      ]
     },
     "execution_count": 8,
     "metadata": {},
     "output_type": "execute_result"
    }
   ],
   "source": [
    "df.columns"
   ]
  },
  {
   "cell_type": "code",
   "execution_count": 9,
   "id": "be05ff46",
   "metadata": {},
   "outputs": [],
   "source": [
    "features = ['PassengerId',  'Pclass', 'Sex', 'Age', 'SibSp', 'Parch','Fare']\n",
    "label = 'Survived'\n",
    "X, y = df[features], df[label]"
   ]
  },
  {
   "cell_type": "code",
   "execution_count": 11,
   "id": "878f50d8",
   "metadata": {},
   "outputs": [],
   "source": [
    "from sklearn.model_selection import train_test_split\n",
    "X_train, X_test, y_train, y_test =\\\n",
    "                    train_test_split(X,y ,test_size=0.2 ,random_state=62)"
   ]
  },
  {
   "cell_type": "markdown",
   "id": "30f3c1ce",
   "metadata": {},
   "source": [
    "### 모델 및 네트워크 생성"
   ]
  },
  {
   "cell_type": "code",
   "execution_count": 15,
   "id": "7a82399f",
   "metadata": {},
   "outputs": [],
   "source": [
    "from keras import models\n",
    "from keras.layers import Dense\n",
    "\n",
    "model = models.Sequential()\n",
    "model.add( Dense(units = 16, activation='relu',input_dim=7))\n",
    "model.add( Dense(units=8, activation='relu'))\n",
    "model.add( Dense(units=1,activation='sigmoid'))"
   ]
  },
  {
   "cell_type": "markdown",
   "id": "0ac827a3",
   "metadata": {},
   "source": [
    "### 모델 성능 개선 설정"
   ]
  },
  {
   "cell_type": "code",
   "execution_count": 17,
   "id": "191d1527",
   "metadata": {},
   "outputs": [],
   "source": [
    "model.compile(loss='binary_crossentropy', optimizer='adam',metrics=['acc','mse'])"
   ]
  },
  {
   "cell_type": "code",
   "execution_count": 19,
   "id": "d402eba3",
   "metadata": {},
   "outputs": [
    {
     "name": "stdout",
     "output_type": "stream",
     "text": [
      "Epoch 1/100\n",
      "8/8 [==============================] - 1s 2ms/step - loss: 35.3327 - acc: 0.3722 - mse: 0.6269\n",
      "Epoch 2/100\n",
      "8/8 [==============================] - 0s 2ms/step - loss: 27.2942 - acc: 0.3722 - mse: 0.6236\n",
      "Epoch 3/100\n",
      "8/8 [==============================] - 0s 2ms/step - loss: 17.6336 - acc: 0.3680 - mse: 0.6226\n",
      "Epoch 4/100\n",
      "8/8 [==============================] - 0s 2ms/step - loss: 7.9458 - acc: 0.4256 - mse: 0.5511\n",
      "Epoch 5/100\n",
      "8/8 [==============================] - 0s 2ms/step - loss: 4.5236 - acc: 0.5787 - mse: 0.3889\n",
      "Epoch 6/100\n",
      "8/8 [==============================] - 0s 2ms/step - loss: 4.8028 - acc: 0.6081 - mse: 0.3644\n",
      "Epoch 7/100\n",
      "8/8 [==============================] - 0s 2ms/step - loss: 4.5982 - acc: 0.6096 - mse: 0.3591\n",
      "Epoch 8/100\n",
      "8/8 [==============================] - 0s 2ms/step - loss: 3.9631 - acc: 0.5983 - mse: 0.3639\n",
      "Epoch 9/100\n",
      "8/8 [==============================] - 0s 2ms/step - loss: 3.6277 - acc: 0.5829 - mse: 0.3804\n",
      "Epoch 10/100\n",
      "8/8 [==============================] - 0s 2ms/step - loss: 3.2291 - acc: 0.5815 - mse: 0.3731\n",
      "Epoch 11/100\n",
      "8/8 [==============================] - 0s 2ms/step - loss: 2.9095 - acc: 0.5885 - mse: 0.3640\n",
      "Epoch 12/100\n",
      "8/8 [==============================] - 0s 2ms/step - loss: 2.6436 - acc: 0.5969 - mse: 0.3522\n",
      "Epoch 13/100\n",
      "8/8 [==============================] - 0s 0s/step - loss: 2.3943 - acc: 0.5927 - mse: 0.3485\n",
      "Epoch 14/100\n",
      "8/8 [==============================] - 0s 0s/step - loss: 2.1749 - acc: 0.5885 - mse: 0.3410\n",
      "Epoch 15/100\n",
      "8/8 [==============================] - 0s 0s/step - loss: 1.9217 - acc: 0.6039 - mse: 0.3245\n",
      "Epoch 16/100\n",
      "8/8 [==============================] - 0s 260us/step - loss: 1.7018 - acc: 0.6067 - mse: 0.3100\n",
      "Epoch 17/100\n",
      "8/8 [==============================] - 0s 590us/step - loss: 1.5126 - acc: 0.6320 - mse: 0.2920\n",
      "Epoch 18/100\n",
      "8/8 [==============================] - 0s 2ms/step - loss: 1.2921 - acc: 0.6587 - mse: 0.2670\n",
      "Epoch 19/100\n",
      "8/8 [==============================] - 0s 2ms/step - loss: 1.1355 - acc: 0.6643 - mse: 0.2530\n",
      "Epoch 20/100\n",
      "8/8 [==============================] - 0s 2ms/step - loss: 1.0306 - acc: 0.6784 - mse: 0.2433\n",
      "Epoch 21/100\n",
      "8/8 [==============================] - 0s 2ms/step - loss: 0.9294 - acc: 0.6896 - mse: 0.2358\n",
      "Epoch 22/100\n",
      "8/8 [==============================] - 0s 2ms/step - loss: 0.8415 - acc: 0.6896 - mse: 0.2252\n",
      "Epoch 23/100\n",
      "8/8 [==============================] - 0s 2ms/step - loss: 0.7986 - acc: 0.6952 - mse: 0.2268\n",
      "Epoch 24/100\n",
      "8/8 [==============================] - 0s 2ms/step - loss: 0.7444 - acc: 0.6924 - mse: 0.2205\n",
      "Epoch 25/100\n",
      "8/8 [==============================] - 0s 2ms/step - loss: 0.7212 - acc: 0.6966 - mse: 0.2159\n",
      "Epoch 26/100\n",
      "8/8 [==============================] - 0s 2ms/step - loss: 0.6850 - acc: 0.7107 - mse: 0.2104\n",
      "Epoch 27/100\n",
      "8/8 [==============================] - 0s 2ms/step - loss: 0.6617 - acc: 0.7051 - mse: 0.2082\n",
      "Epoch 28/100\n",
      "8/8 [==============================] - 0s 2ms/step - loss: 0.6456 - acc: 0.6994 - mse: 0.2050\n",
      "Epoch 29/100\n",
      "8/8 [==============================] - 0s 2ms/step - loss: 0.6368 - acc: 0.7051 - mse: 0.2014\n",
      "Epoch 30/100\n",
      "8/8 [==============================] - 0s 2ms/step - loss: 0.6299 - acc: 0.7135 - mse: 0.1996\n",
      "Epoch 31/100\n",
      "8/8 [==============================] - 0s 2ms/step - loss: 0.7016 - acc: 0.6826 - mse: 0.2275\n",
      "Epoch 32/100\n",
      "8/8 [==============================] - 0s 2ms/step - loss: 0.6083 - acc: 0.7051 - mse: 0.1994\n",
      "Epoch 33/100\n",
      "8/8 [==============================] - 0s 2ms/step - loss: 0.6070 - acc: 0.6980 - mse: 0.1974\n",
      "Epoch 34/100\n",
      "8/8 [==============================] - 0s 2ms/step - loss: 0.5750 - acc: 0.7135 - mse: 0.1884\n",
      "Epoch 35/100\n",
      "8/8 [==============================] - 0s 0s/step - loss: 0.5636 - acc: 0.7037 - mse: 0.1864\n",
      "Epoch 36/100\n",
      "8/8 [==============================] - 0s 0s/step - loss: 0.5681 - acc: 0.7233 - mse: 0.1893\n",
      "Epoch 37/100\n",
      "8/8 [==============================] - 0s 2ms/step - loss: 0.6275 - acc: 0.6980 - mse: 0.2065\n",
      "Epoch 38/100\n",
      "8/8 [==============================] - 0s 2ms/step - loss: 0.5747 - acc: 0.7317 - mse: 0.1860\n",
      "Epoch 39/100\n",
      "8/8 [==============================] - 0s 2ms/step - loss: 0.5471 - acc: 0.7205 - mse: 0.1794\n",
      "Epoch 40/100\n",
      "8/8 [==============================] - 0s 2ms/step - loss: 0.5421 - acc: 0.7247 - mse: 0.1805\n",
      "Epoch 41/100\n",
      "8/8 [==============================] - 0s 2ms/step - loss: 0.5399 - acc: 0.7331 - mse: 0.1783\n",
      "Epoch 42/100\n",
      "8/8 [==============================] - 0s 2ms/step - loss: 0.5662 - acc: 0.7219 - mse: 0.1895\n",
      "Epoch 43/100\n",
      "8/8 [==============================] - 0s 2ms/step - loss: 0.5814 - acc: 0.7247 - mse: 0.1934\n",
      "Epoch 44/100\n",
      "8/8 [==============================] - 0s 0s/step - loss: 0.5430 - acc: 0.7388 - mse: 0.1796\n",
      "Epoch 45/100\n",
      "8/8 [==============================] - 0s 0s/step - loss: 0.5590 - acc: 0.7163 - mse: 0.1882\n",
      "Epoch 46/100\n",
      "8/8 [==============================] - 0s 584us/step - loss: 0.6198 - acc: 0.7051 - mse: 0.2032\n",
      "Epoch 47/100\n",
      "8/8 [==============================] - 0s 2ms/step - loss: 0.5386 - acc: 0.7416 - mse: 0.1787\n",
      "Epoch 48/100\n",
      "8/8 [==============================] - 0s 5ms/step - loss: 0.5157 - acc: 0.7416 - mse: 0.1698\n",
      "Epoch 49/100\n",
      "8/8 [==============================] - 0s 2ms/step - loss: 0.5139 - acc: 0.7514 - mse: 0.1678\n",
      "Epoch 50/100\n",
      "8/8 [==============================] - 0s 2ms/step - loss: 0.5194 - acc: 0.7275 - mse: 0.1735\n",
      "Epoch 51/100\n",
      "8/8 [==============================] - 0s 2ms/step - loss: 0.5068 - acc: 0.7360 - mse: 0.1678\n",
      "Epoch 52/100\n",
      "8/8 [==============================] - 0s 0s/step - loss: 0.5086 - acc: 0.7402 - mse: 0.1686\n",
      "Epoch 53/100\n",
      "8/8 [==============================] - 0s 0s/step - loss: 0.5229 - acc: 0.7444 - mse: 0.1742\n",
      "Epoch 54/100\n",
      "8/8 [==============================] - 0s 749us/step - loss: 0.5195 - acc: 0.7556 - mse: 0.1719\n",
      "Epoch 55/100\n",
      "8/8 [==============================] - 0s 665us/step - loss: 0.5409 - acc: 0.7205 - mse: 0.1812\n",
      "Epoch 56/100\n",
      "8/8 [==============================] - 0s 615us/step - loss: 0.5469 - acc: 0.7472 - mse: 0.1803\n",
      "Epoch 57/100\n",
      "8/8 [==============================] - 0s 3ms/step - loss: 0.5676 - acc: 0.7107 - mse: 0.1903\n",
      "Epoch 58/100\n",
      "8/8 [==============================] - 0s 2ms/step - loss: 0.5278 - acc: 0.7331 - mse: 0.1768\n",
      "Epoch 59/100\n",
      "8/8 [==============================] - 0s 3ms/step - loss: 0.5461 - acc: 0.7331 - mse: 0.1829\n",
      "Epoch 60/100\n",
      "8/8 [==============================] - 0s 2ms/step - loss: 0.5286 - acc: 0.7626 - mse: 0.1735\n",
      "Epoch 61/100\n",
      "8/8 [==============================] - 0s 2ms/step - loss: 0.5481 - acc: 0.7191 - mse: 0.1834\n",
      "Epoch 62/100\n",
      "8/8 [==============================] - 0s 2ms/step - loss: 0.5770 - acc: 0.7008 - mse: 0.1924\n",
      "Epoch 63/100\n",
      "8/8 [==============================] - 0s 2ms/step - loss: 0.5056 - acc: 0.7669 - mse: 0.1670\n",
      "Epoch 64/100\n",
      "8/8 [==============================] - 0s 2ms/step - loss: 0.4888 - acc: 0.7654 - mse: 0.1603\n",
      "Epoch 65/100\n",
      "8/8 [==============================] - 0s 2ms/step - loss: 0.5088 - acc: 0.7458 - mse: 0.1680\n",
      "Epoch 66/100\n",
      "8/8 [==============================] - 0s 2ms/step - loss: 0.4923 - acc: 0.7584 - mse: 0.1615\n",
      "Epoch 67/100\n",
      "8/8 [==============================] - 0s 2ms/step - loss: 0.4855 - acc: 0.7542 - mse: 0.1595\n",
      "Epoch 68/100\n",
      "8/8 [==============================] - 0s 2ms/step - loss: 0.4861 - acc: 0.7711 - mse: 0.1589\n",
      "Epoch 69/100\n",
      "8/8 [==============================] - 0s 2ms/step - loss: 0.4875 - acc: 0.7697 - mse: 0.1602\n",
      "Epoch 70/100\n",
      "8/8 [==============================] - 0s 2ms/step - loss: 0.4923 - acc: 0.7781 - mse: 0.1614\n",
      "Epoch 71/100\n",
      "8/8 [==============================] - 0s 0s/step - loss: 0.5257 - acc: 0.7500 - mse: 0.1748\n",
      "Epoch 72/100\n",
      "8/8 [==============================] - 0s 1ms/step - loss: 0.5013 - acc: 0.7669 - mse: 0.1653\n",
      "Epoch 73/100\n",
      "8/8 [==============================] - 0s 387us/step - loss: 0.5181 - acc: 0.7360 - mse: 0.1718\n",
      "Epoch 74/100\n",
      "8/8 [==============================] - 0s 654us/step - loss: 0.5019 - acc: 0.7528 - mse: 0.1661\n",
      "Epoch 75/100\n",
      "8/8 [==============================] - 0s 2ms/step - loss: 0.4859 - acc: 0.7781 - mse: 0.1581\n",
      "Epoch 76/100\n",
      "8/8 [==============================] - 0s 2ms/step - loss: 0.4795 - acc: 0.7711 - mse: 0.1565\n",
      "Epoch 77/100\n"
     ]
    },
    {
     "name": "stdout",
     "output_type": "stream",
     "text": [
      "8/8 [==============================] - 0s 2ms/step - loss: 0.4802 - acc: 0.7584 - mse: 0.1574\n",
      "Epoch 78/100\n",
      "8/8 [==============================] - 0s 2ms/step - loss: 0.5067 - acc: 0.7711 - mse: 0.1629\n",
      "Epoch 79/100\n",
      "8/8 [==============================] - 0s 0s/step - loss: 0.5122 - acc: 0.7697 - mse: 0.1606\n",
      "Epoch 80/100\n",
      "8/8 [==============================] - 0s 0s/step - loss: 0.5169 - acc: 0.7612 - mse: 0.1648\n",
      "Epoch 81/100\n",
      "8/8 [==============================] - 0s 2ms/step - loss: 0.5035 - acc: 0.7612 - mse: 0.1618\n",
      "Epoch 82/100\n",
      "8/8 [==============================] - 0s 2ms/step - loss: 0.4877 - acc: 0.7626 - mse: 0.1593\n",
      "Epoch 83/100\n",
      "8/8 [==============================] - 0s 2ms/step - loss: 0.4783 - acc: 0.7753 - mse: 0.1556\n",
      "Epoch 84/100\n",
      "8/8 [==============================] - 0s 2ms/step - loss: 0.4798 - acc: 0.7809 - mse: 0.1561\n",
      "Epoch 85/100\n",
      "8/8 [==============================] - 0s 0s/step - loss: 0.4852 - acc: 0.7781 - mse: 0.1581\n",
      "Epoch 86/100\n",
      "8/8 [==============================] - 0s 0s/step - loss: 0.4867 - acc: 0.7711 - mse: 0.1582\n",
      "Epoch 87/100\n",
      "8/8 [==============================] - 0s 491us/step - loss: 0.4847 - acc: 0.7654 - mse: 0.1593\n",
      "Epoch 88/100\n",
      "8/8 [==============================] - 0s 2ms/step - loss: 0.4766 - acc: 0.7837 - mse: 0.1550\n",
      "Epoch 89/100\n",
      "8/8 [==============================] - 0s 2ms/step - loss: 0.5043 - acc: 0.7612 - mse: 0.1662\n",
      "Epoch 90/100\n",
      "8/8 [==============================] - 0s 2ms/step - loss: 0.4845 - acc: 0.7893 - mse: 0.1580\n",
      "Epoch 91/100\n",
      "8/8 [==============================] - 0s 0s/step - loss: 0.4705 - acc: 0.7865 - mse: 0.1523\n",
      "Epoch 92/100\n",
      "8/8 [==============================] - 0s 0s/step - loss: 0.5324 - acc: 0.7388 - mse: 0.1770\n",
      "Epoch 93/100\n",
      "8/8 [==============================] - 0s 261us/step - loss: 0.5396 - acc: 0.7500 - mse: 0.1787\n",
      "Epoch 94/100\n",
      "8/8 [==============================] - 0s 2ms/step - loss: 0.4748 - acc: 0.7865 - mse: 0.1542\n",
      "Epoch 95/100\n",
      "8/8 [==============================] - 0s 2ms/step - loss: 0.4750 - acc: 0.7851 - mse: 0.1543\n",
      "Epoch 96/100\n",
      "8/8 [==============================] - 0s 2ms/step - loss: 0.4794 - acc: 0.7809 - mse: 0.1555\n",
      "Epoch 97/100\n",
      "8/8 [==============================] - 0s 0s/step - loss: 0.5250 - acc: 0.7654 - mse: 0.1714\n",
      "Epoch 98/100\n",
      "8/8 [==============================] - 0s 34us/step - loss: 0.4787 - acc: 0.7739 - mse: 0.1563\n",
      "Epoch 99/100\n",
      "8/8 [==============================] - 0s 600us/step - loss: 0.4703 - acc: 0.7781 - mse: 0.1521\n",
      "Epoch 100/100\n",
      "8/8 [==============================] - 0s 2ms/step - loss: 0.4682 - acc: 0.7893 - mse: 0.1513\n"
     ]
    },
    {
     "data": {
      "text/plain": [
       "<keras.callbacks.History at 0x1a905e22e80>"
      ]
     },
     "execution_count": 19,
     "metadata": {},
     "output_type": "execute_result"
    }
   ],
   "source": [
    "model.fit( X_train, y_train, epochs=100, batch_size = 100)"
   ]
  },
  {
   "cell_type": "markdown",
   "id": "751db436",
   "metadata": {},
   "source": [
    "### 모델 평가 - evaluate( 평가함수 )\n",
    "* 첫번째 결과 값(loss)\n",
    "    * 첫번째 결과 값은 오차값(loss)을 알려준다\n",
    "    * loss값은 0~1사이의 값이 나오게 되며, 0이면 오차가 없고 1이면 오차가 크다\n",
    "* 두번째 결과 값(accuracy)\n",
    "    * 두번째 결과 값은 정확도(accuracy)를 알려준다\n",
    "    * 예측한 값은 0 ~ 1사이의 값으로 보여주며 1에 가까울수록 정답을 많이 맞춘 것이다"
   ]
  },
  {
   "cell_type": "code",
   "execution_count": 20,
   "id": "85e0c521",
   "metadata": {},
   "outputs": [
    {
     "name": "stdout",
     "output_type": "stream",
     "text": [
      "6/6 [==============================] - 0s 3ms/step - loss: 0.5206 - acc: 0.7318 - mse: 0.1728\n"
     ]
    },
    {
     "data": {
      "text/plain": [
       "[0.5205973982810974, 0.7318435907363892, 0.17280559241771698]"
      ]
     },
     "execution_count": 20,
     "metadata": {},
     "output_type": "execute_result"
    }
   ],
   "source": [
    "results = model.evaluate(X_test,y_test)\n",
    "results"
   ]
  },
  {
   "cell_type": "markdown",
   "id": "2f88ffb2",
   "metadata": {},
   "source": [
    "### MinMaxScaler"
   ]
  },
  {
   "cell_type": "code",
   "execution_count": 21,
   "id": "ddf0bef6",
   "metadata": {},
   "outputs": [
    {
     "data": {
      "text/plain": [
       "array([[0.        , 1.        , 0.        , ..., 0.125     , 0.        ,\n",
       "        0.01415106],\n",
       "       [0.0011236 , 0.        , 1.        , ..., 0.125     , 0.        ,\n",
       "        0.13913574],\n",
       "       [0.00224719, 1.        , 1.        , ..., 0.        , 0.        ,\n",
       "        0.01546857],\n",
       "       ...,\n",
       "       [0.99775281, 1.        , 1.        , ..., 0.125     , 0.33333333,\n",
       "        0.04577135],\n",
       "       [0.9988764 , 0.        , 0.        , ..., 0.        , 0.        ,\n",
       "        0.0585561 ],\n",
       "       [1.        , 1.        , 0.        , ..., 0.        , 0.        ,\n",
       "        0.01512699]])"
      ]
     },
     "execution_count": 21,
     "metadata": {},
     "output_type": "execute_result"
    }
   ],
   "source": [
    "from sklearn.preprocessing import MinMaxScaler\n",
    "\n",
    "min_max_scaler= MinMaxScaler()\n",
    "X_min_max =min_max_scaler.fit_transform(X)\n",
    "X_min_max"
   ]
  },
  {
   "cell_type": "code",
   "execution_count": 22,
   "id": "fac20acd",
   "metadata": {},
   "outputs": [],
   "source": [
    "X_train, X_test, y_train, y_test =\\\n",
    "        train_test_split(X_min_max, y , test_size=0.2)"
   ]
  },
  {
   "cell_type": "code",
   "execution_count": 24,
   "id": "91422e6f",
   "metadata": {},
   "outputs": [],
   "source": [
    "model = models.Sequential()\n",
    "model.add( Dense(16, activation='relu', input_shape=(7,)))\n",
    "\n",
    "model.add( Dense(8, activation='relu'))\n",
    "model.add( Dense(1, activation='sigmoid'))\n"
   ]
  },
  {
   "cell_type": "code",
   "execution_count": 28,
   "id": "4469e2f3",
   "metadata": {},
   "outputs": [],
   "source": [
    "model.compile( loss='binary_crossentropy', optimizer = 'adam', metrics= ['acc','mse'])\n"
   ]
  },
  {
   "cell_type": "code",
   "execution_count": 29,
   "id": "16803236",
   "metadata": {},
   "outputs": [
    {
     "name": "stdout",
     "output_type": "stream",
     "text": [
      "Epoch 1/100\n",
      "8/8 [==============================] - 1s 3ms/step - loss: 0.7270 - acc: 0.3848 - mse: 0.2668\n",
      "Epoch 2/100\n",
      "8/8 [==============================] - 0s 2ms/step - loss: 0.7101 - acc: 0.3862 - mse: 0.2585\n",
      "Epoch 3/100\n",
      "8/8 [==============================] - 0s 2ms/step - loss: 0.6964 - acc: 0.3933 - mse: 0.2517\n",
      "Epoch 4/100\n",
      "8/8 [==============================] - 0s 2ms/step - loss: 0.6855 - acc: 0.4073 - mse: 0.2462\n",
      "Epoch 5/100\n",
      "8/8 [==============================] - 0s 2ms/step - loss: 0.6775 - acc: 0.4831 - mse: 0.2423\n",
      "Epoch 6/100\n",
      "8/8 [==============================] - 0s 2ms/step - loss: 0.6719 - acc: 0.6699 - mse: 0.2395\n",
      "Epoch 7/100\n",
      "8/8 [==============================] - 0s 2ms/step - loss: 0.6672 - acc: 0.7219 - mse: 0.2371\n",
      "Epoch 8/100\n",
      "8/8 [==============================] - 0s 2ms/step - loss: 0.6641 - acc: 0.7430 - mse: 0.2356\n",
      "Epoch 9/100\n",
      "8/8 [==============================] - 0s 2ms/step - loss: 0.6612 - acc: 0.7444 - mse: 0.2341\n",
      "Epoch 10/100\n",
      "8/8 [==============================] - 0s 2ms/step - loss: 0.6584 - acc: 0.7584 - mse: 0.2328\n",
      "Epoch 11/100\n",
      "8/8 [==============================] - 0s 2ms/step - loss: 0.6555 - acc: 0.7640 - mse: 0.2313\n",
      "Epoch 12/100\n",
      "8/8 [==============================] - 0s 2ms/step - loss: 0.6527 - acc: 0.7654 - mse: 0.2300\n",
      "Epoch 13/100\n",
      "8/8 [==============================] - 0s 2ms/step - loss: 0.6500 - acc: 0.7683 - mse: 0.2287\n",
      "Epoch 14/100\n",
      "8/8 [==============================] - 0s 2ms/step - loss: 0.6471 - acc: 0.7697 - mse: 0.2272\n",
      "Epoch 15/100\n",
      "8/8 [==============================] - 0s 2ms/step - loss: 0.6443 - acc: 0.7711 - mse: 0.2259\n",
      "Epoch 16/100\n",
      "8/8 [==============================] - 0s 0s/step - loss: 0.6416 - acc: 0.7725 - mse: 0.2246\n",
      "Epoch 17/100\n",
      "8/8 [==============================] - 0s 3ms/step - loss: 0.6388 - acc: 0.7725 - mse: 0.2232\n",
      "Epoch 18/100\n",
      "8/8 [==============================] - 0s 891us/step - loss: 0.6362 - acc: 0.7725 - mse: 0.2221\n",
      "Epoch 19/100\n",
      "8/8 [==============================] - 0s 2ms/step - loss: 0.6333 - acc: 0.7739 - mse: 0.2207\n",
      "Epoch 20/100\n",
      "8/8 [==============================] - 0s 2ms/step - loss: 0.6307 - acc: 0.7753 - mse: 0.2194\n",
      "Epoch 21/100\n",
      "8/8 [==============================] - 0s 2ms/step - loss: 0.6277 - acc: 0.7753 - mse: 0.2180\n",
      "Epoch 22/100\n",
      "8/8 [==============================] - 0s 2ms/step - loss: 0.6249 - acc: 0.7767 - mse: 0.2167\n",
      "Epoch 23/100\n",
      "8/8 [==============================] - 0s 3ms/step - loss: 0.6220 - acc: 0.7781 - mse: 0.2153\n",
      "Epoch 24/100\n",
      "8/8 [==============================] - 0s 2ms/step - loss: 0.6190 - acc: 0.7781 - mse: 0.2139\n",
      "Epoch 25/100\n",
      "8/8 [==============================] - 0s 2ms/step - loss: 0.6162 - acc: 0.7781 - mse: 0.2127\n",
      "Epoch 26/100\n",
      "8/8 [==============================] - 0s 2ms/step - loss: 0.6136 - acc: 0.7781 - mse: 0.2116\n",
      "Epoch 27/100\n",
      "8/8 [==============================] - 0s 2ms/step - loss: 0.6104 - acc: 0.7781 - mse: 0.2102\n",
      "Epoch 28/100\n",
      "8/8 [==============================] - 0s 2ms/step - loss: 0.6068 - acc: 0.7781 - mse: 0.2085\n",
      "Epoch 29/100\n",
      "8/8 [==============================] - 0s 2ms/step - loss: 0.6039 - acc: 0.7781 - mse: 0.2071\n",
      "Epoch 30/100\n",
      "8/8 [==============================] - 0s 2ms/step - loss: 0.6013 - acc: 0.7781 - mse: 0.2060\n",
      "Epoch 31/100\n",
      "8/8 [==============================] - 0s 2ms/step - loss: 0.5979 - acc: 0.7781 - mse: 0.2046\n",
      "Epoch 32/100\n",
      "8/8 [==============================] - 0s 2ms/step - loss: 0.5949 - acc: 0.7781 - mse: 0.2032\n",
      "Epoch 33/100\n",
      "8/8 [==============================] - 0s 2ms/step - loss: 0.5922 - acc: 0.7795 - mse: 0.2019\n",
      "Epoch 34/100\n",
      "8/8 [==============================] - 0s 2ms/step - loss: 0.5896 - acc: 0.7823 - mse: 0.2006\n",
      "Epoch 35/100\n",
      "8/8 [==============================] - 0s 0s/step - loss: 0.5869 - acc: 0.7823 - mse: 0.1995\n",
      "Epoch 36/100\n",
      "8/8 [==============================] - 0s 0s/step - loss: 0.5842 - acc: 0.7823 - mse: 0.1984\n",
      "Epoch 37/100\n",
      "8/8 [==============================] - 0s 647us/step - loss: 0.5816 - acc: 0.7823 - mse: 0.1974\n",
      "Epoch 38/100\n",
      "8/8 [==============================] - 0s 3ms/step - loss: 0.5791 - acc: 0.7823 - mse: 0.1964\n",
      "Epoch 39/100\n",
      "8/8 [==============================] - 0s 2ms/step - loss: 0.5766 - acc: 0.7823 - mse: 0.1952\n",
      "Epoch 40/100\n",
      "8/8 [==============================] - 0s 2ms/step - loss: 0.5740 - acc: 0.7837 - mse: 0.1940\n",
      "Epoch 41/100\n",
      "8/8 [==============================] - 0s 3ms/step - loss: 0.5716 - acc: 0.7851 - mse: 0.1930\n",
      "Epoch 42/100\n",
      "8/8 [==============================] - 0s 1ms/step - loss: 0.5693 - acc: 0.7851 - mse: 0.1922\n",
      "Epoch 43/100\n",
      "8/8 [==============================] - 0s 2ms/step - loss: 0.5669 - acc: 0.7865 - mse: 0.1911\n",
      "Epoch 44/100\n",
      "8/8 [==============================] - 0s 2ms/step - loss: 0.5644 - acc: 0.7907 - mse: 0.1900\n",
      "Epoch 45/100\n",
      "8/8 [==============================] - 0s 0s/step - loss: 0.5624 - acc: 0.7921 - mse: 0.1890\n",
      "Epoch 46/100\n",
      "8/8 [==============================] - 0s 0s/step - loss: 0.5602 - acc: 0.7949 - mse: 0.1881\n",
      "Epoch 47/100\n",
      "8/8 [==============================] - 0s 0s/step - loss: 0.5579 - acc: 0.7949 - mse: 0.1872\n",
      "Epoch 48/100\n",
      "8/8 [==============================] - 0s 145us/step - loss: 0.5556 - acc: 0.7921 - mse: 0.1865\n",
      "Epoch 49/100\n",
      "8/8 [==============================] - 0s 233us/step - loss: 0.5539 - acc: 0.7921 - mse: 0.1859\n",
      "Epoch 50/100\n",
      "8/8 [==============================] - 0s 704us/step - loss: 0.5519 - acc: 0.7935 - mse: 0.1851\n",
      "Epoch 51/100\n",
      "8/8 [==============================] - 0s 473us/step - loss: 0.5498 - acc: 0.7935 - mse: 0.1842\n",
      "Epoch 52/100\n",
      "8/8 [==============================] - 0s 3ms/step - loss: 0.5473 - acc: 0.7963 - mse: 0.1829\n",
      "Epoch 53/100\n",
      "8/8 [==============================] - 0s 774us/step - loss: 0.5460 - acc: 0.8034 - mse: 0.1822\n",
      "Epoch 54/100\n",
      "8/8 [==============================] - 0s 2ms/step - loss: 0.5442 - acc: 0.8034 - mse: 0.1814\n",
      "Epoch 55/100\n",
      "8/8 [==============================] - 0s 2ms/step - loss: 0.5421 - acc: 0.8034 - mse: 0.1807\n",
      "Epoch 56/100\n",
      "8/8 [==============================] - 0s 0s/step - loss: 0.5405 - acc: 0.8034 - mse: 0.1801\n",
      "Epoch 57/100\n",
      "8/8 [==============================] - 0s 0s/step - loss: 0.5391 - acc: 0.8006 - mse: 0.1797\n",
      "Epoch 58/100\n",
      "8/8 [==============================] - 0s 2ms/step - loss: 0.5378 - acc: 0.7978 - mse: 0.1793\n",
      "Epoch 59/100\n",
      "8/8 [==============================] - 0s 2ms/step - loss: 0.5372 - acc: 0.7963 - mse: 0.1792\n",
      "Epoch 60/100\n",
      "8/8 [==============================] - 0s 0s/step - loss: 0.5351 - acc: 0.7978 - mse: 0.1782\n",
      "Epoch 61/100\n",
      "8/8 [==============================] - 0s 230us/step - loss: 0.5333 - acc: 0.8034 - mse: 0.1773\n",
      "Epoch 62/100\n",
      "8/8 [==============================] - 0s 588us/step - loss: 0.5318 - acc: 0.8034 - mse: 0.1765\n",
      "Epoch 63/100\n",
      "8/8 [==============================] - 0s 2ms/step - loss: 0.5300 - acc: 0.8006 - mse: 0.1755\n",
      "Epoch 64/100\n",
      "8/8 [==============================] - 0s 2ms/step - loss: 0.5300 - acc: 0.8006 - mse: 0.1752\n",
      "Epoch 65/100\n",
      "8/8 [==============================] - 0s 2ms/step - loss: 0.5286 - acc: 0.8034 - mse: 0.1746\n",
      "Epoch 66/100\n",
      "8/8 [==============================] - 0s 2ms/step - loss: 0.5266 - acc: 0.7992 - mse: 0.1739\n",
      "Epoch 67/100\n",
      "8/8 [==============================] - 0s 2ms/step - loss: 0.5246 - acc: 0.7992 - mse: 0.1732\n",
      "Epoch 68/100\n",
      "8/8 [==============================] - 0s 0s/step - loss: 0.5228 - acc: 0.7992 - mse: 0.1725\n",
      "Epoch 69/100\n",
      "8/8 [==============================] - 0s 127us/step - loss: 0.5205 - acc: 0.8020 - mse: 0.1716\n",
      "Epoch 70/100\n",
      "8/8 [==============================] - 0s 378us/step - loss: 0.5173 - acc: 0.8034 - mse: 0.1703\n",
      "Epoch 71/100\n",
      "8/8 [==============================] - 0s 724us/step - loss: 0.5124 - acc: 0.8034 - mse: 0.1682\n",
      "Epoch 72/100\n",
      "8/8 [==============================] - 0s 2ms/step - loss: 0.5051 - acc: 0.8020 - mse: 0.1648\n",
      "Epoch 73/100\n",
      "8/8 [==============================] - 0s 2ms/step - loss: 0.4935 - acc: 0.7992 - mse: 0.1595\n",
      "Epoch 74/100\n",
      "8/8 [==============================] - 0s 2ms/step - loss: 0.4808 - acc: 0.7992 - mse: 0.1540\n",
      "Epoch 75/100\n",
      "8/8 [==============================] - 0s 2ms/step - loss: 0.4711 - acc: 0.8034 - mse: 0.1503\n",
      "Epoch 76/100\n",
      "8/8 [==============================] - 0s 0s/step - loss: 0.4631 - acc: 0.8006 - mse: 0.1475\n",
      "Epoch 77/100\n"
     ]
    },
    {
     "name": "stdout",
     "output_type": "stream",
     "text": [
      "8/8 [==============================] - 0s 0s/step - loss: 0.4564 - acc: 0.8034 - mse: 0.1456\n",
      "Epoch 78/100\n",
      "8/8 [==============================] - 0s 559us/step - loss: 0.4535 - acc: 0.8020 - mse: 0.1449\n",
      "Epoch 79/100\n",
      "8/8 [==============================] - 0s 731us/step - loss: 0.4512 - acc: 0.8020 - mse: 0.1443\n",
      "Epoch 80/100\n",
      "8/8 [==============================] - 0s 2ms/step - loss: 0.4493 - acc: 0.8034 - mse: 0.1435\n",
      "Epoch 81/100\n",
      "8/8 [==============================] - 0s 2ms/step - loss: 0.4479 - acc: 0.8034 - mse: 0.1431\n",
      "Epoch 82/100\n",
      "8/8 [==============================] - 0s 2ms/step - loss: 0.4485 - acc: 0.8034 - mse: 0.1434\n",
      "Epoch 83/100\n",
      "8/8 [==============================] - 0s 0s/step - loss: 0.4480 - acc: 0.8020 - mse: 0.1431\n",
      "Epoch 84/100\n",
      "8/8 [==============================] - 0s 0s/step - loss: 0.4460 - acc: 0.7992 - mse: 0.1422\n",
      "Epoch 85/100\n",
      "8/8 [==============================] - 0s 223us/step - loss: 0.4456 - acc: 0.7992 - mse: 0.1421\n",
      "Epoch 86/100\n",
      "8/8 [==============================] - 0s 2ms/step - loss: 0.4450 - acc: 0.8020 - mse: 0.1419\n",
      "Epoch 87/100\n",
      "8/8 [==============================] - 0s 2ms/step - loss: 0.4446 - acc: 0.7978 - mse: 0.1418\n",
      "Epoch 88/100\n",
      "8/8 [==============================] - 0s 2ms/step - loss: 0.4443 - acc: 0.8006 - mse: 0.1417\n",
      "Epoch 89/100\n",
      "8/8 [==============================] - 0s 0s/step - loss: 0.4438 - acc: 0.8034 - mse: 0.1414\n",
      "Epoch 90/100\n",
      "8/8 [==============================] - 0s 121us/step - loss: 0.4437 - acc: 0.8034 - mse: 0.1414\n",
      "Epoch 91/100\n",
      "8/8 [==============================] - 0s 2ms/step - loss: 0.4432 - acc: 0.8020 - mse: 0.1412\n",
      "Epoch 92/100\n",
      "8/8 [==============================] - 0s 2ms/step - loss: 0.4430 - acc: 0.8076 - mse: 0.1411\n",
      "Epoch 93/100\n",
      "8/8 [==============================] - 0s 2ms/step - loss: 0.4428 - acc: 0.8076 - mse: 0.1410\n",
      "Epoch 94/100\n",
      "8/8 [==============================] - 0s 2ms/step - loss: 0.4425 - acc: 0.8062 - mse: 0.1409\n",
      "Epoch 95/100\n",
      "8/8 [==============================] - 0s 0s/step - loss: 0.4418 - acc: 0.8048 - mse: 0.1407\n",
      "Epoch 96/100\n",
      "8/8 [==============================] - 0s 0s/step - loss: 0.4416 - acc: 0.8048 - mse: 0.1407\n",
      "Epoch 97/100\n",
      "8/8 [==============================] - 0s 1ms/step - loss: 0.4425 - acc: 0.8006 - mse: 0.1411\n",
      "Epoch 98/100\n",
      "8/8 [==============================] - 0s 725us/step - loss: 0.4423 - acc: 0.8062 - mse: 0.1408\n",
      "Epoch 99/100\n",
      "8/8 [==============================] - 0s 3ms/step - loss: 0.4409 - acc: 0.8090 - mse: 0.1404\n",
      "Epoch 100/100\n",
      "8/8 [==============================] - 0s 1ms/step - loss: 0.4407 - acc: 0.8062 - mse: 0.1403\n"
     ]
    },
    {
     "data": {
      "text/plain": [
       "<keras.callbacks.History at 0x1a9087a1250>"
      ]
     },
     "execution_count": 29,
     "metadata": {},
     "output_type": "execute_result"
    }
   ],
   "source": [
    "model.fit(X_train, y_train, epochs=100,batch_size=100)"
   ]
  },
  {
   "cell_type": "code",
   "execution_count": 30,
   "id": "b3692dd8",
   "metadata": {},
   "outputs": [
    {
     "name": "stdout",
     "output_type": "stream",
     "text": [
      "6/6 [==============================] - 0s 1ms/step - loss: 0.4193 - acc: 0.8212 - mse: 0.1313\n"
     ]
    },
    {
     "data": {
      "text/plain": [
       "[0.419315367937088, 0.8212290406227112, 0.13126371800899506]"
      ]
     },
     "execution_count": 30,
     "metadata": {},
     "output_type": "execute_result"
    }
   ],
   "source": [
    "results = model.evaluate(X_test,y_test)\n",
    "results"
   ]
  },
  {
   "cell_type": "code",
   "execution_count": 31,
   "id": "f3af0ac8",
   "metadata": {},
   "outputs": [
    {
     "data": {
      "text/html": [
       "<div>\n",
       "<style scoped>\n",
       "    .dataframe tbody tr th:only-of-type {\n",
       "        vertical-align: middle;\n",
       "    }\n",
       "\n",
       "    .dataframe tbody tr th {\n",
       "        vertical-align: top;\n",
       "    }\n",
       "\n",
       "    .dataframe thead th {\n",
       "        text-align: right;\n",
       "    }\n",
       "</style>\n",
       "<table border=\"1\" class=\"dataframe\">\n",
       "  <thead>\n",
       "    <tr style=\"text-align: right;\">\n",
       "      <th></th>\n",
       "      <th>PassengerId</th>\n",
       "      <th>Survived</th>\n",
       "      <th>Pclass</th>\n",
       "      <th>Sex</th>\n",
       "      <th>Age</th>\n",
       "      <th>SibSp</th>\n",
       "      <th>Parch</th>\n",
       "      <th>Fare</th>\n",
       "    </tr>\n",
       "  </thead>\n",
       "  <tbody>\n",
       "    <tr>\n",
       "      <th>0</th>\n",
       "      <td>1</td>\n",
       "      <td>0</td>\n",
       "      <td>3</td>\n",
       "      <td>0</td>\n",
       "      <td>22.0</td>\n",
       "      <td>1</td>\n",
       "      <td>0</td>\n",
       "      <td>7.2500</td>\n",
       "    </tr>\n",
       "    <tr>\n",
       "      <th>1</th>\n",
       "      <td>2</td>\n",
       "      <td>1</td>\n",
       "      <td>1</td>\n",
       "      <td>1</td>\n",
       "      <td>38.0</td>\n",
       "      <td>1</td>\n",
       "      <td>0</td>\n",
       "      <td>71.2833</td>\n",
       "    </tr>\n",
       "    <tr>\n",
       "      <th>2</th>\n",
       "      <td>3</td>\n",
       "      <td>1</td>\n",
       "      <td>3</td>\n",
       "      <td>1</td>\n",
       "      <td>26.0</td>\n",
       "      <td>0</td>\n",
       "      <td>0</td>\n",
       "      <td>7.9250</td>\n",
       "    </tr>\n",
       "  </tbody>\n",
       "</table>\n",
       "</div>"
      ],
      "text/plain": [
       "   PassengerId  Survived  Pclass  Sex   Age  SibSp  Parch     Fare\n",
       "0            1         0       3    0  22.0      1      0   7.2500\n",
       "1            2         1       1    1  38.0      1      0  71.2833\n",
       "2            3         1       3    1  26.0      0      0   7.9250"
      ]
     },
     "execution_count": 31,
     "metadata": {},
     "output_type": "execute_result"
    }
   ],
   "source": [
    "df.head(3)"
   ]
  },
  {
   "cell_type": "code",
   "execution_count": 32,
   "id": "b5ff3648",
   "metadata": {},
   "outputs": [],
   "source": [
    "test_x = [\n",
    "    [1,3,0,22.0,1,0,7.25], \n",
    "    [2,1,1,38.0,1,0,71.2833],\n",
    "    [3,3,1,26.0,0,0,7.9250]\n",
    "]\n"
   ]
  },
  {
   "cell_type": "code",
   "execution_count": 33,
   "id": "2795a2c6",
   "metadata": {},
   "outputs": [
    {
     "data": {
      "text/plain": [
       "array([[0.        , 1.        , 0.        , 0.27117366, 0.125     ,\n",
       "        0.        , 0.01415106],\n",
       "       [0.0011236 , 0.        , 1.        , 0.4722292 , 0.125     ,\n",
       "        0.        , 0.13913574],\n",
       "       [0.00224719, 1.        , 1.        , 0.32143755, 0.        ,\n",
       "        0.        , 0.01546857]])"
      ]
     },
     "execution_count": 33,
     "metadata": {},
     "output_type": "execute_result"
    }
   ],
   "source": [
    "test_min_max = min_max_scaler.transform(test_x)\n",
    "\n",
    "test_min_max\n"
   ]
  },
  {
   "cell_type": "code",
   "execution_count": 34,
   "id": "d1461207",
   "metadata": {},
   "outputs": [
    {
     "name": "stdout",
     "output_type": "stream",
     "text": [
      "1/1 [==============================] - 0s 66ms/step\n"
     ]
    },
    {
     "data": {
      "text/plain": [
       "array([[0.11839149],\n",
       "       [0.9541521 ],\n",
       "       [0.5805115 ]], dtype=float32)"
      ]
     },
     "execution_count": 34,
     "metadata": {},
     "output_type": "execute_result"
    }
   ],
   "source": [
    "pred = model.predict( test_min_max )\n",
    "pred"
   ]
  },
  {
   "cell_type": "code",
   "execution_count": 35,
   "id": "d3477e4b",
   "metadata": {},
   "outputs": [
    {
     "name": "stdout",
     "output_type": "stream",
     "text": [
      "0 번째님은 죽었다.\n",
      "1 번째님은 살았다.\n",
      "2 번째님은 살았다.\n"
     ]
    }
   ],
   "source": [
    "for i in range(len(pred)):\n",
    "    if pred[i][0] < 0.5:\n",
    "        print(i,\"번째님은 죽었다.\")\n",
    "    else: \n",
    "        print(i,\"번째님은 살았다.\")"
   ]
  },
  {
   "cell_type": "code",
   "execution_count": null,
   "id": "9d73c319",
   "metadata": {},
   "outputs": [],
   "source": []
  },
  {
   "cell_type": "code",
   "execution_count": null,
   "id": "f411e11e",
   "metadata": {},
   "outputs": [],
   "source": []
  }
 ],
 "metadata": {
  "kernelspec": {
   "display_name": "Python 3 (ipykernel)",
   "language": "python",
   "name": "python3"
  },
  "language_info": {
   "codemirror_mode": {
    "name": "ipython",
    "version": 3
   },
   "file_extension": ".py",
   "mimetype": "text/x-python",
   "name": "python",
   "nbconvert_exporter": "python",
   "pygments_lexer": "ipython3",
   "version": "3.9.13"
  }
 },
 "nbformat": 4,
 "nbformat_minor": 5
}
