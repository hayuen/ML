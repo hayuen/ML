{
 "cells": [
  {
   "cell_type": "markdown",
   "id": "3ff259b8",
   "metadata": {},
   "source": [
    "### 딥러닝\n",
    "* 인공신경망 알고리즘을 사용한다\n",
    "* 머신러닝과 다르게 특성공학(feature engineering)이 필요 없다\n",
    "* 데이터의 양이 많을 경우 성능이 좋아진다\n",
    ">\n",
    "* 딥러닝 알고리즘 종류\n",
    "    - DNN(Deep Neural Network, 심층 신경망)\n",
    "        * 여러개의 은닉층을 가지고 있는 신경망\n",
    "        * 간단한 벡터 데이터를 연산할 때 주로 사용된다\n",
    "    - CNN(Convolution Neural Network, 합성곱신경망)\n",
    "        * 이미지 및 비디오 처리에 주로 사용된다\n",
    "    - RNN(Recurrent Neural Networks, 순환신경망)\n",
    "        * 음성인식, 번역, 글자인식 등 순차적으로 등장하는 데이터 처리에 주로 사용된다\n",
    "        * LSTM\n",
    "            - RNN이 출력과 먼 위치에 있는 정보를 기억할 수 없다는 단점을 보완해서 만든 알고리즘\n",
    "            - 오랜 시간동안 기억하게 된다\n",
    "            - 주로 시계열 또는 자연어 처리에 많이 사용된다\n",
    "        * GRU(Gated Recurrent Unit)\n",
    "            - LSTM의 복잡한 계산을 단순화한 구조\n",
    "            - LSTM보다 학습 속도가 빠르다고 알려져 있지만 여러 평가에서 비슷하다고 함\n",
    "* 전처리\n",
    "    - 머신러닝과 비슷하게 처리한다\n",
    "    - 데이터의 값들을 실수 형태의 0.0 ~ 1.0 사이의 값으로 사용한다"
   ]
  }
 ],
 "metadata": {
  "kernelspec": {
   "display_name": "Python 3 (ipykernel)",
   "language": "python",
   "name": "python3"
  },
  "language_info": {
   "codemirror_mode": {
    "name": "ipython",
    "version": 3
   },
   "file_extension": ".py",
   "mimetype": "text/x-python",
   "name": "python",
   "nbconvert_exporter": "python",
   "pygments_lexer": "ipython3",
   "version": "3.9.13"
  }
 },
 "nbformat": 4,
 "nbformat_minor": 5
}
