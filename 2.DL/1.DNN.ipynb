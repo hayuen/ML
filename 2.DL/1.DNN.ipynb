{
 "cells": [
  {
   "cell_type": "markdown",
   "id": "b1bf96b2",
   "metadata": {},
   "source": [
    "### DNN(Deep Neural Network, 심층 신경망)\n",
    "* 입력층과 출력층 사이에 여러 개의 은닉층들로 이루어진 신경망\n",
    "* 장점\n",
    "    - 예측력이 다른 신경망에 비해 좋다\n",
    "    - 특성공학을 자동으로 수행해 준다. 즉, 변수 선택의 번거로움을 줄여준다\n",
    "    - 데이터의 양이 많아지면 성능이 계속 좋아진다\n",
    "* 단점\n",
    "    - 신경망이 복잡할 경우 시간이 오래 걸린다. 때문에 GPU연산이 필요하다"
   ]
  },
  {
   "cell_type": "markdown",
   "id": "dddbc777",
   "metadata": {},
   "source": [
    "![img](images/1.신경망.png)"
   ]
  },
  {
   "cell_type": "markdown",
   "id": "9f7cc3d9",
   "metadata": {},
   "source": [
    "### 신경망 구조\n",
    "* Input layer(입력층)\n",
    "    - 피처의 개수가 입력층의 뉴럴 개수가 된다\n",
    "* Hidden layer(은닉층)\n",
    "    - 입력층으로 부터 전달 받은 데이터를 연산하는 단계이다\n",
    "    - 은닉층이 많을 수록 유용한 정보를 추출할 수 있다\n",
    "    - 은닉층이 많아 질수록 시간이 오래 걸린다\n",
    "* Output layer(출력층)\n",
    "    - 은닉층에서 연산된 결과값을 도출하는 단계이다"
   ]
  },
  {
   "cell_type": "code",
   "execution_count": 1,
   "id": "36b94a6e",
   "metadata": {},
   "outputs": [
    {
     "name": "stdout",
     "output_type": "stream",
     "text": [
      "train:  [1 2 3 4 5 6 7]\n",
      "test:  [ 8  9 10]\n"
     ]
    }
   ],
   "source": [
    "import numpy as np\n",
    "\n",
    "x = np.arange(1, 11)\n",
    "y = np.arange(1, 11)\n",
    "\n",
    "x_train = x[:7] #1~7\n",
    "y_train = y[:7] #1~7\n",
    "\n",
    "x_test = x[7:] #8~10\n",
    "y_test = y[7:] #8~10\n",
    "\n",
    "print('train: ', x_train)\n",
    "print('test: ', x_test)"
   ]
  },
  {
   "cell_type": "markdown",
   "id": "f30496b0",
   "metadata": {},
   "source": [
    "### 모델 구성하기\n",
    "* Sequential(시퀀쉘)\n",
    "    - 모델 생성 클래스\n",
    "* Dense\n",
    "    - 층 생성시 사용\n",
    "* Activation(활성화 함수)\n",
    "    - 입력층에서 받아온 데이터를 은닉층 또는 출력층에서 연산한 결과를 어떠한 방식으로 처리할지 지정해주는 함수\n",
    "    - 회귀 : 생략 또는 Linear(선형회귀). 생략하면 linear이다\n",
    "    - 이진분류 : sigmoid(0.0 ~ 1.0값)\n",
    "    - 다중분류 : softmax(총 합을 1로 만드는 것)\n",
    "    - 은닉층 : relu(음수는 0으로 만들며 양수 값은 있는 그대로 가져간다)"
   ]
  },
  {
   "cell_type": "code",
   "execution_count": 2,
   "id": "3b196940",
   "metadata": {},
   "outputs": [],
   "source": [
    "# !pip install keras\n",
    "# !pip install tensorflow"
   ]
  },
  {
   "cell_type": "code",
   "execution_count": 3,
   "id": "03004e98",
   "metadata": {},
   "outputs": [],
   "source": [
    "from keras.models import Sequential #모델 생성\n",
    "from keras.layers import Dense, Activation # 층, 활성화 함수"
   ]
  },
  {
   "cell_type": "code",
   "execution_count": 4,
   "id": "39fda2ac",
   "metadata": {},
   "outputs": [],
   "source": [
    "model = Sequential()\n",
    "\n",
    "model.add( Dense(units=128, input_dim=1 )) #넣어줄 데이터 갯수는 128개구요~ 컬럼은 하나입니다~ 입력층\n",
    "model.add( Activation('relu') ) #연산 방법은 렐루입니다~ 은닉층\n",
    "model.add(Dense(units=1)) #결과값을 몇개 뽑아낼거냐 하나로뽑겠습니다~ 출력층\n",
    "model.add( Activation('linear') ) # 바로수치보여줌~\n"
   ]
  },
  {
   "cell_type": "markdown",
   "id": "28dbe97a",
   "metadata": {},
   "source": [
    "### 모델의 성능 개선을 위한 설정\n",
    "* compile\n",
    "    - 각 층에서 설정한 값들의 결과값을 개선해주는 함수\n",
    "    - 파라미터\n",
    "        * loss(손실함수)\n",
    "            - 알고리즘이 주어진 데이터를 얼마나 잘 모델링하였는지를 측정하는 방법\n",
    "            - 실제 값과 예측값의 차이를 수치화 해주는 함수\n",
    "            - 오차가 클 수록 손실 함수의 값이 크고 오차가 작을 수록 수치가 작다\n",
    "            - loss에 적용하는 값(피드백 신호를 정의하는 손실 함수)\n",
    "                - 분류\n",
    "                    * 이진분류 : binary_crossentropy(출력층에서 시그모이드 사용)\n",
    "                    * 다중분류(원-핫 백터인 경우) : categorical_crossentropy(출력층에서 소프트맥스 사용)\n",
    "                    * 다중분류(정수) : sparse_categorical_crossentropy\n",
    "                - 회귀\n",
    "                    * mean_sequared_error(mse) : 이상치가 없는 경우\n",
    "                    * mean_absolute_error(mae) : 이상치가 있는 경우\n",
    "        * optimizer(최적화)\n",
    "            - 성능 개선해주는 기능\n",
    "            - loss(손실)함수에서 피드백을 받고 손실이 작아질때 까지 개선해준다\n",
    "            - 보편적으로 Adam을 가장 많이 사용한다(Adam알고리즘으로 성능 개선)"
   ]
  },
  {
   "cell_type": "markdown",
   "id": "147f88d9",
   "metadata": {},
   "source": [
    "* 손실함수 최적화\n",
    "    * 시작점부터 목적지까지 한 사람이 가고자 한다\n",
    "    * 이때 이 사람이 멈춘곳이 5지점에 멈췄다고 했을 경우 손실(loss)는 5가 된다.\n",
    "    * 그럼 이 사람이 목적지 까지 가기위해서 손실을 최소화하기 위해 수정을 해야 한다\n",
    "    * 보폭을 넖이던지(보폭에 가중치를 부여) 또는 잔걸음으로 좁게 많이 걷던지를 선택해야 한다\n",
    "    * 가중치를 부여했을 경우 어떤 가중치를 부여했을때 가장 좋은 방법이 될지를 결정하는 것이 경사하강법이된다\n",
    ">\n",
    "![img](images/loss.png)"
   ]
  },
  {
   "cell_type": "markdown",
   "id": "bd1a9597",
   "metadata": {},
   "source": [
    "### 경사하강법\n",
    "* 손실(loss)를 최소화하는 가중치(weight)를 찾는 것\n",
    "* 기울기가 0인 지점을 찾는 것\n",
    ">\n",
    "![img](images/경사하강법.png)\n",
    ">\n",
    "* 경사하강법의 문제점\n",
    "> 경사하강법은 기울기가 0인지점을 찾는 방법이 된다. 아래의 그림은 local minimum지점이 0이 되어 경사하강법으로 사용하게 된다면 최저점이 아닌 지점의 경사가 0인지점을 찾게되어 문제가 발생한다\n",
    "![img](images/경사하강법-문제점.png)"
   ]
  },
  {
   "cell_type": "markdown",
   "id": "e2c85c25",
   "metadata": {},
   "source": [
    "* optimizer 경사하강법으로 성능개선하는 알고리즘 선택\n",
    "1. 모멘텀(Momentum)\n",
    "    * 경사가 급할 수록 속도가 붙어 거리를 점점 넓혀가며 이동하게 된다\n",
    "    * 모멘텀 문제점\n",
    "        - 오른쪽 이미지와 같이 거리를 점점 넓게 이동하다보니 Global minimum을 지나치게 되는 경우가 존재하게 되는 문제가 생긴다\n",
    ">\n",
    "![img](images/모멘텀.png)\n",
    ">\n",
    "2. RMSProp\n",
    "    * 경사가 급할경우 거리를 좁게 이동하며, 완만한 경우에는 거리를 넓게 이동한다\n",
    ">\n",
    "![img](images/어뎁티브그래디언트디센트.png)\n",
    ">\n",
    "3. Adam\n",
    "    * Momentum과 RMSProp를 합처놓은 기능으로 최적화된 기법이라고 보면 된다."
   ]
  },
  {
   "cell_type": "code",
   "execution_count": 5,
   "id": "b4ce0d84",
   "metadata": {},
   "outputs": [],
   "source": [
    "model.compile(loss='binary_crossentropy', \n",
    "              optimizer='adam', metrics=['accuracy'])"
   ]
  },
  {
   "cell_type": "markdown",
   "id": "54ea9c5d",
   "metadata": {},
   "source": [
    "### 학습\n",
    "* fit : 학습\n",
    "* fit 파라미터\n",
    "    - epochs : 전체 데이터 반복 학습 회수\n",
    "        * 10이 들어가면 전체 데이터 총 10번 학습\n",
    "        * 반복수고 많을수록 시간이 오래 걸린다\n",
    "        * 반복을 많이하면 과적합(overfitting)이 될 수 있다\n",
    "    - batch_size\n",
    "        * 데이터의 수를 넣으면 해당 데이터의 수가 됐을 경우 새롭게 갱신한다\n",
    "        * 예) 총 10개의 데이터가 있다고 가정 했을 경우 10개의 데이터를 모두 학습 한 후 틀린 문제를 수정하는 것과, 2개씩 데이터를 학습하고 확인하고 문제가 있으면 수정하는 방법이라고 보면 된다.\n",
    "            - 그렇다면 한번에 모든 문제를 학습하고 수정하는 것 보다 2개씩 학습하고 수정하면 조금 더 성능이 좋아지고 또 2개를 풀고 확인하고 수정하고 하는 방식이 더 효율적이 될 수 있다\n",
    "        * batch_size를 작게 하면 연산 시간이 오래 걸린다"
   ]
  },
  {
   "cell_type": "code",
   "execution_count": 6,
   "id": "3f10441c",
   "metadata": {},
   "outputs": [
    {
     "name": "stdout",
     "output_type": "stream",
     "text": [
      "Epoch 1/10\n",
      "7/7 [==============================] - 0s 3ms/step - loss: -11.3908 - accuracy: 0.0000e+00\n",
      "Epoch 2/10\n",
      "7/7 [==============================] - 0s 1ms/step - loss: -25.1881 - accuracy: 0.0000e+00\n",
      "Epoch 3/10\n",
      "7/7 [==============================] - 0s 1ms/step - loss: -33.9320 - accuracy: 0.0000e+00\n",
      "Epoch 4/10\n",
      "7/7 [==============================] - 0s 0s/step - loss: -39.7322 - accuracy: 0.0000e+00\n",
      "Epoch 5/10\n",
      "7/7 [==============================] - 0s 288us/step - loss: -43.5816 - accuracy: 0.0000e+00\n",
      "Epoch 6/10\n",
      "7/7 [==============================] - 0s 3ms/step - loss: -43.6289 - accuracy: 0.0000e+00\n",
      "Epoch 7/10\n",
      "7/7 [==============================] - 0s 2ms/step - loss: -43.6620 - accuracy: 0.1429\n",
      "Epoch 8/10\n",
      "7/7 [==============================] - 0s 0s/step - loss: -43.7074 - accuracy: 0.1429 \n",
      "Epoch 9/10\n",
      "7/7 [==============================] - 0s 3ms/step - loss: -43.7442 - accuracy: 0.1429\n",
      "Epoch 10/10\n",
      "7/7 [==============================] - 0s 2ms/step - loss: -43.7670 - accuracy: 0.1429\n"
     ]
    },
    {
     "data": {
      "text/plain": [
       "<keras.callbacks.History at 0x272cb624d60>"
      ]
     },
     "execution_count": 6,
     "metadata": {},
     "output_type": "execute_result"
    }
   ],
   "source": [
    "model.fit(x_train, y_train, epochs=10, batch_size=1)"
   ]
  },
  {
   "cell_type": "code",
   "execution_count": 7,
   "id": "19f0f6a1",
   "metadata": {},
   "outputs": [
    {
     "name": "stdout",
     "output_type": "stream",
     "text": [
      "1/1 [==============================] - 0s 56ms/step\n"
     ]
    },
    {
     "data": {
      "text/plain": [
       "array([[3.0616758],\n",
       "       [3.4184806],\n",
       "       [3.7752202]], dtype=float32)"
      ]
     },
     "execution_count": 7,
     "metadata": {},
     "output_type": "execute_result"
    }
   ],
   "source": [
    "pred = model.predict(x_test)\n",
    "pred"
   ]
  },
  {
   "cell_type": "markdown",
   "id": "968a27d4",
   "metadata": {},
   "source": [
    "### 전반적인 동작 원리\n",
    "* 데이터의 개수를 입력 받은 은닉층에서 연산을 하여 결과값을 units의 수에 맞게 Activation방식으로 결과를 출력한다.\n",
    "* 연산된 결과값을 출력 층에서 입력받아 입력 받은 값을 units의 수에 맞게 linear방식으로 예측값을 출력한다.\n",
    "* 출력된 예측 결과값과 실제값을 mse방식으로 손실값을 구한다\n",
    "* 손실의 폭을 줄이기 위해 adam방식으로 연산하여 다시 은닉층으로 값을 전달한다.\n",
    "* 위와 같은 방식으로 fit에서 지정한 epochs수 만큼 반복하여 손실값이 점점 줄어들게 되는 과정이다."
   ]
  },
  {
   "cell_type": "markdown",
   "id": "205676f9",
   "metadata": {},
   "source": [
    "![img](images/2.라이프사이클.png)"
   ]
  },
  {
   "cell_type": "code",
   "execution_count": 8,
   "id": "fffd9ac9",
   "metadata": {},
   "outputs": [
    {
     "name": "stdout",
     "output_type": "stream",
     "text": [
      "1/1 [==============================] - 0s 45ms/step\n"
     ]
    },
    {
     "data": {
      "text/plain": [
       "array([[  5.558917],\n",
       "       [ 45.865654],\n",
       "       [114.70574 ]], dtype=float32)"
      ]
     },
     "execution_count": 8,
     "metadata": {},
     "output_type": "execute_result"
    }
   ],
   "source": [
    "pred = model.predict([[15],[128],[321]])\n",
    "pred"
   ]
  },
  {
   "cell_type": "code",
   "execution_count": null,
   "id": "99b23013",
   "metadata": {},
   "outputs": [],
   "source": []
  },
  {
   "cell_type": "code",
   "execution_count": null,
   "id": "bdece641",
   "metadata": {},
   "outputs": [],
   "source": []
  },
  {
   "cell_type": "code",
   "execution_count": null,
   "id": "30ac936d",
   "metadata": {},
   "outputs": [],
   "source": []
  },
  {
   "cell_type": "code",
   "execution_count": null,
   "id": "eea8fc5a",
   "metadata": {},
   "outputs": [],
   "source": []
  },
  {
   "cell_type": "code",
   "execution_count": null,
   "id": "e9cde2a3",
   "metadata": {},
   "outputs": [],
   "source": []
  }
 ],
 "metadata": {
  "kernelspec": {
   "display_name": "Python 3 (ipykernel)",
   "language": "python",
   "name": "python3"
  },
  "language_info": {
   "codemirror_mode": {
    "name": "ipython",
    "version": 3
   },
   "file_extension": ".py",
   "mimetype": "text/x-python",
   "name": "python",
   "nbconvert_exporter": "python",
   "pygments_lexer": "ipython3",
   "version": "3.9.13"
  }
 },
 "nbformat": 4,
 "nbformat_minor": 5
}
