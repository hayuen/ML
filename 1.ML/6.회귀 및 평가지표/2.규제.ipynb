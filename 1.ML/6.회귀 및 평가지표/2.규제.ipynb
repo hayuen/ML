{
 "cells": [
  {
   "cell_type": "markdown",
   "id": "c3fa93b1",
   "metadata": {},
   "source": [
    "### 규제\n",
    "* 학습이 과대적합도는 것을 방지하고자 하는 알고리즘\n",
    "* 라쏘(Lasso)\n",
    "    - L1규제를 추가한 모형\n",
    "    - 영향력이 크지 않은 회귀계수 값을 0으로 만드는 특성이 있다.\n",
    "        * 회귀계수 : 독립변수의 값이 변화함에 따라 종속변수에 미치는 영향력 크기\n",
    "    - alpha를 이용하여 가중치 제어. alpha값에 따라 과적합될 우려가 있다.\n",
    "* 릿지(Ridge)\n",
    "    - L2규제를 추가한 모형\n",
    "    - 계수값을 0이 아닌 작게 만드는 특성이 있다.\n",
    "    - alpha를 이용하여 가중치 제어. alpha값에 따라 과적합될 우려가 있다.\n",
    "* 엘라스틱넷(ElasticNet)\n",
    "    - L1, L2를 함께 결합한 모형\n",
    "    - 피처가 많은 데이터세트에 적용\n",
    "    - L1 규제로 feature의 수를 줄이고 L2규제로 계수값의 크기를 조정\n",
    "    - 파라미터\n",
    "        * alpha : L1규제의 alpha(a) + L2규제의 alpha(b). L1과 L2의 alpha를 합처논 것이다.\n",
    "        * l1_ratio = 0 : 0에 가까워 질수록 L2규제와 동일\n",
    "        * l1_ratio = 1 : 1에 가까워 질수록 L1규제와 동일\n",
    "        * 0 < l1_ratio < 1 : L1과 L2규제를 적절히 적용\n",
    "* 계수 : 계산해서 얻은 값"
   ]
  },
  {
   "cell_type": "code",
   "execution_count": 1,
   "id": "754349ea",
   "metadata": {},
   "outputs": [],
   "source": [
    "import pandas as pd\n",
    "import numpy as np\n",
    "import warnings\n",
    "warnings.filterwarnings('ignore')"
   ]
  },
  {
   "cell_type": "markdown",
   "id": "cfaf0b00",
   "metadata": {},
   "source": [
    "### 데이터 셋 로드"
   ]
  },
  {
   "cell_type": "code",
   "execution_count": 2,
   "id": "c525a674",
   "metadata": {},
   "outputs": [
    {
     "data": {
      "text/plain": [
       "\".. _boston_dataset:\\n\\nBoston house prices dataset\\n---------------------------\\n\\n**Data Set Characteristics:**  \\n\\n    :Number of Instances: 506 \\n\\n    :Number of Attributes: 13 numeric/categorical predictive. Median Value (attribute 14) is usually the target.\\n\\n    :Attribute Information (in order):\\n        - CRIM     per capita crime rate by town\\n        - ZN       proportion of residential land zoned for lots over 25,000 sq.ft.\\n        - INDUS    proportion of non-retail business acres per town\\n        - CHAS     Charles River dummy variable (= 1 if tract bounds river; 0 otherwise)\\n        - NOX      nitric oxides concentration (parts per 10 million)\\n        - RM       average number of rooms per dwelling\\n        - AGE      proportion of owner-occupied units built prior to 1940\\n        - DIS      weighted distances to five Boston employment centres\\n        - RAD      index of accessibility to radial highways\\n        - TAX      full-value property-tax rate per $10,000\\n        - PTRATIO  pupil-teacher ratio by town\\n        - B        1000(Bk - 0.63)^2 where Bk is the proportion of black people by town\\n        - LSTAT    % lower status of the population\\n        - MEDV     Median value of owner-occupied homes in $1000's\\n\\n    :Missing Attribute Values: None\\n\\n    :Creator: Harrison, D. and Rubinfeld, D.L.\\n\\nThis is a copy of UCI ML housing dataset.\\nhttps://archive.ics.uci.edu/ml/machine-learning-databases/housing/\\n\\n\\nThis dataset was taken from the StatLib library which is maintained at Carnegie Mellon University.\\n\\nThe Boston house-price data of Harrison, D. and Rubinfeld, D.L. 'Hedonic\\nprices and the demand for clean air', J. Environ. Economics & Management,\\nvol.5, 81-102, 1978.   Used in Belsley, Kuh & Welsch, 'Regression diagnostics\\n...', Wiley, 1980.   N.B. Various transformations are used in the table on\\npages 244-261 of the latter.\\n\\nThe Boston house-price data has been used in many machine learning papers that address regression\\nproblems.   \\n     \\n.. topic:: References\\n\\n   - Belsley, Kuh & Welsch, 'Regression diagnostics: Identifying Influential Data and Sources of Collinearity', Wiley, 1980. 244-261.\\n   - Quinlan,R. (1993). Combining Instance-Based and Model-Based Learning. In Proceedings on the Tenth International Conference of Machine Learning, 236-243, University of Massachusetts, Amherst. Morgan Kaufmann.\\n\""
      ]
     },
     "execution_count": 2,
     "metadata": {},
     "output_type": "execute_result"
    }
   ],
   "source": [
    "from sklearn.datasets import load_boston\n",
    "data = load_boston()\n",
    "data['DESCR'] #데이터 셋 정보"
   ]
  },
  {
   "cell_type": "code",
   "execution_count": 3,
   "id": "4e82b690",
   "metadata": {},
   "outputs": [
    {
     "data": {
      "text/html": [
       "<div>\n",
       "<style scoped>\n",
       "    .dataframe tbody tr th:only-of-type {\n",
       "        vertical-align: middle;\n",
       "    }\n",
       "\n",
       "    .dataframe tbody tr th {\n",
       "        vertical-align: top;\n",
       "    }\n",
       "\n",
       "    .dataframe thead th {\n",
       "        text-align: right;\n",
       "    }\n",
       "</style>\n",
       "<table border=\"1\" class=\"dataframe\">\n",
       "  <thead>\n",
       "    <tr style=\"text-align: right;\">\n",
       "      <th></th>\n",
       "      <th>CRIM</th>\n",
       "      <th>ZN</th>\n",
       "      <th>INDUS</th>\n",
       "      <th>CHAS</th>\n",
       "      <th>NOX</th>\n",
       "      <th>RM</th>\n",
       "      <th>AGE</th>\n",
       "      <th>DIS</th>\n",
       "      <th>RAD</th>\n",
       "      <th>TAX</th>\n",
       "      <th>PTRATIO</th>\n",
       "      <th>B</th>\n",
       "      <th>LSTAT</th>\n",
       "      <th>PRICE</th>\n",
       "    </tr>\n",
       "  </thead>\n",
       "  <tbody>\n",
       "    <tr>\n",
       "      <th>0</th>\n",
       "      <td>0.00632</td>\n",
       "      <td>18.0</td>\n",
       "      <td>2.31</td>\n",
       "      <td>0.0</td>\n",
       "      <td>0.538</td>\n",
       "      <td>6.575</td>\n",
       "      <td>65.2</td>\n",
       "      <td>4.0900</td>\n",
       "      <td>1.0</td>\n",
       "      <td>296.0</td>\n",
       "      <td>15.3</td>\n",
       "      <td>396.90</td>\n",
       "      <td>4.98</td>\n",
       "      <td>24.0</td>\n",
       "    </tr>\n",
       "    <tr>\n",
       "      <th>1</th>\n",
       "      <td>0.02731</td>\n",
       "      <td>0.0</td>\n",
       "      <td>7.07</td>\n",
       "      <td>0.0</td>\n",
       "      <td>0.469</td>\n",
       "      <td>6.421</td>\n",
       "      <td>78.9</td>\n",
       "      <td>4.9671</td>\n",
       "      <td>2.0</td>\n",
       "      <td>242.0</td>\n",
       "      <td>17.8</td>\n",
       "      <td>396.90</td>\n",
       "      <td>9.14</td>\n",
       "      <td>21.6</td>\n",
       "    </tr>\n",
       "    <tr>\n",
       "      <th>2</th>\n",
       "      <td>0.02729</td>\n",
       "      <td>0.0</td>\n",
       "      <td>7.07</td>\n",
       "      <td>0.0</td>\n",
       "      <td>0.469</td>\n",
       "      <td>7.185</td>\n",
       "      <td>61.1</td>\n",
       "      <td>4.9671</td>\n",
       "      <td>2.0</td>\n",
       "      <td>242.0</td>\n",
       "      <td>17.8</td>\n",
       "      <td>392.83</td>\n",
       "      <td>4.03</td>\n",
       "      <td>34.7</td>\n",
       "    </tr>\n",
       "    <tr>\n",
       "      <th>3</th>\n",
       "      <td>0.03237</td>\n",
       "      <td>0.0</td>\n",
       "      <td>2.18</td>\n",
       "      <td>0.0</td>\n",
       "      <td>0.458</td>\n",
       "      <td>6.998</td>\n",
       "      <td>45.8</td>\n",
       "      <td>6.0622</td>\n",
       "      <td>3.0</td>\n",
       "      <td>222.0</td>\n",
       "      <td>18.7</td>\n",
       "      <td>394.63</td>\n",
       "      <td>2.94</td>\n",
       "      <td>33.4</td>\n",
       "    </tr>\n",
       "    <tr>\n",
       "      <th>4</th>\n",
       "      <td>0.06905</td>\n",
       "      <td>0.0</td>\n",
       "      <td>2.18</td>\n",
       "      <td>0.0</td>\n",
       "      <td>0.458</td>\n",
       "      <td>7.147</td>\n",
       "      <td>54.2</td>\n",
       "      <td>6.0622</td>\n",
       "      <td>3.0</td>\n",
       "      <td>222.0</td>\n",
       "      <td>18.7</td>\n",
       "      <td>396.90</td>\n",
       "      <td>5.33</td>\n",
       "      <td>36.2</td>\n",
       "    </tr>\n",
       "  </tbody>\n",
       "</table>\n",
       "</div>"
      ],
      "text/plain": [
       "      CRIM    ZN  INDUS  CHAS    NOX     RM   AGE     DIS  RAD    TAX  \\\n",
       "0  0.00632  18.0   2.31   0.0  0.538  6.575  65.2  4.0900  1.0  296.0   \n",
       "1  0.02731   0.0   7.07   0.0  0.469  6.421  78.9  4.9671  2.0  242.0   \n",
       "2  0.02729   0.0   7.07   0.0  0.469  7.185  61.1  4.9671  2.0  242.0   \n",
       "3  0.03237   0.0   2.18   0.0  0.458  6.998  45.8  6.0622  3.0  222.0   \n",
       "4  0.06905   0.0   2.18   0.0  0.458  7.147  54.2  6.0622  3.0  222.0   \n",
       "\n",
       "   PTRATIO       B  LSTAT  PRICE  \n",
       "0     15.3  396.90   4.98   24.0  \n",
       "1     17.8  396.90   9.14   21.6  \n",
       "2     17.8  392.83   4.03   34.7  \n",
       "3     18.7  394.63   2.94   33.4  \n",
       "4     18.7  396.90   5.33   36.2  "
      ]
     },
     "execution_count": 3,
     "metadata": {},
     "output_type": "execute_result"
    }
   ],
   "source": [
    "df = pd.DataFrame(data['data'], columns=data['feature_names'])\n",
    "df['PRICE'] = data['target']\n",
    "df.head()"
   ]
  },
  {
   "cell_type": "markdown",
   "id": "7b42f5c8",
   "metadata": {},
   "source": [
    "### train, test셋 분리"
   ]
  },
  {
   "cell_type": "code",
   "execution_count": 4,
   "id": "d010656f",
   "metadata": {},
   "outputs": [],
   "source": [
    "from sklearn.model_selection import train_test_split\n",
    "\n",
    "y = df['PRICE']\n",
    "X = df.drop(['PRICE'], axis=1)\n",
    "\n",
    "X_train, X_test, y_train, y_test = \\\n",
    "                            train_test_split(X,y, test_size = 0.3, random_state=62)"
   ]
  },
  {
   "cell_type": "code",
   "execution_count": 5,
   "id": "aa3d22a2",
   "metadata": {},
   "outputs": [
    {
     "data": {
      "text/plain": [
       "((354, 13), (152, 13))"
      ]
     },
     "execution_count": 5,
     "metadata": {},
     "output_type": "execute_result"
    }
   ],
   "source": [
    "X_train.shape, X_test.shape"
   ]
  },
  {
   "cell_type": "markdown",
   "id": "b1607346",
   "metadata": {},
   "source": [
    "### Lasso(L1) 모델 생성\n"
   ]
  },
  {
   "cell_type": "code",
   "execution_count": 6,
   "id": "97413b7a",
   "metadata": {},
   "outputs": [
    {
     "name": "stdout",
     "output_type": "stream",
     "text": [
      "test :  0.7315170233570516 mse :  24.24600967947954\n",
      "train :  0.7248696715438718 mse :  22.46812664143133\n"
     ]
    }
   ],
   "source": [
    "from sklearn.metrics import mean_squared_error\n",
    "from sklearn.linear_model import Lasso\n",
    "\n",
    "lasso = Lasso(alpha = 0.07)\n",
    "lasso.fit(X_train, y_train)\n",
    "train_pred = lasso.predict(X_train)\n",
    "test_pred = lasso.predict(X_test)\n",
    "\n",
    "print(\"test : \", lasso.score(X_test, y_test),\n",
    "     'mse : ', mean_squared_error(y_test, test_pred))\n",
    "\n",
    "print(\"train : \", lasso.score(X_train, y_train),\n",
    "     'mse : ', mean_squared_error(y_train, train_pred))"
   ]
  },
  {
   "cell_type": "markdown",
   "id": "03299656",
   "metadata": {},
   "source": [
    "### 하이퍼 파라미터 및 그리드서치"
   ]
  },
  {
   "cell_type": "code",
   "execution_count": 20,
   "id": "e267e4f4",
   "metadata": {},
   "outputs": [
    {
     "name": "stdout",
     "output_type": "stream",
     "text": [
      "alpha :  0.07\n",
      "train score :  0.7248696715438718 mse :  22.46812664143133\n",
      "test score :  0.7315170233570516 mse :  24.24600967947954\n",
      "============\n",
      "alpha :  0.1\n",
      "train score :  0.7237532819130617 mse :  22.559295011516067\n",
      "test score :  0.7319784944128576 mse :  24.20433541086938\n",
      "============\n",
      "alpha :  0.5\n",
      "train score :  0.7064351942782625 mse :  23.9735519869266\n",
      "test score :  0.7214728619622657 mse :  25.15307215861802\n",
      "============\n",
      "alpha :  1.3\n",
      "train score :  0.6481352834449008 mse :  28.73453121861824\n",
      "test score :  0.6623076594679015 mse :  30.496129995295945\n",
      "============\n",
      "alpha :  2\n",
      "train score :  0.6196354069647545 mse :  31.061933063461336\n",
      "test score :  0.6385534109506746 mse :  32.641315312737454\n",
      "============\n"
     ]
    }
   ],
   "source": [
    "alphas = [0.07, 0.1, 0.5, 1.3, 2]\n",
    "for alpha in alphas : \n",
    "    lasso = Lasso(alpha=alpha)\n",
    "    lasso.fit(X_train, y_train)\n",
    "    \n",
    "    train_pred = lasso.predict(X_train)\n",
    "    test_pred = lasso.predict(X_test)\n",
    "    \n",
    "    train_score = lasso.score(X_train, y_train)\n",
    "    test_score = lasso.score(X_test, y_test)\n",
    "    train_mse = mean_squared_error(y_train, train_pred)\n",
    "    test_mse = mean_squared_error(y_test, test_pred)\n",
    "    \n",
    "    print('alpha : ', alpha, )\n",
    "    print('train score : ',train_score, 'mse : ',train_mse)\n",
    "    print('test score : ',test_score, 'mse : ',test_mse) \n",
    "    print('============')"
   ]
  },
  {
   "cell_type": "code",
   "execution_count": 10,
   "id": "27650358",
   "metadata": {},
   "outputs": [
    {
     "name": "stdout",
     "output_type": "stream",
     "text": [
      "최적의 하이퍼 파라미터 :  {'alpha': 0.07}\n",
      "train :  0.7248696715438718\n",
      "test :  0.7315170233570516\n"
     ]
    }
   ],
   "source": [
    "from sklearn.model_selection import GridSearchCV\n",
    "params = {'alpha': [0.07, 0.1, 0.5, 1.3, 2]}\n",
    "\n",
    "lasso = Lasso()\n",
    "grid_cv = GridSearchCV(lasso, param_grid=params, cv=5, n_jobs=-1)\n",
    "\n",
    "grid_cv.fit(X_train, y_train)\n",
    "\n",
    "print('최적의 하이퍼 파라미터 : ', grid_cv.best_params_)\n",
    "print('train : ',grid_cv.score(X_train, y_train))\n",
    "print('test : ',grid_cv.score(X_test, y_test))\n",
    "\n"
   ]
  },
  {
   "cell_type": "markdown",
   "id": "6d9bfe1f",
   "metadata": {},
   "source": [
    "### 영향력이 적은 회귀계수값 확인\n",
    "* 회귀계수값은 coef_ 변수에 저장되어있다."
   ]
  },
  {
   "cell_type": "code",
   "execution_count": 15,
   "id": "f61ca2c7",
   "metadata": {
    "scrolled": true
   },
   "outputs": [
    {
     "name": "stdout",
     "output_type": "stream",
     "text": [
      "Index(['CRIM', 'ZN', 'INDUS', 'CHAS', 'NOX', 'RM', 'AGE', 'DIS', 'RAD', 'TAX',\n",
      "       'PTRATIO', 'B', 'LSTAT'],\n",
      "      dtype='object')\n"
     ]
    },
    {
     "data": {
      "text/plain": [
       "array([-0.10166253,  0.04797193, -0.02495535,  2.27344937, -0.        ,\n",
       "        3.64086796, -0.01396383, -1.21125038,  0.2190226 , -0.01217624,\n",
       "       -0.77323459,  0.00771795, -0.57778092])"
      ]
     },
     "execution_count": 15,
     "metadata": {},
     "output_type": "execute_result"
    }
   ],
   "source": [
    "lasso = Lasso(alpha =0.07)\n",
    "lasso.fit(X_train,y_train)\n",
    "print(X_train.columns)\n",
    "lasso.coef_"
   ]
  },
  {
   "cell_type": "markdown",
   "id": "661ed01b",
   "metadata": {},
   "source": [
    "### Ridge( L2 ) 모델생성\n",
    "* 회귀계수 값을 0이 아닌 작게 만드는 특성\n",
    "### 하이퍼파라미터 및 GridSearchCV"
   ]
  },
  {
   "cell_type": "code",
   "execution_count": 16,
   "id": "278bb15f",
   "metadata": {},
   "outputs": [],
   "source": [
    "from sklearn.linear_model import Ridge\n",
    "\n",
    "alphas = [0.01, 0.1, 1, 10, 100]"
   ]
  },
  {
   "cell_type": "code",
   "execution_count": 19,
   "id": "b5f899ac",
   "metadata": {},
   "outputs": [
    {
     "name": "stdout",
     "output_type": "stream",
     "text": [
      "alpha :  0.01\n",
      "train score :  0.7346764750602819 mse :  21.667267991675196\n",
      "test score :  0.7479396123757658 mse :  22.762927745240564\n",
      "============\n",
      "alpha :  0.1\n",
      "train score :  0.7346066990135265 mse :  21.672966153211355\n",
      "test score :  0.7471900208389715 mse :  22.830621436229922\n",
      "============\n",
      "alpha :  1\n",
      "train score :  0.7325079915460022 mse :  21.844354111159326\n",
      "test score :  0.7415374169631822 mse :  23.341093608433663\n",
      "============\n",
      "alpha :  10\n",
      "train score :  0.7263040676657218 mse :  22.35098872391948\n",
      "test score :  0.7334265758857685 mse :  24.07356288350886\n",
      "============\n",
      "alpha :  100\n",
      "train score :  0.707472496673353 mse :  23.888842163370867\n",
      "test score :  0.7186488673320299 mse :  25.408099877677298\n",
      "============\n"
     ]
    }
   ],
   "source": [
    "for alpha in alphas : \n",
    "    lasso = Ridge(alpha=alpha)\n",
    "    lasso.fit(X_train, y_train)\n",
    "    \n",
    "    train_pred = lasso.predict(X_train)\n",
    "    test_pred = lasso.predict(X_test)\n",
    "    \n",
    "    train_score = lasso.score(X_train, y_train)\n",
    "    test_score = lasso.score(X_test, y_test)\n",
    "    train_mse = mean_squared_error(y_train, train_pred)\n",
    "    test_mse = mean_squared_error(y_test, test_pred)\n",
    "    \n",
    "    print('alpha : ', alpha, )\n",
    "    print('train score : ',train_score, 'mse : ',train_mse)\n",
    "    print('test score : ',test_score, 'mse : ',test_mse) \n",
    "    print('============')\n"
   ]
  },
  {
   "cell_type": "code",
   "execution_count": 21,
   "id": "2d525ddb",
   "metadata": {},
   "outputs": [
    {
     "name": "stdout",
     "output_type": "stream",
     "text": [
      "최적의 하이퍼 파라미터 :  {'alpha': 0.01}\n",
      "train :  0.7346764750602819\n",
      "test :  0.7479396123757658\n"
     ]
    }
   ],
   "source": [
    "from sklearn.model_selection import GridSearchCV\n",
    "params = {'alpha': [0.01, 0.1, 1, 10, 100]}\n",
    "\n",
    "ridge = Ridge()\n",
    "grid_cv = GridSearchCV(ridge, param_grid=params, cv=5, n_jobs=-1)\n",
    "\n",
    "grid_cv.fit(X_train, y_train)\n",
    "\n",
    "print('최적의 하이퍼 파라미터 : ', grid_cv.best_params_)\n",
    "print('train : ',grid_cv.score(X_train, y_train))\n",
    "print('test : ',grid_cv.score(X_test, y_test))\n"
   ]
  },
  {
   "cell_type": "code",
   "execution_count": 23,
   "id": "2c5743f8",
   "metadata": {},
   "outputs": [
    {
     "name": "stdout",
     "output_type": "stream",
     "text": [
      "Index(['CRIM', 'ZN', 'INDUS', 'CHAS', 'NOX', 'RM', 'AGE', 'DIS', 'RAD', 'TAX',\n",
      "       'PTRATIO', 'B', 'LSTAT'],\n",
      "      dtype='object')\n"
     ]
    },
    {
     "data": {
      "text/plain": [
       "array([-1.11737208e-01,  4.44769908e-02,  2.72343147e-02,  3.19935163e+00,\n",
       "       -1.56424780e+01,  3.70108235e+00, -3.40152534e-03, -1.46034656e+00,\n",
       "        2.60073435e-01, -1.09004395e-02, -9.30784278e-01,  7.51138791e-03,\n",
       "       -5.34889305e-01])"
      ]
     },
     "execution_count": 23,
     "metadata": {},
     "output_type": "execute_result"
    }
   ],
   "source": [
    "ridge= Ridge(alpha =0.01)\n",
    "ridge.fit(X_train,y_train)\n",
    "print(X_train.columns)\n",
    "ridge.coef_"
   ]
  },
  {
   "cell_type": "markdown",
   "id": "4053e47c",
   "metadata": {},
   "source": [
    "### ElasticNet\n",
    "* l1, l2 를 함께 결합한 모형\n",
    "* l1_ratto\n",
    "    - 0에 가까울 수록 l2 (릿지)\n",
    "    - 1에 가까울 수록 l1 (랏소)"
   ]
  },
  {
   "cell_type": "code",
   "execution_count": 24,
   "id": "4c7cec2f",
   "metadata": {},
   "outputs": [],
   "source": [
    "from sklearn.linear_model import ElasticNet\n",
    "\n",
    "ratios = [0.2,0.5,0.8]\n",
    "alphas = [0.1,0.7,1.5]"
   ]
  },
  {
   "cell_type": "code",
   "execution_count": 25,
   "id": "137cba09",
   "metadata": {},
   "outputs": [
    {
     "name": "stdout",
     "output_type": "stream",
     "text": [
      "alpha :  0.1 ratio :  0.2\n",
      "train score :  0.7204973693611653 mse :  22.82518447546551\n",
      "test score :  0.7296547702305272 mse :  24.41418498763473\n",
      "============\n",
      "alpha :  0.1 ratio :  0.5\n",
      "train score :  0.7214541237372115 mse :  22.74705249122961\n",
      "test score :  0.7303225463424128 mse :  24.35387983803101\n",
      "============\n",
      "alpha :  0.1 ratio :  0.8\n",
      "train score :  0.7228141466531166 mse :  22.63598815571533\n",
      "test score :  0.7314335443018998 mse :  24.253548459049664\n",
      "============\n",
      "alpha :  0.7 ratio :  0.2\n",
      "train score :  0.6901739272760627 mse :  25.301505209698316\n",
      "test score :  0.7035669872214132 mse :  26.77010582576043\n",
      "============\n",
      "alpha :  0.7 ratio :  0.5\n",
      "train score :  0.6902294842780352 mse :  25.29696822621438\n",
      "test score :  0.7043923079947568 mse :  26.695573221461366\n",
      "============\n",
      "alpha :  0.7 ratio :  0.8\n",
      "train score :  0.692424964353938 mse :  25.117677470953314\n",
      "test score :  0.7065509814240449 mse :  26.500628955289283\n",
      "============\n",
      "alpha :  1.5 ratio :  0.2\n",
      "train score :  0.6690866533323439 mse :  27.023567419810416\n",
      "test score :  0.6852820138548638 mse :  28.421374918414944\n",
      "============\n",
      "alpha :  1.5 ratio :  0.5\n",
      "train score :  0.662740310310026 mse :  27.541832489079727\n",
      "test score :  0.678490529028231 mse :  29.034696511104084\n",
      "============\n",
      "alpha :  1.5 ratio :  0.8\n",
      "train score :  0.6492744660732095 mse :  28.64150149083729\n",
      "test score :  0.6645128307179426 mse :  30.296986630074272\n",
      "============\n"
     ]
    }
   ],
   "source": [
    "for alpha in alphas : \n",
    "    for ratio in ratios: \n",
    "        el = ElasticNet(alpha=alpha, l1_ratio = ratio)\n",
    "        el.fit(X_train, y_train)\n",
    "        \n",
    "        train_pred = el.predict(X_train)\n",
    "        test_pred = el.predict(X_test)\n",
    "\n",
    "        train_score = el.score(X_train, y_train)\n",
    "        test_score = el.score(X_test, y_test)\n",
    "        \n",
    "        train_mse = mean_squared_error(y_train, train_pred)\n",
    "        test_mse = mean_squared_error(y_test, test_pred)\n",
    "        \n",
    "        \n",
    "        print('alpha : ', alpha, 'ratio : ',ratio)\n",
    "        print('train score : ',train_score, 'mse : ',train_mse)\n",
    "        print('test score : ',test_score, 'mse : ',test_mse) \n",
    "        print('============')"
   ]
  },
  {
   "cell_type": "code",
   "execution_count": 27,
   "id": "ee1e2da0",
   "metadata": {},
   "outputs": [
    {
     "name": "stdout",
     "output_type": "stream",
     "text": [
      "최적의 하이퍼 파라미터 :  {'alpha': 0.001, 'l1_ratio': 0.8}\n",
      "train :  0.7346180073100931\n",
      "test :  0.747286425699128\n"
     ]
    }
   ],
   "source": [
    "params = {'l1_ratio':[0.2, 0.5, 0.8],\n",
    "           'alpha': [0.001 ,0.1, 0.7]}\n",
    "\n",
    "el = ElasticNet()\n",
    "grid_cv = GridSearchCV(el, param_grid=params, cv=5, n_jobs=-1)\n",
    "\n",
    "grid_cv.fit(X_train, y_train)\n",
    "\n",
    "print('최적의 하이퍼 파라미터 : ', grid_cv.best_params_)\n",
    "print('train : ',grid_cv.score(X_train, y_train))\n",
    "print('test : ',grid_cv.score(X_test, y_test))\n"
   ]
  }
 ],
 "metadata": {
  "kernelspec": {
   "display_name": "Python 3 (ipykernel)",
   "language": "python",
   "name": "python3"
  },
  "language_info": {
   "codemirror_mode": {
    "name": "ipython",
    "version": 3
   },
   "file_extension": ".py",
   "mimetype": "text/x-python",
   "name": "python",
   "nbconvert_exporter": "python",
   "pygments_lexer": "ipython3",
   "version": "3.9.13"
  }
 },
 "nbformat": 4,
 "nbformat_minor": 5
}
