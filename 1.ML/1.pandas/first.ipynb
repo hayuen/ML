{
 "cells": [
  {
   "cell_type": "code",
   "execution_count": 1,
   "id": "c0d43a56",
   "metadata": {},
   "outputs": [
    {
     "name": "stdout",
     "output_type": "stream",
     "text": [
      "매에에에에롱 매에에에에에엥롱 매레에메에에에롱 메롱메롱메래애롱매롱래몰\n"
     ]
    }
   ],
   "source": [
    "print(\"매에에에에롱 매에에에에에엥롱 매레에메에에에롱 메롱메롱메래애롱매롱래몰\")"
   ]
  },
  {
   "cell_type": "code",
   "execution_count": 2,
   "id": "8dce8e36",
   "metadata": {},
   "outputs": [],
   "source": [
    "def a():\n",
    "    print(\"바아아아아보래요 응애 나 아무것도 몰라 더 알려 줘 ! 더 지식을 내놔!\")"
   ]
  },
  {
   "cell_type": "code",
   "execution_count": 3,
   "id": "98c60efe",
   "metadata": {},
   "outputs": [
    {
     "name": "stdout",
     "output_type": "stream",
     "text": [
      "바아아아아보래요 응애 나 아무것도 몰라 더 알려 줘 ! 더 지식을 내놔!\n"
     ]
    }
   ],
   "source": [
    "a();"
   ]
  },
  {
   "cell_type": "markdown",
   "id": "e340d1c6",
   "metadata": {},
   "source": [
    "# 안녕하세요\n",
    "## 안녕하세요\n",
    "### 안녕하세요\n",
    "#### 안녕하세요\n",
    "* 내용\n",
    "    * 내용의 내용\n",
    "    - 내용의 내용\n",
    "- 바 내용\n",
    "> 들여쓰기\n"
   ]
  },
  {
   "cell_type": "code",
   "execution_count": null,
   "id": "7826bd74",
   "metadata": {},
   "outputs": [],
   "source": []
  },
  {
   "cell_type": "code",
   "execution_count": null,
   "id": "2cc56f1b",
   "metadata": {},
   "outputs": [],
   "source": []
  },
  {
   "cell_type": "code",
   "execution_count": null,
   "id": "be1a1b93",
   "metadata": {},
   "outputs": [],
   "source": []
  },
  {
   "cell_type": "markdown",
   "id": "037f34ee",
   "metadata": {},
   "source": [
    "안녕하세요"
   ]
  }
 ],
 "metadata": {
  "kernelspec": {
   "display_name": "Python 3 (ipykernel)",
   "language": "python",
   "name": "python3"
  },
  "language_info": {
   "codemirror_mode": {
    "name": "ipython",
    "version": 3
   },
   "file_extension": ".py",
   "mimetype": "text/x-python",
   "name": "python",
   "nbconvert_exporter": "python",
   "pygments_lexer": "ipython3",
   "version": "3.9.13"
  }
 },
 "nbformat": 4,
 "nbformat_minor": 5
}
