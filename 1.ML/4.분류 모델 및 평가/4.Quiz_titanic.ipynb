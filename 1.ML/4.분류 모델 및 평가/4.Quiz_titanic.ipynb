{
 "cells": [
  {
   "cell_type": "markdown",
   "id": "5e82c669",
   "metadata": {},
   "source": [
    "### titanic 예측\n",
    "* titanic_cleaning.csv 파일을 불러와서 진행하시오.\n",
    "* PassengerId는 순차적인 번호이므로 제외하고 진행하시오\n",
    "* train, test 80:20으로 진행하시오\n",
    "* 여러가지 모델을 생성 후 최적의 모델을 이용하시오\n",
    "* 최적의 모델을 찾고 자신이 탑승했을 경우 인적사항을 넣고 결과를 예측하시오\n",
    ">\n",
    "* 컬럼\n",
    "    - PassengerId : 고객 번호\n",
    "    - Survived : 0이면 사망, 1이면 생존\n",
    "    - Pclass : 티켓 등급 : 1, 2, 3\n",
    "    - Sex : 성별, 0.남성, 1.여성\n",
    "    - Age : 나이\n",
    "    - SibSp : 형제, 자매, 배우자의 합\n",
    "    - Parch : 부모, 자식의 합\n",
    "    - Fare : 요금"
   ]
  },
  {
   "cell_type": "code",
   "execution_count": 1,
   "id": "b1a6144c",
   "metadata": {},
   "outputs": [
    {
     "data": {
      "text/html": [
       "<div>\n",
       "<style scoped>\n",
       "    .dataframe tbody tr th:only-of-type {\n",
       "        vertical-align: middle;\n",
       "    }\n",
       "\n",
       "    .dataframe tbody tr th {\n",
       "        vertical-align: top;\n",
       "    }\n",
       "\n",
       "    .dataframe thead th {\n",
       "        text-align: right;\n",
       "    }\n",
       "</style>\n",
       "<table border=\"1\" class=\"dataframe\">\n",
       "  <thead>\n",
       "    <tr style=\"text-align: right;\">\n",
       "      <th></th>\n",
       "      <th>PassengerId</th>\n",
       "      <th>Survived</th>\n",
       "      <th>Pclass</th>\n",
       "      <th>Sex</th>\n",
       "      <th>Age</th>\n",
       "      <th>SibSp</th>\n",
       "      <th>Parch</th>\n",
       "      <th>Fare</th>\n",
       "    </tr>\n",
       "  </thead>\n",
       "  <tbody>\n",
       "    <tr>\n",
       "      <th>0</th>\n",
       "      <td>1</td>\n",
       "      <td>0</td>\n",
       "      <td>3</td>\n",
       "      <td>0</td>\n",
       "      <td>22.0</td>\n",
       "      <td>1</td>\n",
       "      <td>0</td>\n",
       "      <td>7.2500</td>\n",
       "    </tr>\n",
       "    <tr>\n",
       "      <th>1</th>\n",
       "      <td>2</td>\n",
       "      <td>1</td>\n",
       "      <td>1</td>\n",
       "      <td>1</td>\n",
       "      <td>38.0</td>\n",
       "      <td>1</td>\n",
       "      <td>0</td>\n",
       "      <td>71.2833</td>\n",
       "    </tr>\n",
       "    <tr>\n",
       "      <th>2</th>\n",
       "      <td>3</td>\n",
       "      <td>1</td>\n",
       "      <td>3</td>\n",
       "      <td>1</td>\n",
       "      <td>26.0</td>\n",
       "      <td>0</td>\n",
       "      <td>0</td>\n",
       "      <td>7.9250</td>\n",
       "    </tr>\n",
       "    <tr>\n",
       "      <th>3</th>\n",
       "      <td>4</td>\n",
       "      <td>1</td>\n",
       "      <td>1</td>\n",
       "      <td>1</td>\n",
       "      <td>35.0</td>\n",
       "      <td>1</td>\n",
       "      <td>0</td>\n",
       "      <td>53.1000</td>\n",
       "    </tr>\n",
       "    <tr>\n",
       "      <th>4</th>\n",
       "      <td>5</td>\n",
       "      <td>0</td>\n",
       "      <td>3</td>\n",
       "      <td>0</td>\n",
       "      <td>35.0</td>\n",
       "      <td>0</td>\n",
       "      <td>0</td>\n",
       "      <td>8.0500</td>\n",
       "    </tr>\n",
       "  </tbody>\n",
       "</table>\n",
       "</div>"
      ],
      "text/plain": [
       "   PassengerId  Survived  Pclass  Sex   Age  SibSp  Parch     Fare\n",
       "0            1         0       3    0  22.0      1      0   7.2500\n",
       "1            2         1       1    1  38.0      1      0  71.2833\n",
       "2            3         1       3    1  26.0      0      0   7.9250\n",
       "3            4         1       1    1  35.0      1      0  53.1000\n",
       "4            5         0       3    0  35.0      0      0   8.0500"
      ]
     },
     "execution_count": 1,
     "metadata": {},
     "output_type": "execute_result"
    }
   ],
   "source": [
    "import pandas as pd\n",
    "import warnings\n",
    "warnings.filterwarnings('ignore')\n",
    "\n",
    "df = pd.read_csv('data/titanic_cleaning.csv')\n",
    "df.head()"
   ]
  },
  {
   "cell_type": "code",
   "execution_count": 2,
   "id": "38029c3e",
   "metadata": {},
   "outputs": [
    {
     "data": {
      "text/plain": [
       "array([0, 1], dtype=int64)"
      ]
     },
     "execution_count": 2,
     "metadata": {},
     "output_type": "execute_result"
    }
   ],
   "source": [
    "df['Survived'].unique()"
   ]
  },
  {
   "cell_type": "code",
   "execution_count": 3,
   "id": "2d1ae006",
   "metadata": {},
   "outputs": [
    {
     "data": {
      "text/plain": [
       "Index(['PassengerId', 'Survived', 'Pclass', 'Sex', 'Age', 'SibSp', 'Parch',\n",
       "       'Fare'],\n",
       "      dtype='object')"
      ]
     },
     "execution_count": 3,
     "metadata": {},
     "output_type": "execute_result"
    }
   ],
   "source": [
    "df.columns"
   ]
  },
  {
   "cell_type": "code",
   "execution_count": 4,
   "id": "9690e109",
   "metadata": {},
   "outputs": [
    {
     "name": "stdout",
     "output_type": "stream",
     "text": [
      "     Pclass  Sex        Age  SibSp  Parch     Fare\n",
      "0         3    0  22.000000      1      0   7.2500\n",
      "1         1    1  38.000000      1      0  71.2833\n",
      "2         3    1  26.000000      0      0   7.9250\n",
      "3         1    1  35.000000      1      0  53.1000\n",
      "4         3    0  35.000000      0      0   8.0500\n",
      "..      ...  ...        ...    ...    ...      ...\n",
      "886       2    0  27.000000      0      0  13.0000\n",
      "887       1    1  19.000000      0      0  30.0000\n",
      "888       3    1  29.699118      1      2  23.4500\n",
      "889       1    0  26.000000      0      0  30.0000\n",
      "890       3    0  32.000000      0      0   7.7500\n",
      "\n",
      "[891 rows x 6 columns]\n"
     ]
    },
    {
     "data": {
      "text/plain": [
       "0      0\n",
       "1      1\n",
       "2      1\n",
       "3      1\n",
       "4      0\n",
       "      ..\n",
       "886    0\n",
       "887    1\n",
       "888    0\n",
       "889    1\n",
       "890    0\n",
       "Name: Survived, Length: 891, dtype: int64"
      ]
     },
     "execution_count": 4,
     "metadata": {},
     "output_type": "execute_result"
    }
   ],
   "source": [
    "features = [ 'Pclass', 'Sex', 'Age', 'SibSp', 'Parch','Fare']\n",
    "label = 'Survived'\n",
    "X, y = df[features], df[label]\n",
    "\n",
    "print(X)\n",
    "y"
   ]
  },
  {
   "cell_type": "code",
   "execution_count": 5,
   "id": "3a37345d",
   "metadata": {},
   "outputs": [],
   "source": [
    "from sklearn.model_selection import train_test_split\n",
    "X_train, X_test, y_train, y_test = \\\n",
    "                    train_test_split(X, y, test_size =0.2)"
   ]
  },
  {
   "cell_type": "code",
   "execution_count": 6,
   "id": "7f4c1ea6",
   "metadata": {},
   "outputs": [
    {
     "name": "stdout",
     "output_type": "stream",
     "text": [
      "총 개수 :  (891, 6) (891,)\n",
      "train 개수 :  (712, 6) (712,)\n",
      "test 개수 :  (179, 6) (179,)\n"
     ]
    }
   ],
   "source": [
    "print('총 개수 : ', X.shape, y.shape)\n",
    "print('train 개수 : ', X_train.shape, y_train.shape )\n",
    "print('test 개수 : ', X_test.shape, y_test.shape )"
   ]
  },
  {
   "cell_type": "code",
   "execution_count": 7,
   "id": "f022065f",
   "metadata": {},
   "outputs": [
    {
     "data": {
      "text/plain": [
       "0.7318435754189944"
      ]
     },
     "execution_count": 7,
     "metadata": {},
     "output_type": "execute_result"
    }
   ],
   "source": [
    "from sklearn.neighbors import KNeighborsClassifier\n",
    "\n",
    "#모델 생성\n",
    "kn = KNeighborsClassifier()\n",
    "\n",
    "#학습\n",
    "kn.fit(X_train , y_train)\n",
    "\n",
    "#평가(정확도) : 정확도는 맞춘 개수\n",
    "kn.score(X_test, y_test)"
   ]
  },
  {
   "cell_type": "code",
   "execution_count": 8,
   "id": "3fc4cf81",
   "metadata": {},
   "outputs": [
    {
     "data": {
      "text/plain": [
       "0.7932960893854749"
      ]
     },
     "execution_count": 8,
     "metadata": {},
     "output_type": "execute_result"
    }
   ],
   "source": [
    "import sklearn.svm as svm\n",
    "svm_linear = svm.SVC(kernel = 'linear')\n",
    "svm_linear.fit(X_train, y_train)\n",
    "svm_linear.score(X_test, y_test)"
   ]
  },
  {
   "cell_type": "code",
   "execution_count": 9,
   "id": "60bd921d",
   "metadata": {},
   "outputs": [
    {
     "data": {
      "text/plain": [
       "0.7206703910614525"
      ]
     },
     "execution_count": 9,
     "metadata": {},
     "output_type": "execute_result"
    }
   ],
   "source": [
    "svm_rbf = svm.SVC(kernel = 'rbf')\n",
    "svm_rbf.fit(X_train, y_train)\n",
    "svm_rbf.score(X_test, y_test)"
   ]
  },
  {
   "cell_type": "code",
   "execution_count": 10,
   "id": "f9b395a8",
   "metadata": {},
   "outputs": [
    {
     "data": {
      "text/plain": [
       "0.7597765363128491"
      ]
     },
     "execution_count": 10,
     "metadata": {},
     "output_type": "execute_result"
    }
   ],
   "source": [
    "from sklearn.tree import DecisionTreeClassifier\n",
    "\n",
    "# 모델 생성\n",
    "dt_clf = DecisionTreeClassifier()\n",
    "\n",
    "# 학습\n",
    "dt_clf.fit( X_train, y_train )\n",
    "\n",
    "# 평가\n",
    "dt_clf.score( X_test, y_test )"
   ]
  },
  {
   "cell_type": "code",
   "execution_count": 11,
   "id": "6e236d8a",
   "metadata": {},
   "outputs": [
    {
     "data": {
      "text/plain": [
       "DecisionTreeClassifier()"
      ]
     },
     "execution_count": 11,
     "metadata": {},
     "output_type": "execute_result"
    }
   ],
   "source": [
    "svm_rbf = svm.SVC(kernel = 'rbf', probability=True)\n",
    "svm_rbf.fit( X_train, y_train )\n",
    "kn = KNeighborsClassifier()\n",
    "kn.fit( X_train, y_train)\n",
    "\n",
    "dt_clf = DecisionTreeClassifier()\n",
    "dt_clf.fit( X_train, y_train )"
   ]
  },
  {
   "cell_type": "code",
   "execution_count": 12,
   "id": "4ecc0159",
   "metadata": {},
   "outputs": [
    {
     "name": "stdout",
     "output_type": "stream",
     "text": [
      "svm :  0.7206703910614525\n",
      "knn :  0.7318435754189944\n",
      "dt_clf :  0.7541899441340782\n",
      "vo :  0.776536312849162\n"
     ]
    }
   ],
   "source": [
    "from sklearn.ensemble import VotingClassifier\n",
    "vo = VotingClassifier(estimators=[('svc',svm_rbf),('knn',kn),('DecisionTree',dt_clf)], voting='soft')\n",
    "\n",
    "vo.fit( X_train, y_train )\n",
    "print('svm : ', svm_rbf.score(X_test, y_test) )\n",
    "print('knn : ', kn.score(X_test, y_test) )\n",
    "print('dt_clf : ', dt_clf.score(X_test, y_test) )\n",
    "print('vo : ', vo.score(X_test, y_test ))"
   ]
  },
  {
   "cell_type": "code",
   "execution_count": 13,
   "id": "e1c5fda4",
   "metadata": {},
   "outputs": [
    {
     "data": {
      "text/plain": [
       "0.8212290502793296"
      ]
     },
     "execution_count": 13,
     "metadata": {},
     "output_type": "execute_result"
    }
   ],
   "source": [
    "from sklearn.ensemble import RandomForestClassifier\n",
    "\n",
    "rfc = RandomForestClassifier()\n",
    "rfc.fit(X_train, y_train)\n",
    "rfc.score( X_test, y_test)"
   ]
  },
  {
   "cell_type": "code",
   "execution_count": 14,
   "id": "5cc21b3a",
   "metadata": {},
   "outputs": [
    {
     "data": {
      "text/plain": [
       "0.9030898876404494"
      ]
     },
     "execution_count": 14,
     "metadata": {},
     "output_type": "execute_result"
    }
   ],
   "source": [
    "from sklearn.ensemble import GradientBoostingClassifier\n",
    "\n",
    "gbc = GradientBoostingClassifier()\n",
    "gbc.fit(X_train, y_train)\n",
    "gbc.score(X_train, y_train)"
   ]
  },
  {
   "cell_type": "code",
   "execution_count": 15,
   "id": "c65cdb6b",
   "metadata": {},
   "outputs": [
    {
     "data": {
      "text/html": [
       "<div>\n",
       "<style scoped>\n",
       "    .dataframe tbody tr th:only-of-type {\n",
       "        vertical-align: middle;\n",
       "    }\n",
       "\n",
       "    .dataframe tbody tr th {\n",
       "        vertical-align: top;\n",
       "    }\n",
       "\n",
       "    .dataframe thead th {\n",
       "        text-align: right;\n",
       "    }\n",
       "</style>\n",
       "<table border=\"1\" class=\"dataframe\">\n",
       "  <thead>\n",
       "    <tr style=\"text-align: right;\">\n",
       "      <th></th>\n",
       "      <th>PassengerId</th>\n",
       "      <th>Survived</th>\n",
       "      <th>Pclass</th>\n",
       "      <th>Sex</th>\n",
       "      <th>Age</th>\n",
       "      <th>SibSp</th>\n",
       "      <th>Parch</th>\n",
       "      <th>Fare</th>\n",
       "    </tr>\n",
       "  </thead>\n",
       "  <tbody>\n",
       "    <tr>\n",
       "      <th>0</th>\n",
       "      <td>1</td>\n",
       "      <td>0</td>\n",
       "      <td>3</td>\n",
       "      <td>0</td>\n",
       "      <td>22.0</td>\n",
       "      <td>1</td>\n",
       "      <td>0</td>\n",
       "      <td>7.2500</td>\n",
       "    </tr>\n",
       "    <tr>\n",
       "      <th>1</th>\n",
       "      <td>2</td>\n",
       "      <td>1</td>\n",
       "      <td>1</td>\n",
       "      <td>1</td>\n",
       "      <td>38.0</td>\n",
       "      <td>1</td>\n",
       "      <td>0</td>\n",
       "      <td>71.2833</td>\n",
       "    </tr>\n",
       "    <tr>\n",
       "      <th>2</th>\n",
       "      <td>3</td>\n",
       "      <td>1</td>\n",
       "      <td>3</td>\n",
       "      <td>1</td>\n",
       "      <td>26.0</td>\n",
       "      <td>0</td>\n",
       "      <td>0</td>\n",
       "      <td>7.9250</td>\n",
       "    </tr>\n",
       "  </tbody>\n",
       "</table>\n",
       "</div>"
      ],
      "text/plain": [
       "   PassengerId  Survived  Pclass  Sex   Age  SibSp  Parch     Fare\n",
       "0            1         0       3    0  22.0      1      0   7.2500\n",
       "1            2         1       1    1  38.0      1      0  71.2833\n",
       "2            3         1       3    1  26.0      0      0   7.9250"
      ]
     },
     "execution_count": 15,
     "metadata": {},
     "output_type": "execute_result"
    }
   ],
   "source": [
    "df.head(3)"
   ]
  },
  {
   "cell_type": "code",
   "execution_count": 16,
   "id": "e208bd74",
   "metadata": {},
   "outputs": [
    {
     "data": {
      "text/plain": [
       "array([0], dtype=int64)"
      ]
     },
     "execution_count": 16,
     "metadata": {},
     "output_type": "execute_result"
    }
   ],
   "source": [
    "dt_clf.predict([[3,0,22.0,1,0,7.2500]])"
   ]
  },
  {
   "cell_type": "markdown",
   "id": "a52b58f9",
   "metadata": {},
   "source": [
    "### Quiz\n",
    "* accuracy, recall, precision 별 평가지표 사용\n",
    "* 타이타닉과 은행 마케팅 결과를 평가지표로 확인해 보세요\n",
    "* 어떠한 평가지표를 쓰는게 옳을지 생각해 보세요\n",
    "* 예측 정답 구하기 : pred = rfc.predict(X_test)"
   ]
  },
  {
   "cell_type": "code",
   "execution_count": 19,
   "id": "95bf3fb7",
   "metadata": {},
   "outputs": [
    {
     "data": {
      "text/plain": [
       "array([0, 0, 0, 0, 1, 0, 0, 1, 0, 0, 0, 1, 0, 1, 1, 0, 0, 0, 0, 0, 1, 0,\n",
       "       1, 1, 0, 0, 0, 0, 1, 0, 0, 1, 0, 0, 1, 0, 0, 0, 1, 1, 0, 0, 0, 0,\n",
       "       0, 0, 1, 0, 1, 0, 0, 1, 1, 1, 0, 0, 1, 1, 1, 1, 1, 0, 0, 0, 0, 1,\n",
       "       0, 0, 1, 0, 0, 0, 0, 1, 0, 0, 1, 0, 1, 0, 1, 0, 0, 1, 0, 1, 0, 0,\n",
       "       0, 0, 0, 0, 0, 0, 0, 1, 0, 1, 1, 0, 0, 1, 1, 1, 0, 0, 0, 0, 0, 1,\n",
       "       0, 1, 0, 0, 0, 0, 0, 0, 1, 0, 1, 1, 0, 0, 0, 1, 0, 1, 0, 0, 1, 1,\n",
       "       0, 1, 0, 1, 0, 0, 0, 1, 0, 1, 1, 1, 0, 0, 1, 0, 0, 0, 0, 0, 1, 1,\n",
       "       0, 1, 0, 1, 0, 0, 0, 0, 1, 1, 1, 0, 1, 1, 1, 0, 0, 0, 1, 0, 0, 0,\n",
       "       1, 0, 1], dtype=int64)"
      ]
     },
     "execution_count": 19,
     "metadata": {},
     "output_type": "execute_result"
    }
   ],
   "source": [
    "pred = rfc.predict(X_test)\n",
    "pred"
   ]
  },
  {
   "cell_type": "code",
   "execution_count": 18,
   "id": "b5ce8fd0",
   "metadata": {},
   "outputs": [
    {
     "name": "stdout",
     "output_type": "stream",
     "text": [
      "정확도 :  0.8212290502793296\n",
      "재현율 :  0.7833333333333333\n",
      "정밀도 :  0.7121212121212122\n",
      "f1_score :  0.746031746031746\n"
     ]
    }
   ],
   "source": [
    "#예측 정확도 평가(Accuracy 를 통한 성능평가)\n",
    "from sklearn.metrics import accuracy_score, precision_score, recall_score, f1_score\n",
    "accuracy = accuracy_score(y_test, pred) #정확도\n",
    "precision = precision_score(y_test, pred) #정밀도\n",
    "recall = recall_score(y_test, pred) #재현율\n",
    "f1 = f1_score(y_test, pred) #f1 score\n",
    "\n",
    "print('정확도 : ',accuracy)\n",
    "print('재현율 : ',recall)\n",
    "print('정밀도 : ',precision)\n",
    "print('f1_score : ',f1)"
   ]
  },
  {
   "cell_type": "code",
   "execution_count": null,
   "id": "433b11ab",
   "metadata": {},
   "outputs": [],
   "source": []
  },
  {
   "cell_type": "code",
   "execution_count": null,
   "id": "abeab726",
   "metadata": {},
   "outputs": [],
   "source": []
  }
 ],
 "metadata": {
  "kernelspec": {
   "display_name": "Python 3 (ipykernel)",
   "language": "python",
   "name": "python3"
  },
  "language_info": {
   "codemirror_mode": {
    "name": "ipython",
    "version": 3
   },
   "file_extension": ".py",
   "mimetype": "text/x-python",
   "name": "python",
   "nbconvert_exporter": "python",
   "pygments_lexer": "ipython3",
   "version": "3.9.13"
  }
 },
 "nbformat": 4,
 "nbformat_minor": 5
}
