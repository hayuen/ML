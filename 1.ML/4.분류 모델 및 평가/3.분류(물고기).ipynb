{
 "cells": [
  {
   "cell_type": "markdown",
   "id": "a1c41ab9",
   "metadata": {},
   "source": [
    "### 시나리오\n",
    "* 수산물 시장에서 알바를 하기로 결심\n",
    "* 물고기의 기본 무게와 길이를 제어주는 기계는 존재한다.\n",
    "* 물고기의 특징을 보고 물고기의 종류를 구분해야 한다\n",
    "* 귀차니즘이 발동한 나는 자동으로 물고기를 구분해 주는 프로그램을 구현하기로 했다\n",
    "\n",
    "### 물고기 종류 분류하기\n",
    "* 컬럼\n",
    "    - Species : 물고기 이름\n",
    "    - weight : 두께\n",
    "    - length : 길이\n",
    "    - Diagonal : 대각선 길이\n",
    "    - Height : 세로 길이\n",
    "    - Width : 가로 길이"
   ]
  },
  {
   "cell_type": "markdown",
   "id": "1ee77178",
   "metadata": {},
   "source": [
    "### 데이터 셋 로드"
   ]
  },
  {
   "cell_type": "code",
   "execution_count": 1,
   "id": "5174abf1",
   "metadata": {},
   "outputs": [
    {
     "data": {
      "text/html": [
       "<div>\n",
       "<style scoped>\n",
       "    .dataframe tbody tr th:only-of-type {\n",
       "        vertical-align: middle;\n",
       "    }\n",
       "\n",
       "    .dataframe tbody tr th {\n",
       "        vertical-align: top;\n",
       "    }\n",
       "\n",
       "    .dataframe thead th {\n",
       "        text-align: right;\n",
       "    }\n",
       "</style>\n",
       "<table border=\"1\" class=\"dataframe\">\n",
       "  <thead>\n",
       "    <tr style=\"text-align: right;\">\n",
       "      <th></th>\n",
       "      <th>Species</th>\n",
       "      <th>Weight</th>\n",
       "      <th>Length</th>\n",
       "      <th>Diagonal</th>\n",
       "      <th>Height</th>\n",
       "      <th>Width</th>\n",
       "    </tr>\n",
       "  </thead>\n",
       "  <tbody>\n",
       "    <tr>\n",
       "      <th>0</th>\n",
       "      <td>Bream</td>\n",
       "      <td>242.0</td>\n",
       "      <td>25.4</td>\n",
       "      <td>30.0</td>\n",
       "      <td>11.5200</td>\n",
       "      <td>4.0200</td>\n",
       "    </tr>\n",
       "    <tr>\n",
       "      <th>1</th>\n",
       "      <td>Bream</td>\n",
       "      <td>290.0</td>\n",
       "      <td>26.3</td>\n",
       "      <td>31.2</td>\n",
       "      <td>12.4800</td>\n",
       "      <td>4.3056</td>\n",
       "    </tr>\n",
       "    <tr>\n",
       "      <th>2</th>\n",
       "      <td>Bream</td>\n",
       "      <td>340.0</td>\n",
       "      <td>26.5</td>\n",
       "      <td>31.1</td>\n",
       "      <td>12.3778</td>\n",
       "      <td>4.6961</td>\n",
       "    </tr>\n",
       "    <tr>\n",
       "      <th>3</th>\n",
       "      <td>Bream</td>\n",
       "      <td>363.0</td>\n",
       "      <td>29.0</td>\n",
       "      <td>33.5</td>\n",
       "      <td>12.7300</td>\n",
       "      <td>4.4555</td>\n",
       "    </tr>\n",
       "    <tr>\n",
       "      <th>4</th>\n",
       "      <td>Bream</td>\n",
       "      <td>430.0</td>\n",
       "      <td>29.0</td>\n",
       "      <td>34.0</td>\n",
       "      <td>12.4440</td>\n",
       "      <td>5.1340</td>\n",
       "    </tr>\n",
       "  </tbody>\n",
       "</table>\n",
       "</div>"
      ],
      "text/plain": [
       "  Species  Weight  Length  Diagonal   Height   Width\n",
       "0   Bream   242.0    25.4      30.0  11.5200  4.0200\n",
       "1   Bream   290.0    26.3      31.2  12.4800  4.3056\n",
       "2   Bream   340.0    26.5      31.1  12.3778  4.6961\n",
       "3   Bream   363.0    29.0      33.5  12.7300  4.4555\n",
       "4   Bream   430.0    29.0      34.0  12.4440  5.1340"
      ]
     },
     "execution_count": 1,
     "metadata": {},
     "output_type": "execute_result"
    }
   ],
   "source": [
    "import pandas as pd\n",
    "import warnings\n",
    "warnings.filterwarnings('ignore')\n",
    "\n",
    "df = pd.read_csv('data/fish.csv')\n",
    "df.head()"
   ]
  },
  {
   "cell_type": "code",
   "execution_count": 2,
   "id": "967c8c83",
   "metadata": {},
   "outputs": [
    {
     "data": {
      "text/plain": [
       "array(['Bream', 'Roach', 'Whitefish', 'Parkki', 'Perch', 'Pike', 'Smelt'],\n",
       "      dtype=object)"
      ]
     },
     "execution_count": 2,
     "metadata": {},
     "output_type": "execute_result"
    }
   ],
   "source": [
    "df['Species'].unique()"
   ]
  },
  {
   "cell_type": "markdown",
   "id": "9d6a577b",
   "metadata": {},
   "source": [
    "### 데이터 분리\n",
    "* feature 와 label 나누기"
   ]
  },
  {
   "cell_type": "code",
   "execution_count": 3,
   "id": "1798e646",
   "metadata": {},
   "outputs": [
    {
     "data": {
      "text/plain": [
       "Index(['Species', 'Weight', 'Length', 'Diagonal', 'Height', 'Width'], dtype='object')"
      ]
     },
     "execution_count": 3,
     "metadata": {},
     "output_type": "execute_result"
    }
   ],
   "source": [
    "df.columns"
   ]
  },
  {
   "cell_type": "code",
   "execution_count": 4,
   "id": "9f3ced64",
   "metadata": {
    "scrolled": true
   },
   "outputs": [
    {
     "name": "stdout",
     "output_type": "stream",
     "text": [
      "     Weight  Length  Diagonal   Height   Width\n",
      "0     242.0    25.4      30.0  11.5200  4.0200\n",
      "1     290.0    26.3      31.2  12.4800  4.3056\n",
      "2     340.0    26.5      31.1  12.3778  4.6961\n",
      "3     363.0    29.0      33.5  12.7300  4.4555\n",
      "4     430.0    29.0      34.0  12.4440  5.1340\n",
      "..      ...     ...       ...      ...     ...\n",
      "154    12.2    12.2      13.4   2.0904  1.3936\n",
      "155    13.4    12.4      13.5   2.4300  1.2690\n",
      "156    12.2    13.0      13.8   2.2770  1.2558\n",
      "157    19.7    14.3      15.2   2.8728  2.0672\n",
      "158    19.9    15.0      16.2   2.9322  1.8792\n",
      "\n",
      "[159 rows x 5 columns]\n"
     ]
    },
    {
     "data": {
      "text/plain": [
       "0      Bream\n",
       "1      Bream\n",
       "2      Bream\n",
       "3      Bream\n",
       "4      Bream\n",
       "       ...  \n",
       "154    Smelt\n",
       "155    Smelt\n",
       "156    Smelt\n",
       "157    Smelt\n",
       "158    Smelt\n",
       "Name: Species, Length: 159, dtype: object"
      ]
     },
     "execution_count": 4,
     "metadata": {},
     "output_type": "execute_result"
    }
   ],
   "source": [
    "features = ['Weight', 'Length', 'Diagonal', 'Height', 'Width']\n",
    "label = 'Species'\n",
    "\n",
    "X, y = df[features], df[label]\n",
    "\n",
    "print(X)\n",
    "y"
   ]
  },
  {
   "cell_type": "markdown",
   "id": "b7daa920",
   "metadata": {},
   "source": [
    "### train_test_split\n",
    "* 데이터를 알고리즘에 사용하고자 하는경우 속성(feature)과 정답(label) 구분을 해야 한다.\n",
    "* 알고리즘에 학습하기 위해 test data 와 train data를 구분하여 사용한다.\n",
    "    - 70% train(학습)데이터, 30% test 데이터(실제 데이터로 가정하여 확인)\n",
    "    - 20% test 데이터 , 80% -> 20%(validation)검증, 80% 학습데이터"
   ]
  },
  {
   "cell_type": "code",
   "execution_count": 5,
   "id": "2eb7775f",
   "metadata": {},
   "outputs": [],
   "source": [
    "from sklearn.model_selection import train_test_split\n",
    "X_train, X_test, y_train, y_test = \\\n",
    "                    train_test_split(X, y, test_size =0.3)"
   ]
  },
  {
   "cell_type": "code",
   "execution_count": 6,
   "id": "e82a0446",
   "metadata": {},
   "outputs": [
    {
     "name": "stdout",
     "output_type": "stream",
     "text": [
      "총 개수 :  (159, 5) (159,)\n",
      "train 개수 :  (111, 5) (111,)\n",
      "test 개수 :  (48, 5) (48,)\n"
     ]
    },
    {
     "data": {
      "text/plain": [
       "76      Perch\n",
       "6       Bream\n",
       "149     Smelt\n",
       "122     Perch\n",
       "67     Parkki\n",
       "        ...  \n",
       "77      Perch\n",
       "34      Bream\n",
       "93      Perch\n",
       "148     Smelt\n",
       "69     Parkki\n",
       "Name: Species, Length: 111, dtype: object"
      ]
     },
     "execution_count": 6,
     "metadata": {},
     "output_type": "execute_result"
    }
   ],
   "source": [
    "print('총 개수 : ', X.shape, y.shape)\n",
    "print('train 개수 : ', X_train.shape, y_train.shape )\n",
    "print('test 개수 : ', X_test.shape, y_test.shape )\n",
    "# 이게문젠다?\n",
    "y_train"
   ]
  },
  {
   "cell_type": "markdown",
   "id": "03e5a438",
   "metadata": {},
   "source": [
    "### 모델 생성 및 학습, 평가\n",
    "\n",
    "#### Kneighbors(K-최근접 이웃 알고리즘)\n",
    "* 주위의 가장 가까운 다른 데이터를 보고 현재 데이터를 판단\n",
    "* 기본 비교 개수는 5개로 되어 있다\n",
    "* 비교 개수를 변경하고자 할 경우 n_neighbors에 값 지정"
   ]
  },
  {
   "cell_type": "markdown",
   "id": "8aa18ca4",
   "metadata": {},
   "source": [
    "!['img'](image/kneighbors.png)"
   ]
  },
  {
   "cell_type": "code",
   "execution_count": 7,
   "id": "f53fe1ba",
   "metadata": {},
   "outputs": [
    {
     "data": {
      "text/plain": [
       "0.4791666666666667"
      ]
     },
     "execution_count": 7,
     "metadata": {},
     "output_type": "execute_result"
    }
   ],
   "source": [
    "from sklearn.neighbors import KNeighborsClassifier\n",
    "\n",
    "#모델 생성\n",
    "kn = KNeighborsClassifier()\n",
    "\n",
    "#학습\n",
    "kn.fit(X_train , y_train)\n",
    "\n",
    "#평가(정확도) : 정확도는 맞춘 개수\n",
    "kn.score(X_test, y_test)"
   ]
  },
  {
   "cell_type": "markdown",
   "id": "9ce6fd40",
   "metadata": {},
   "source": [
    "#### SVM(Support Vector Machine)\n",
    "* 특정 데이터들을 구분하는 선을 찾고, 이를 기반으로 패턴을 인식하는 방법\n",
    "* kernel : linear, rbf\n",
    "* linear : 선형으로 데이터들을 구분지을 수 있는 경우\n",
    "* rbf : 선형으로 데이터를 구분지을 수 없는 경우"
   ]
  },
  {
   "cell_type": "markdown",
   "id": "4b7f155c",
   "metadata": {},
   "source": [
    "!['img'](image/svm.png)"
   ]
  },
  {
   "cell_type": "code",
   "execution_count": 20,
   "id": "f62ba90c",
   "metadata": {},
   "outputs": [
    {
     "data": {
      "text/plain": [
       "0.8541666666666666"
      ]
     },
     "execution_count": 20,
     "metadata": {},
     "output_type": "execute_result"
    }
   ],
   "source": [
    "import sklearn.svm as svm\n",
    "svm_linear = svm.SVC(kernel = 'linear')\n",
    "svm_linear.fit(X_train, y_train)\n",
    "svm_linear.score(X_test, y_test)"
   ]
  },
  {
   "cell_type": "markdown",
   "id": "dc63de1e",
   "metadata": {},
   "source": [
    "##### rbf(비선형)"
   ]
  },
  {
   "cell_type": "code",
   "execution_count": 23,
   "id": "a1422662",
   "metadata": {},
   "outputs": [
    {
     "data": {
      "text/plain": [
       "0.5"
      ]
     },
     "execution_count": 23,
     "metadata": {},
     "output_type": "execute_result"
    }
   ],
   "source": [
    "svm_rbf = svm.SVC(kernel = 'rbf')\n",
    "svm_rbf.fit(X_train, y_train)\n",
    "svm_rbf.score(X_test, y_test)"
   ]
  },
  {
   "cell_type": "markdown",
   "id": "8b513b55",
   "metadata": {},
   "source": [
    "### DecisionTree\n",
    "* 특정 조건에 따라 가지치기 과정을 반복하면서 모델을 생성한다"
   ]
  },
  {
   "cell_type": "markdown",
   "id": "4d97773a",
   "metadata": {},
   "source": [
    "![image.png](image/tree.png)"
   ]
  },
  {
   "cell_type": "code",
   "execution_count": 10,
   "id": "3347824e",
   "metadata": {},
   "outputs": [
    {
     "data": {
      "text/plain": [
       "0.5833333333333334"
      ]
     },
     "execution_count": 10,
     "metadata": {},
     "output_type": "execute_result"
    }
   ],
   "source": [
    "from sklearn.tree import DecisionTreeClassifier\n",
    "\n",
    "# 모델 생성\n",
    "dt_clf = DecisionTreeClassifier()\n",
    "\n",
    "# 학습\n",
    "dt_clf.fit( X_train, y_train )\n",
    "\n",
    "# 평가\n",
    "dt_clf.score( X_test, y_test )"
   ]
  },
  {
   "cell_type": "markdown",
   "id": "fb7a8b42",
   "metadata": {},
   "source": [
    "### Ensemble(앙상블)\n",
    "* 여러 개의 분류기(알고리즘)를 생성하고 그 예측을 결합함으로써 보다 정확한 분류기 생성\n",
    "* 앙상블의 대표 알고리즘은 랜덤포레스트와 그래디언트부스팅이 있다\n",
    ">\n",
    "* 앙상블 학습의 유형\n",
    "    - 보팅(Voting) : 서로 다른 알고리즘을 가진 분류기를 결합하여 사용\n",
    "    - 배깅(Bagging) : 모두 같은 유형의 알고리즘을 가진 분류기를 결합하여 사용\n",
    "        * 대표적 알고리즘인 랜덤포레스트가 있다\n",
    "    - 부스팅(Boosting) : 오류를 개선해 나가면서 학습하는 방식(다른 알고리즘에 비해 시간이 더 걸림)"
   ]
  },
  {
   "cell_type": "markdown",
   "id": "cc9af2e7",
   "metadata": {},
   "source": [
    "#### Voting(보팅)\n",
    "* 하드보팅(Hard Voting) : 다수의 결정에 의해 결과값이 선정된다\n",
    "* 소프트보팅(Soft Voting) : 결정된 값들의 평균을 구하고 가장 높은 값을 선정\n",
    "* 일반적으로 하드보팅보다 소프트 보팅이 성능이 좋아 소프트 보팅을 많이 사용한다"
   ]
  },
  {
   "cell_type": "markdown",
   "id": "aa274e3e",
   "metadata": {},
   "source": [
    "![image.png](image/보팅.png)"
   ]
  },
  {
   "cell_type": "markdown",
   "id": "0f3d984a",
   "metadata": {},
   "source": [
    "* probability\n",
    "- 확률값으로 결과를 볼것인지. 기본 False설정되어 있다.\n",
    " - 보팅 시 hard 보팅할 경우 결과값을 가지고 다수결을 하기 때문에 probability를 설정할 필요는 없다\n",
    " - soft로 보팅할 경우 확률값을 가지고 계산하기 때문에 probabilty를 true로 설정해야 한다."
   ]
  },
  {
   "cell_type": "code",
   "execution_count": 11,
   "id": "a229ae6b",
   "metadata": {},
   "outputs": [
    {
     "data": {
      "text/plain": [
       "DecisionTreeClassifier()"
      ]
     },
     "execution_count": 11,
     "metadata": {},
     "output_type": "execute_result"
    }
   ],
   "source": [
    "svm_rbf = svm.SVC(kernel = 'rbf', probability=True)\n",
    "svm_rbf.fit( X_train, y_train )\n",
    "kn = KNeighborsClassifier()\n",
    "kn.fit( X_train, y_train)\n",
    "\n",
    "dt_clf = DecisionTreeClassifier()\n",
    "dt_clf.fit( X_train, y_train )"
   ]
  },
  {
   "cell_type": "code",
   "execution_count": 12,
   "id": "367af2ea",
   "metadata": {},
   "outputs": [
    {
     "name": "stdout",
     "output_type": "stream",
     "text": [
      "svm :  0.5\n",
      "knn :  0.4791666666666667\n",
      "dt_clf :  0.6041666666666666\n",
      "vo :  0.625\n"
     ]
    }
   ],
   "source": [
    "from sklearn.ensemble import VotingClassifier\n",
    "vo = VotingClassifier(estimators=[('svc',svm_rbf),('knn',kn),('DecisionTree',dt_clf)], voting='soft')\n",
    "\n",
    "vo.fit( X_train, y_train )\n",
    "print('svm : ', svm_rbf.score(X_test, y_test) )\n",
    "print('knn : ', kn.score(X_test, y_test) )\n",
    "print('dt_clf : ', dt_clf.score(X_test, y_test) )\n",
    "print('vo : ', vo.score(X_test, y_test ))\n"
   ]
  },
  {
   "cell_type": "markdown",
   "id": "d92f590b",
   "metadata": {},
   "source": [
    "#### RandomForest(랜덤포레스트)\n",
    "* decision tree 알고리즘을 여러 개의 분류기로 만들어서 보팅(소프트보팅)으로 최종 결정한다"
   ]
  },
  {
   "cell_type": "markdown",
   "id": "d5cad2b9",
   "metadata": {},
   "source": [
    "![image.png](image/bagging.png)"
   ]
  },
  {
   "cell_type": "code",
   "execution_count": 13,
   "id": "e1fb2598",
   "metadata": {},
   "outputs": [
    {
     "data": {
      "text/plain": [
       "0.6041666666666666"
      ]
     },
     "execution_count": 13,
     "metadata": {},
     "output_type": "execute_result"
    }
   ],
   "source": [
    "from sklearn.ensemble import RandomForestClassifier\n",
    "\n",
    "rfc = RandomForestClassifier()\n",
    "rfc.fit(X_train, y_train)\n",
    "rfc.score( X_test, y_test)"
   ]
  },
  {
   "cell_type": "markdown",
   "id": "b0950988",
   "metadata": {},
   "source": [
    "#### 부스팅(Boosting)\n",
    "* GBM(Gradient Boosting Machine)\n",
    "    - decision tree를 묶어 강력한 model을 만드는 ensemble기법입니다.\n",
    "    - 순차적으로 학습-예측하면서 잘못 예측한 데이터의 오류를 개선해 나가면서 학습하는 방법\n",
    "    - 다른 알고리즘에 비해 처리속도가 느림"
   ]
  },
  {
   "cell_type": "markdown",
   "id": "4a9d17df",
   "metadata": {},
   "source": [
    "![image.png](image/GBM.png)"
   ]
  },
  {
   "cell_type": "code",
   "execution_count": 14,
   "id": "e210fcba",
   "metadata": {},
   "outputs": [
    {
     "data": {
      "text/plain": [
       "1.0"
      ]
     },
     "execution_count": 14,
     "metadata": {},
     "output_type": "execute_result"
    }
   ],
   "source": [
    "from sklearn.ensemble import GradientBoostingClassifier\n",
    "\n",
    "gbc = GradientBoostingClassifier()\n",
    "gbc.fit(X_train, y_train)\n",
    "gbc.score(X_train, y_train)"
   ]
  },
  {
   "cell_type": "markdown",
   "id": "fc0916fa",
   "metadata": {},
   "source": [
    "### 예측\n",
    "* 특정 물고기를 잡았을 경우 위의 결과 최적의 모델을 이용하여 물고기를 예측한다\n",
    "* predict : 속성(feature)을 넣으면 결과를 얻을 수 있다"
   ]
  },
  {
   "cell_type": "code",
   "execution_count": 15,
   "id": "2c66fc90",
   "metadata": {},
   "outputs": [
    {
     "data": {
      "text/html": [
       "<div>\n",
       "<style scoped>\n",
       "    .dataframe tbody tr th:only-of-type {\n",
       "        vertical-align: middle;\n",
       "    }\n",
       "\n",
       "    .dataframe tbody tr th {\n",
       "        vertical-align: top;\n",
       "    }\n",
       "\n",
       "    .dataframe thead th {\n",
       "        text-align: right;\n",
       "    }\n",
       "</style>\n",
       "<table border=\"1\" class=\"dataframe\">\n",
       "  <thead>\n",
       "    <tr style=\"text-align: right;\">\n",
       "      <th></th>\n",
       "      <th>Species</th>\n",
       "      <th>Weight</th>\n",
       "      <th>Length</th>\n",
       "      <th>Diagonal</th>\n",
       "      <th>Height</th>\n",
       "      <th>Width</th>\n",
       "    </tr>\n",
       "  </thead>\n",
       "  <tbody>\n",
       "    <tr>\n",
       "      <th>0</th>\n",
       "      <td>Bream</td>\n",
       "      <td>242.0</td>\n",
       "      <td>25.4</td>\n",
       "      <td>30.0</td>\n",
       "      <td>11.5200</td>\n",
       "      <td>4.0200</td>\n",
       "    </tr>\n",
       "    <tr>\n",
       "      <th>1</th>\n",
       "      <td>Bream</td>\n",
       "      <td>290.0</td>\n",
       "      <td>26.3</td>\n",
       "      <td>31.2</td>\n",
       "      <td>12.4800</td>\n",
       "      <td>4.3056</td>\n",
       "    </tr>\n",
       "    <tr>\n",
       "      <th>2</th>\n",
       "      <td>Bream</td>\n",
       "      <td>340.0</td>\n",
       "      <td>26.5</td>\n",
       "      <td>31.1</td>\n",
       "      <td>12.3778</td>\n",
       "      <td>4.6961</td>\n",
       "    </tr>\n",
       "  </tbody>\n",
       "</table>\n",
       "</div>"
      ],
      "text/plain": [
       "  Species  Weight  Length  Diagonal   Height   Width\n",
       "0   Bream   242.0    25.4      30.0  11.5200  4.0200\n",
       "1   Bream   290.0    26.3      31.2  12.4800  4.3056\n",
       "2   Bream   340.0    26.5      31.1  12.3778  4.6961"
      ]
     },
     "execution_count": 15,
     "metadata": {},
     "output_type": "execute_result"
    }
   ],
   "source": [
    "df.head(3)"
   ]
  },
  {
   "cell_type": "code",
   "execution_count": 16,
   "id": "05730c50",
   "metadata": {},
   "outputs": [
    {
     "data": {
      "text/plain": [
       "array(['Parkki'], dtype=object)"
      ]
     },
     "execution_count": 16,
     "metadata": {},
     "output_type": "execute_result"
    }
   ],
   "source": [
    "svm_linear.predict([[242.0,25.4,30.0,11.5200,4.0200]])"
   ]
  },
  {
   "cell_type": "code",
   "execution_count": null,
   "id": "192bf98f",
   "metadata": {},
   "outputs": [],
   "source": []
  },
  {
   "cell_type": "code",
   "execution_count": null,
   "id": "3168d8fd",
   "metadata": {},
   "outputs": [],
   "source": []
  },
  {
   "cell_type": "code",
   "execution_count": null,
   "id": "a95d5b1f",
   "metadata": {},
   "outputs": [],
   "source": []
  },
  {
   "cell_type": "code",
   "execution_count": null,
   "id": "808b345b",
   "metadata": {},
   "outputs": [],
   "source": []
  },
  {
   "cell_type": "code",
   "execution_count": null,
   "id": "c437dc03",
   "metadata": {},
   "outputs": [],
   "source": []
  },
  {
   "cell_type": "code",
   "execution_count": null,
   "id": "58c5c0b1",
   "metadata": {},
   "outputs": [],
   "source": []
  },
  {
   "cell_type": "code",
   "execution_count": null,
   "id": "55914c89",
   "metadata": {},
   "outputs": [],
   "source": []
  },
  {
   "cell_type": "code",
   "execution_count": null,
   "id": "d05b9a2f",
   "metadata": {},
   "outputs": [],
   "source": []
  },
  {
   "cell_type": "code",
   "execution_count": null,
   "id": "ca31cc48",
   "metadata": {},
   "outputs": [],
   "source": []
  },
  {
   "cell_type": "code",
   "execution_count": null,
   "id": "dc6b4a0d",
   "metadata": {},
   "outputs": [],
   "source": []
  },
  {
   "cell_type": "code",
   "execution_count": null,
   "id": "14fac896",
   "metadata": {},
   "outputs": [],
   "source": []
  },
  {
   "cell_type": "code",
   "execution_count": null,
   "id": "d6b9d1a4",
   "metadata": {},
   "outputs": [],
   "source": []
  },
  {
   "cell_type": "code",
   "execution_count": null,
   "id": "f240089e",
   "metadata": {},
   "outputs": [],
   "source": []
  }
 ],
 "metadata": {
  "kernelspec": {
   "display_name": "Python 3 (ipykernel)",
   "language": "python",
   "name": "python3"
  },
  "language_info": {
   "codemirror_mode": {
    "name": "ipython",
    "version": 3
   },
   "file_extension": ".py",
   "mimetype": "text/x-python",
   "name": "python",
   "nbconvert_exporter": "python",
   "pygments_lexer": "ipython3",
   "version": "3.9.13"
  }
 },
 "nbformat": 4,
 "nbformat_minor": 5
}
