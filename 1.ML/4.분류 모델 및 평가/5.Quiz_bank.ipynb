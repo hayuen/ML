{
 "cells": [
  {
   "cell_type": "markdown",
   "id": "5d5fd586",
   "metadata": {},
   "source": [
    "### 은행 마케팅\n",
    "* 은행의 데이터를 모델링하여 고객의 정기예금 가입 여부를 예측하고자 한다\n",
    "* train, test셋 7:3\n",
    "* 성능이 제일 좋은 모델을 찾으시오\n",
    "> 최적의 모델을 이용하여 임의의 데이터를 넣고 예측하시오\n",
    "* 요약\n",
    "    - 데이터는 포르투칼 은행 기관의 직접 마케팅 전화통화와 관련이 있다\n",
    "    - 분류 목표는 고객이\n",
    "        * 정기예금에 가입할지 여부를 예측하는 것이다\n",
    "* 컬럼\n",
    "    - age : 나이(숫자)\n",
    "    - duration : 지속 시간. 마지막 접촉 지속 시간(초)(숫자). 중요 \n",
    "        * 참고 사항: 이 속성은 통화 대상에 큰 영향을 미칩니다(예:duration=0이면 y=0 => 가입하지 않음). \n",
    "    - campaign(마케팅 전화통화) : 이 캠페인 동안 클라이언트에 대해 가입(컨택) 제의를 받은 수 (숫자, 마지막 컨택 포함)\n",
    "    - Pdays : 이전 통화에서 클라이언트가 마지막으로 연락 된 후 경과한 일 수 \n",
    "        * (숫자, 999는 클라이언트가 이전에 연락 되지 않았음을 의미함 )\n",
    "    - previous : 현재 통화 이전에 이 클라이언트에 대해 수행된 가입(컨택) 제의를 받은 수 (숫자)\n",
    "    - y : 고객이 정기 예금에 가입했습니까? ( 예 : 1, 아니요 : 0)"
   ]
  },
  {
   "cell_type": "code",
   "execution_count": 1,
   "id": "7cae150c",
   "metadata": {},
   "outputs": [
    {
     "data": {
      "text/html": [
       "<div>\n",
       "<style scoped>\n",
       "    .dataframe tbody tr th:only-of-type {\n",
       "        vertical-align: middle;\n",
       "    }\n",
       "\n",
       "    .dataframe tbody tr th {\n",
       "        vertical-align: top;\n",
       "    }\n",
       "\n",
       "    .dataframe thead th {\n",
       "        text-align: right;\n",
       "    }\n",
       "</style>\n",
       "<table border=\"1\" class=\"dataframe\">\n",
       "  <thead>\n",
       "    <tr style=\"text-align: right;\">\n",
       "      <th></th>\n",
       "      <th>age</th>\n",
       "      <th>duration</th>\n",
       "      <th>campaign</th>\n",
       "      <th>pdays</th>\n",
       "      <th>previous</th>\n",
       "      <th>y</th>\n",
       "    </tr>\n",
       "  </thead>\n",
       "  <tbody>\n",
       "    <tr>\n",
       "      <th>0</th>\n",
       "      <td>56</td>\n",
       "      <td>261</td>\n",
       "      <td>1</td>\n",
       "      <td>999</td>\n",
       "      <td>0</td>\n",
       "      <td>0</td>\n",
       "    </tr>\n",
       "    <tr>\n",
       "      <th>1</th>\n",
       "      <td>57</td>\n",
       "      <td>149</td>\n",
       "      <td>1</td>\n",
       "      <td>999</td>\n",
       "      <td>0</td>\n",
       "      <td>0</td>\n",
       "    </tr>\n",
       "    <tr>\n",
       "      <th>2</th>\n",
       "      <td>37</td>\n",
       "      <td>226</td>\n",
       "      <td>1</td>\n",
       "      <td>999</td>\n",
       "      <td>0</td>\n",
       "      <td>0</td>\n",
       "    </tr>\n",
       "    <tr>\n",
       "      <th>3</th>\n",
       "      <td>40</td>\n",
       "      <td>151</td>\n",
       "      <td>1</td>\n",
       "      <td>999</td>\n",
       "      <td>0</td>\n",
       "      <td>0</td>\n",
       "    </tr>\n",
       "    <tr>\n",
       "      <th>4</th>\n",
       "      <td>56</td>\n",
       "      <td>307</td>\n",
       "      <td>1</td>\n",
       "      <td>999</td>\n",
       "      <td>0</td>\n",
       "      <td>0</td>\n",
       "    </tr>\n",
       "  </tbody>\n",
       "</table>\n",
       "</div>"
      ],
      "text/plain": [
       "   age  duration  campaign  pdays  previous  y\n",
       "0   56       261         1    999         0  0\n",
       "1   57       149         1    999         0  0\n",
       "2   37       226         1    999         0  0\n",
       "3   40       151         1    999         0  0\n",
       "4   56       307         1    999         0  0"
      ]
     },
     "execution_count": 1,
     "metadata": {},
     "output_type": "execute_result"
    }
   ],
   "source": [
    "import pandas as pd\n",
    "import warnings\n",
    "warnings.filterwarnings('ignore')\n",
    "\n",
    "df = pd.read_csv('data/bank_cleaning.csv')\n",
    "df.head()"
   ]
  },
  {
   "cell_type": "code",
   "execution_count": 2,
   "id": "8412ca41",
   "metadata": {},
   "outputs": [
    {
     "data": {
      "text/plain": [
       "Index(['age', 'duration', 'campaign', 'pdays', 'previous', 'y'], dtype='object')"
      ]
     },
     "execution_count": 2,
     "metadata": {},
     "output_type": "execute_result"
    }
   ],
   "source": [
    "df.columns"
   ]
  },
  {
   "cell_type": "code",
   "execution_count": 3,
   "id": "f438172c",
   "metadata": {},
   "outputs": [
    {
     "data": {
      "text/plain": [
       "array([0, 1], dtype=int64)"
      ]
     },
     "execution_count": 3,
     "metadata": {},
     "output_type": "execute_result"
    }
   ],
   "source": [
    "df['y'].unique()"
   ]
  },
  {
   "cell_type": "code",
   "execution_count": 4,
   "id": "0a6e9d39",
   "metadata": {},
   "outputs": [
    {
     "name": "stdout",
     "output_type": "stream",
     "text": [
      "       age  duration  campaign  pdays  previous\n",
      "0       56       261         1    999         0\n",
      "1       57       149         1    999         0\n",
      "2       37       226         1    999         0\n",
      "3       40       151         1    999         0\n",
      "4       56       307         1    999         0\n",
      "...    ...       ...       ...    ...       ...\n",
      "41183   73       334         1    999         0\n",
      "41184   46       383         1    999         0\n",
      "41185   56       189         2    999         0\n",
      "41186   44       442         1    999         0\n",
      "41187   74       239         3    999         1\n",
      "\n",
      "[41188 rows x 5 columns]\n"
     ]
    },
    {
     "data": {
      "text/plain": [
       "0        0\n",
       "1        0\n",
       "2        0\n",
       "3        0\n",
       "4        0\n",
       "        ..\n",
       "41183    1\n",
       "41184    0\n",
       "41185    0\n",
       "41186    1\n",
       "41187    0\n",
       "Name: y, Length: 41188, dtype: int64"
      ]
     },
     "execution_count": 4,
     "metadata": {},
     "output_type": "execute_result"
    }
   ],
   "source": [
    "features = ['age', 'duration', 'campaign', 'pdays', 'previous']\n",
    "label = 'y'\n",
    "\n",
    "X, y = df[features], df[label]\n",
    "print(X)\n",
    "y"
   ]
  },
  {
   "cell_type": "code",
   "execution_count": 5,
   "id": "a61f3b6d",
   "metadata": {},
   "outputs": [],
   "source": [
    "from sklearn.model_selection import train_test_split\n",
    "X_train, X_test, y_train, y_test = train_test_split(X,y, test_size=0.3)"
   ]
  },
  {
   "cell_type": "code",
   "execution_count": 6,
   "id": "3d857b69",
   "metadata": {},
   "outputs": [
    {
     "name": "stdout",
     "output_type": "stream",
     "text": [
      "총 개수 :  (41188, 5) (41188,)\n",
      "train 개수 :  (28831, 5) (28831,)\n",
      "test 개수 :  (12357, 5) (12357,)\n"
     ]
    }
   ],
   "source": [
    "print('총 개수 : ', X.shape, y.shape)\n",
    "print('train 개수 : ', X_train.shape, y_train.shape )\n",
    "print('test 개수 : ', X_test.shape, y_test.shape )"
   ]
  },
  {
   "cell_type": "code",
   "execution_count": 7,
   "id": "c632185b",
   "metadata": {
    "scrolled": true
   },
   "outputs": [
    {
     "data": {
      "text/plain": [
       "0.896495913247552"
      ]
     },
     "execution_count": 7,
     "metadata": {},
     "output_type": "execute_result"
    }
   ],
   "source": [
    "from sklearn.neighbors import KNeighborsClassifier\n",
    "\n",
    "#모델 생성\n",
    "kn = KNeighborsClassifier()\n",
    "\n",
    "#학습\n",
    "kn.fit(X_train, y_train)\n",
    "\n",
    "#평가\n",
    "kn.score(X_test, y_test)"
   ]
  },
  {
   "cell_type": "code",
   "execution_count": 8,
   "id": "28484a9b",
   "metadata": {},
   "outputs": [
    {
     "data": {
      "text/plain": [
       "0.865582261066602"
      ]
     },
     "execution_count": 8,
     "metadata": {},
     "output_type": "execute_result"
    }
   ],
   "source": [
    "from sklearn.tree import DecisionTreeClassifier\n",
    "\n",
    "# 모델 생성\n",
    "dt_clf = DecisionTreeClassifier()\n",
    "\n",
    "# 학습\n",
    "dt_clf.fit( X_train, y_train )\n",
    "\n",
    "# 평가\n",
    "dt_clf.score( X_test, y_test )"
   ]
  },
  {
   "cell_type": "code",
   "execution_count": 9,
   "id": "6a7721f5",
   "metadata": {},
   "outputs": [
    {
     "data": {
      "text/plain": [
       "0.9056405276361577"
      ]
     },
     "execution_count": 9,
     "metadata": {},
     "output_type": "execute_result"
    }
   ],
   "source": [
    "import sklearn.svm as svm\n",
    "svm_rbf = svm.SVC(kernel='rbf')\n",
    "svm_rbf.fit(X_train, y_train)\n",
    "svm_rbf.score(X_test, y_test)"
   ]
  },
  {
   "cell_type": "code",
   "execution_count": 10,
   "id": "6adbaccd",
   "metadata": {},
   "outputs": [
    {
     "data": {
      "text/plain": [
       "0.9056405276361577"
      ]
     },
     "execution_count": 10,
     "metadata": {},
     "output_type": "execute_result"
    }
   ],
   "source": [
    "svm_rbf = svm.SVC(kernel='rbf')\n",
    "svm_rbf.fit(X_train, y_train)\n",
    "svm_rbf.score(X_test, y_test)"
   ]
  },
  {
   "cell_type": "code",
   "execution_count": 11,
   "id": "f33a61e4",
   "metadata": {},
   "outputs": [
    {
     "data": {
      "text/plain": [
       "0.8915594399935259"
      ]
     },
     "execution_count": 11,
     "metadata": {},
     "output_type": "execute_result"
    }
   ],
   "source": [
    "from sklearn.ensemble import RandomForestClassifier\n",
    "\n",
    "rfc = RandomForestClassifier()\n",
    "rfc.fit(X_train, y_train)\n",
    "rfc.score( X_test, y_test)"
   ]
  },
  {
   "cell_type": "code",
   "execution_count": 12,
   "id": "0ae712bd",
   "metadata": {},
   "outputs": [
    {
     "data": {
      "text/plain": [
       "DecisionTreeClassifier()"
      ]
     },
     "execution_count": 12,
     "metadata": {},
     "output_type": "execute_result"
    }
   ],
   "source": [
    "svm_rbf = svm.SVC(kernel='rbf', probability=True)\n",
    "svm_rbf.fit(X_train, y_train)\n",
    "\n",
    "kn = KNeighborsClassifier()\n",
    "kn.fit(X_train, y_train)\n",
    "\n",
    "dt_clf = DecisionTreeClassifier()\n",
    "dt_clf.fit(X_train, y_train)"
   ]
  },
  {
   "cell_type": "code",
   "execution_count": 13,
   "id": "f9b8f308",
   "metadata": {},
   "outputs": [
    {
     "name": "stdout",
     "output_type": "stream",
     "text": [
      "svm rbf :  0.9056405276361577\n",
      "kn  0.896495913247552\n",
      "dt_clf  0.8649348547382051\n",
      "vo :  0.8998138706805859\n"
     ]
    }
   ],
   "source": [
    "from sklearn.ensemble import VotingClassifier\n",
    "vo = VotingClassifier(estimators=[('svc',svm_rbf),('knn',kn),('DecisionTree',dt_clf)] , voting='soft' )\n",
    "vo.fit(X_train, y_train)\n",
    "print('svm rbf : ', svm_rbf.score(X_test, y_test))\n",
    "print('kn ', kn.score(X_test, y_test))\n",
    "print('dt_clf ', dt_clf.score(X_test, y_test))\n",
    "print('vo : ', vo.score(X_test, y_test))"
   ]
  },
  {
   "cell_type": "code",
   "execution_count": 14,
   "id": "f86cd73a",
   "metadata": {},
   "outputs": [
    {
     "data": {
      "text/plain": [
       "0.8888888888888888"
      ]
     },
     "execution_count": 14,
     "metadata": {},
     "output_type": "execute_result"
    }
   ],
   "source": [
    "from sklearn.ensemble import RandomForestClassifier\n",
    "rfc = RandomForestClassifier()\n",
    "rfc.fit(X_train, y_train)\n",
    "rfc.score(X_test,y_test)"
   ]
  },
  {
   "cell_type": "code",
   "execution_count": 15,
   "id": "c1e20c02",
   "metadata": {},
   "outputs": [
    {
     "data": {
      "text/plain": [
       "0.907825523994497"
      ]
     },
     "execution_count": 15,
     "metadata": {},
     "output_type": "execute_result"
    }
   ],
   "source": [
    "from sklearn.ensemble import GradientBoostingClassifier\n",
    "gbc = GradientBoostingClassifier()\n",
    "gbc.fit(X_train, y_train)\n",
    "gbc.score(X_test,y_test)"
   ]
  },
  {
   "cell_type": "code",
   "execution_count": 16,
   "id": "ddb7bb45",
   "metadata": {},
   "outputs": [
    {
     "data": {
      "text/html": [
       "<div>\n",
       "<style scoped>\n",
       "    .dataframe tbody tr th:only-of-type {\n",
       "        vertical-align: middle;\n",
       "    }\n",
       "\n",
       "    .dataframe tbody tr th {\n",
       "        vertical-align: top;\n",
       "    }\n",
       "\n",
       "    .dataframe thead th {\n",
       "        text-align: right;\n",
       "    }\n",
       "</style>\n",
       "<table border=\"1\" class=\"dataframe\">\n",
       "  <thead>\n",
       "    <tr style=\"text-align: right;\">\n",
       "      <th></th>\n",
       "      <th>age</th>\n",
       "      <th>duration</th>\n",
       "      <th>campaign</th>\n",
       "      <th>pdays</th>\n",
       "      <th>previous</th>\n",
       "      <th>y</th>\n",
       "    </tr>\n",
       "  </thead>\n",
       "  <tbody>\n",
       "    <tr>\n",
       "      <th>0</th>\n",
       "      <td>56</td>\n",
       "      <td>261</td>\n",
       "      <td>1</td>\n",
       "      <td>999</td>\n",
       "      <td>0</td>\n",
       "      <td>0</td>\n",
       "    </tr>\n",
       "    <tr>\n",
       "      <th>1</th>\n",
       "      <td>57</td>\n",
       "      <td>149</td>\n",
       "      <td>1</td>\n",
       "      <td>999</td>\n",
       "      <td>0</td>\n",
       "      <td>0</td>\n",
       "    </tr>\n",
       "  </tbody>\n",
       "</table>\n",
       "</div>"
      ],
      "text/plain": [
       "   age  duration  campaign  pdays  previous  y\n",
       "0   56       261         1    999         0  0\n",
       "1   57       149         1    999         0  0"
      ]
     },
     "execution_count": 16,
     "metadata": {},
     "output_type": "execute_result"
    }
   ],
   "source": [
    "df.head(2)"
   ]
  },
  {
   "cell_type": "code",
   "execution_count": 17,
   "id": "96a59cc4",
   "metadata": {},
   "outputs": [
    {
     "data": {
      "text/plain": [
       "array([0], dtype=int64)"
      ]
     },
     "execution_count": 17,
     "metadata": {},
     "output_type": "execute_result"
    }
   ],
   "source": [
    "gbc.predict([[56,261,1,999,0]])"
   ]
  },
  {
   "cell_type": "code",
   "execution_count": 18,
   "id": "7e39ef4b",
   "metadata": {},
   "outputs": [],
   "source": [
    "pred = rfc.predict(X_test)"
   ]
  },
  {
   "cell_type": "code",
   "execution_count": 19,
   "id": "c8cbe9d0",
   "metadata": {},
   "outputs": [
    {
     "name": "stdout",
     "output_type": "stream",
     "text": [
      "정확도 :  0.8888888888888888\n",
      "재현율 :  0.3813372520205731\n",
      "정밀도 :  0.4942857142857143\n",
      "f1_score :  0.43052675238490257\n"
     ]
    }
   ],
   "source": [
    "#예측 정확도 평가(Accuracy 를 통한 성능평가)\n",
    "from sklearn.metrics import accuracy_score, precision_score, recall_score, f1_score\n",
    "accuracy = accuracy_score(y_test, pred) #정확도\n",
    "precision = precision_score(y_test, pred) #정밀도\n",
    "recall = recall_score(y_test, pred) #재현율\n",
    "f1 = f1_score(y_test, pred) #f1 score\n",
    "\n",
    "print('정확도 : ',accuracy)\n",
    "print('재현율 : ',recall)\n",
    "print('정밀도 : ',precision)\n",
    "print('f1_score : ',f1)"
   ]
  },
  {
   "cell_type": "code",
   "execution_count": null,
   "id": "d5763923",
   "metadata": {},
   "outputs": [],
   "source": []
  }
 ],
 "metadata": {
  "kernelspec": {
   "display_name": "Python 3 (ipykernel)",
   "language": "python",
   "name": "python3"
  },
  "language_info": {
   "codemirror_mode": {
    "name": "ipython",
    "version": 3
   },
   "file_extension": ".py",
   "mimetype": "text/x-python",
   "name": "python",
   "nbconvert_exporter": "python",
   "pygments_lexer": "ipython3",
   "version": "3.9.13"
  }
 },
 "nbformat": 4,
 "nbformat_minor": 5
}
