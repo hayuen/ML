{
 "cells": [
  {
   "cell_type": "markdown",
   "id": "5234e678",
   "metadata": {},
   "source": [
    "# 사이킷런 치트시트\n",
    "![image.png](image/cheatsheet.png)"
   ]
  },
  {
   "cell_type": "markdown",
   "id": "6e0f6471",
   "metadata": {},
   "source": [
    "# 분류 알고리즘\n",
    ">\n",
    "![image.png](image/분류알고리즘.png)"
   ]
  },
  {
   "cell_type": "markdown",
   "id": "c601a213",
   "metadata": {},
   "source": [
    "## SVM(Support Vector Machine)\n",
    "* 특정 데이터들을 구분하는 선을 찾고, 이를 기반으로 패턴을 인식하는 방법\n",
    "* SVM 선형 모델\n",
    "    - 선형으로 데이터들을 구분지을 수 있는 경우\n",
    "* SVM 비선형 모델\n",
    "    - 선형으로 데이터를 구분지을 수 없는 경우"
   ]
  },
  {
   "cell_type": "markdown",
   "id": "0ebc6fca",
   "metadata": {},
   "source": [
    "![image.png](image/svm.png)"
   ]
  },
  {
   "cell_type": "markdown",
   "id": "4dafb099",
   "metadata": {},
   "source": [
    "## Kneighbors(K-최근접 이웃 알고리즘)\n",
    "* 주위의 가장 가까운 다른 데이터를 보고 현재 데이터를 판단\n",
    "* 기본 비교 개수는 5개로 되어 있다\n",
    "* 비교 개수를 변경하고자 할 경우 n_neighbors에 값 지정\n"
   ]
  },
  {
   "cell_type": "markdown",
   "id": "7fa520c3",
   "metadata": {},
   "source": [
    "![image.png](image/kneighbors.png)"
   ]
  },
  {
   "cell_type": "markdown",
   "id": "414b4780",
   "metadata": {},
   "source": [
    "## Ensemble(앙상블)\n",
    "* 여러 개의 분류기(알고리즘)를 생성하고 그 예측을 결합함으로써 보다 정확한 분류기 생성\n",
    "* 앙상블의 대표 알고리즘은 랜덤포레스트와 그래디언트부스팅이 있다\n",
    ">\n",
    "* 앙상블 학습의 유형\n",
    "    - 보팅(Voting) : 서로 다른 알고리즘을 가진 분류기를 결합하여 사용\n",
    "    - 배깅(Bagging) : 모두 같은 유형의 알고리즘을 가진 분류기를 결합하여 사용\n",
    "        * 대표적 알고리즘인 랜덤포레스트가 있다\n",
    "    - 부스팅(Boosting) : 오류를 개선해 나가면서 학습하는 방식(다른 알고리즘에 비해 시간이 더 걸림)"
   ]
  },
  {
   "cell_type": "markdown",
   "id": "cd34c222",
   "metadata": {},
   "source": [
    "# train_test_split\n",
    "* 데이터를 알고리즘에 사용하고자 하는경우 속성(feature)과 정답(label) 구분을 해야 한다.\n",
    "* 알고리즘에 학습하기 위해 test data 와 train data를 구분하여 사용한다.\n",
    "    - 70% train(학습)데이터, 30% test 데이터(실제 데이터로 가정하여 확인)\n",
    "    - 20% test 데이터 , 80% -> 20%(validation)검증, 80% 학습데이터"
   ]
  },
  {
   "cell_type": "markdown",
   "id": "9760ad71",
   "metadata": {},
   "source": []
  }
 ],
 "metadata": {
  "kernelspec": {
   "display_name": "Python 3 (ipykernel)",
   "language": "python",
   "name": "python3"
  },
  "language_info": {
   "codemirror_mode": {
    "name": "ipython",
    "version": 3
   },
   "file_extension": ".py",
   "mimetype": "text/x-python",
   "name": "python",
   "nbconvert_exporter": "python",
   "pygments_lexer": "ipython3",
   "version": "3.9.13"
  },
  "toc": {
   "base_numbering": 1,
   "nav_menu": {},
   "number_sections": true,
   "sideBar": true,
   "skip_h1_title": false,
   "title_cell": "Table of Contents",
   "title_sidebar": "Contents",
   "toc_cell": false,
   "toc_position": {},
   "toc_section_display": true,
   "toc_window_display": false
  }
 },
 "nbformat": 4,
 "nbformat_minor": 5
}
