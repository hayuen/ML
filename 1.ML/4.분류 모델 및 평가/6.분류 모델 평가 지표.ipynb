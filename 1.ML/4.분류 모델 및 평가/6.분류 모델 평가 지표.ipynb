{
 "cells": [
  {
   "cell_type": "markdown",
   "id": "86502bc6",
   "metadata": {},
   "source": [
    "### Classification Metric\n",
    "* Metric : 학습을 통해 목표를 얼마나 잘(못) 달성했는지를 나타내는 값을 척도(metric)라고 합니다\n",
    "    - Accuracy(정확도)\n",
    "        * 전체 샘플 중 맞게 예측한 샘플 수의 비율\n",
    "    - Recall(재현율)\n",
    "        * 양성 샘플을 양성으로 맞춘 비율과 양성을 음성으로 잘못 예측한 비율\n",
    "    - Precision(정밀도)\n",
    "        * 양성이라고 예측한 값의 비례하는 실제 값이 양성인 비율\n",
    "    - F1 - score\n",
    "        * Reacll과 Precision의 조화평균"
   ]
  },
  {
   "cell_type": "markdown",
   "id": "5b1e83ea",
   "metadata": {},
   "source": [
    "### Accuracy(정확도)\n",
    "* 전체 샘플 중 맞게 예측한 샘플 수의 비율\n",
    "    - 10개중 8개를 맞추면 80%\n",
    "    "
   ]
  },
  {
   "cell_type": "code",
   "execution_count": 1,
   "id": "972af623",
   "metadata": {},
   "outputs": [],
   "source": [
    "y_test = [0,1,1,0,0,0,1,1,1,1] # 실제 답\n",
    "y_pred = [1,0,0,0,0,0,1,1,1,1] # 예측 답"
   ]
  },
  {
   "cell_type": "code",
   "execution_count": 2,
   "id": "4b36809a",
   "metadata": {},
   "outputs": [
    {
     "data": {
      "text/plain": [
       "0.7"
      ]
     },
     "execution_count": 2,
     "metadata": {},
     "output_type": "execute_result"
    }
   ],
   "source": [
    "from sklearn.metrics import accuracy_score\n",
    "accuracy = accuracy_score( y_test, y_pred )\n",
    "# 모델.score( X_test, y_test )\n",
    "accuracy"
   ]
  },
  {
   "cell_type": "markdown",
   "id": "a8e7bf7b",
   "metadata": {},
   "source": [
    "> 1:암, 0:정상"
   ]
  },
  {
   "cell_type": "code",
   "execution_count": 3,
   "id": "82fc73cc",
   "metadata": {},
   "outputs": [],
   "source": [
    "y_test = [1,1,0,1,1,1,1,1,1,1,]\n",
    "y_pred = [0,1,1,1,1,1,1,1,1,1,]"
   ]
  },
  {
   "cell_type": "code",
   "execution_count": 5,
   "id": "cd422bbf",
   "metadata": {},
   "outputs": [
    {
     "data": {
      "text/plain": [
       "0.8"
      ]
     },
     "execution_count": 5,
     "metadata": {},
     "output_type": "execute_result"
    }
   ],
   "source": [
    "acc = accuracy_score( y_test, y_pred )\n",
    "# 모델.score( X_test, y_test )\n",
    "acc"
   ]
  },
  {
   "cell_type": "markdown",
   "id": "aaa38feb",
   "metadata": {},
   "source": [
    "### 재현율(recall )\n",
    "* 양성(1)이 중요한 경우 사용\n",
    "* 높을수록 좋다"
   ]
  },
  {
   "cell_type": "code",
   "execution_count": 6,
   "id": "2437cac5",
   "metadata": {},
   "outputs": [],
   "source": [
    "y_test = [0,0,0,1,1,1,1,1,1,1,]\n",
    "y_pred = [1,1,1,1,1,1,1,1,1,1,]"
   ]
  },
  {
   "cell_type": "code",
   "execution_count": 7,
   "id": "8d38dd55",
   "metadata": {},
   "outputs": [
    {
     "data": {
      "text/plain": [
       "1.0"
      ]
     },
     "execution_count": 7,
     "metadata": {},
     "output_type": "execute_result"
    }
   ],
   "source": [
    "from sklearn.metrics import recall_score\n",
    "recall = recall_score(y_test, y_pred)\n",
    "recall"
   ]
  },
  {
   "cell_type": "code",
   "execution_count": 8,
   "id": "78fec4bd",
   "metadata": {},
   "outputs": [
    {
     "data": {
      "text/plain": [
       "0.7"
      ]
     },
     "execution_count": 8,
     "metadata": {},
     "output_type": "execute_result"
    }
   ],
   "source": [
    "y_test = [1,1,1,1,1,1,1,1,1,1,]\n",
    "y_pred = [0,0,0,1,1,1,1,1,1,1,]\n",
    "recall = recall_score(y_test, y_pred)\n",
    "recall"
   ]
  },
  {
   "cell_type": "markdown",
   "id": "68c26c8b",
   "metadata": {},
   "source": [
    "   * 스팸 메일 분류"
   ]
  },
  {
   "cell_type": "code",
   "execution_count": 10,
   "id": "0f121f1e",
   "metadata": {},
   "outputs": [
    {
     "data": {
      "text/plain": [
       "1.0"
      ]
     },
     "execution_count": 10,
     "metadata": {},
     "output_type": "execute_result"
    }
   ],
   "source": [
    "y_test = [0,0,0,1,1,1,1,1,1,1,] # 스팸 1, 정상 0 \n",
    "y_pred = [1,1,1,1,1,1,1,1,1,1,]\n",
    "recall = recall_score(y_test,y_pred)\n",
    "recall"
   ]
  },
  {
   "cell_type": "markdown",
   "id": "fcbba347",
   "metadata": {},
   "source": [
    "### 정밀도(precision)\n",
    "   * 실제 음성값을 못맞추는 경우 예측력이 떨어진다"
   ]
  },
  {
   "cell_type": "code",
   "execution_count": 11,
   "id": "7ed61c01",
   "metadata": {},
   "outputs": [],
   "source": [
    "y_test = [1,1,1,1,1,1,1,1,1,1,1]\n",
    "y_pred = [0,0,0,1,1,1,1,1,1,1,1]"
   ]
  },
  {
   "cell_type": "code",
   "execution_count": 12,
   "id": "f7562556",
   "metadata": {},
   "outputs": [
    {
     "data": {
      "text/plain": [
       "1.0"
      ]
     },
     "execution_count": 12,
     "metadata": {},
     "output_type": "execute_result"
    }
   ],
   "source": [
    "from sklearn.metrics import precision_score\n",
    "precision = precision_score(y_test, y_pred)\n",
    "precision"
   ]
  },
  {
   "cell_type": "code",
   "execution_count": 13,
   "id": "c886d44b",
   "metadata": {},
   "outputs": [
    {
     "data": {
      "text/plain": [
       "0.7"
      ]
     },
     "execution_count": 13,
     "metadata": {},
     "output_type": "execute_result"
    }
   ],
   "source": [
    "y_test = [0,0,0,1,1,1,1,1,1,1] # 스팸 1, 정상 0 \n",
    "y_pred = [1,1,1,1,1,1,1,1,1,1]\n",
    "\n",
    "precision = precision_score(y_test, y_pred)\n",
    "precision"
   ]
  },
  {
   "cell_type": "markdown",
   "id": "48cdffb7",
   "metadata": {},
   "source": [
    "### F1_score"
   ]
  },
  {
   "cell_type": "code",
   "execution_count": 14,
   "id": "3cc512fc",
   "metadata": {},
   "outputs": [],
   "source": [
    "y_test = [0,0,1,1,1,1,1,1,1,1]\n",
    "y_pred = [1,1,1,1,1,1,1,1,1,1]"
   ]
  },
  {
   "cell_type": "code",
   "execution_count": 15,
   "id": "6199bd5e",
   "metadata": {},
   "outputs": [
    {
     "name": "stdout",
     "output_type": "stream",
     "text": [
      "acc(정확도) :  0.8\n",
      "recall(재현율) :  1.0\n",
      "precision(정밀도) :  0.8\n",
      "f1_score :  0.888888888888889\n"
     ]
    }
   ],
   "source": [
    "from sklearn.metrics import f1_score\n",
    "\n",
    "acc = accuracy_score(y_test,y_pred)\n",
    "recall = recall_score(y_test,y_pred)\n",
    "precision = precision_score(y_test,y_pred)\n",
    "f1 = f1_score(y_test,y_pred)\n",
    "print('acc(정확도) : ',acc)\n",
    "print('recall(재현율) : ',recall)\n",
    "print('precision(정밀도) : ',precision)\n",
    "print('f1_score : ',f1)"
   ]
  },
  {
   "cell_type": "markdown",
   "id": "b5a9770d",
   "metadata": {},
   "source": [
    "### 평가지표 선택 방법\n",
    "* accuracy : label값이 편향되어 있지 않은 경우\n",
    "* f1_score : label값이 편향된 경우"
   ]
  },
  {
   "cell_type": "code",
   "execution_count": null,
   "id": "55fa1140",
   "metadata": {},
   "outputs": [],
   "source": []
  },
  {
   "cell_type": "code",
   "execution_count": null,
   "id": "180081fb",
   "metadata": {},
   "outputs": [],
   "source": []
  },
  {
   "cell_type": "code",
   "execution_count": null,
   "id": "c575571e",
   "metadata": {},
   "outputs": [],
   "source": []
  },
  {
   "cell_type": "code",
   "execution_count": null,
   "id": "026040a3",
   "metadata": {},
   "outputs": [],
   "source": []
  },
  {
   "cell_type": "code",
   "execution_count": null,
   "id": "4000da11",
   "metadata": {},
   "outputs": [],
   "source": []
  },
  {
   "cell_type": "code",
   "execution_count": null,
   "id": "46c9ada6",
   "metadata": {},
   "outputs": [],
   "source": []
  },
  {
   "cell_type": "code",
   "execution_count": null,
   "id": "ff94afdb",
   "metadata": {},
   "outputs": [],
   "source": []
  },
  {
   "cell_type": "code",
   "execution_count": null,
   "id": "ad3054bb",
   "metadata": {},
   "outputs": [],
   "source": []
  },
  {
   "cell_type": "code",
   "execution_count": null,
   "id": "4f3d83de",
   "metadata": {},
   "outputs": [],
   "source": []
  },
  {
   "cell_type": "code",
   "execution_count": null,
   "id": "c233811c",
   "metadata": {},
   "outputs": [],
   "source": []
  }
 ],
 "metadata": {
  "kernelspec": {
   "display_name": "Python 3 (ipykernel)",
   "language": "python",
   "name": "python3"
  },
  "language_info": {
   "codemirror_mode": {
    "name": "ipython",
    "version": 3
   },
   "file_extension": ".py",
   "mimetype": "text/x-python",
   "name": "python",
   "nbconvert_exporter": "python",
   "pygments_lexer": "ipython3",
   "version": "3.9.13"
  }
 },
 "nbformat": 4,
 "nbformat_minor": 5
}
