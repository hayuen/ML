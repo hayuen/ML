{
 "cells": [
  {
   "cell_type": "markdown",
   "id": "4545e969",
   "metadata": {},
   "source": [
    "### 데이터 분석"
   ]
  },
  {
   "cell_type": "markdown",
   "id": "4fc4c476",
   "metadata": {},
   "source": [
    "![image.png](image/AI.png)"
   ]
  },
  {
   "cell_type": "markdown",
   "id": "ca3fb6d8",
   "metadata": {},
   "source": [
    "### 머신러닝 이란?\n",
    "* 데이터를 기반으로 패턴을 학습하여 결과를 추론하는 것\n",
    "* 명시적인 프로그래밍 없이 컴퓨터가 학습하는 능력을 갖추게 하는 연구분야\n",
    ">\n",
    "![image.png](image/머신러닝.png)"
   ]
  },
  {
   "cell_type": "markdown",
   "id": "957c8814",
   "metadata": {},
   "source": [
    "#### 일반적인 프로그래밍\n",
    "* 과일의 상품성을 확인해 주는 프로그래밍\n",
    "    - if 과일무게 > 100 -> if 과일의 상처 == 존재하지 않음 -> 상품성 A\n",
    "    - elif 과일 무게 > 100 -> else(상처가 있다) -> 상품성 B\n",
    "\n",
    "#### 머신러닝 프로그래밍\n",
    "* 지금까지의 경험의 데이터를 특정 알고리즘에 넣어서 학습\n",
    "* 학습된 모델을 가지고 새로운 데이터의 결과값을 알아내는 방식   "
   ]
  },
  {
   "cell_type": "markdown",
   "id": "a02231c0",
   "metadata": {},
   "source": [
    "### 머신러닝 종류\n",
    "* 지도학습 알고리즘\n",
    "    - 주요 목적은 레이블(정답)이 있는 훈련 데이터로 모델을 학습하여 예측할 때 사용\n",
    "    - 분류(classification)\n",
    "        - 독립변수(문제)에 의하여 종속변수(정답)가 딱 떨어지는 값일 때\n",
    "        - 예) 스펨메일, 은행에서 대출 승인/거절, 생존 중 살았다/죽었다. 등..\n",
    "    - 회귀(regression)\n",
    "        - 임의의 숫자를 맞추는 것.\n",
    "        - 어떤 사람의 나이, 농작물의 수확량, 주가 가격 등을 예측\n",
    ">\n",
    "![image.png](image/머신러닝종류.png)"
   ]
  },
  {
   "cell_type": "markdown",
   "id": "a723a450",
   "metadata": {},
   "source": [
    "### 머신러닝 Life Cycle\n",
    ">\n",
    "![image.png](image/머신러닝라이프사이클.png)"
   ]
  },
  {
   "cell_type": "markdown",
   "id": "5f8df724",
   "metadata": {},
   "source": [
    "### 사이킷 런\n",
    "* 사이킷런은 파이썬 머신러닝 라이브러리 중 가장 많이 사용되는 라이브러리\n",
    "* 파이썬 기반의 머신러닝을 위한 가장 쉽고 효율적인 개발 라이브러리를 제공\n",
    "* 많은 사용자 들이 사용하는 라이브러리로 검증되어 있다"
   ]
  },
  {
   "cell_type": "markdown",
   "id": "da52a34e",
   "metadata": {},
   "source": [
    "#### 알고리즘 선택 방법\n",
    "* 사이킷런에서 알고리즘 선택방법을 제시하고 있다\n",
    "* https://scikit-learn.org/stable/tutorial/machine_learning_map/index.html\n",
    ">\n",
    "![image.png](image/cheatsheet.png)"
   ]
  }
 ],
 "metadata": {
  "kernelspec": {
   "display_name": "Python 3 (ipykernel)",
   "language": "python",
   "name": "python3"
  },
  "language_info": {
   "codemirror_mode": {
    "name": "ipython",
    "version": 3
   },
   "file_extension": ".py",
   "mimetype": "text/x-python",
   "name": "python",
   "nbconvert_exporter": "python",
   "pygments_lexer": "ipython3",
   "version": "3.9.13"
  },
  "toc": {
   "base_numbering": 1,
   "nav_menu": {},
   "number_sections": true,
   "sideBar": true,
   "skip_h1_title": false,
   "title_cell": "Table of Contents",
   "title_sidebar": "Contents",
   "toc_cell": false,
   "toc_position": {},
   "toc_section_display": true,
   "toc_window_display": false
  }
 },
 "nbformat": 4,
 "nbformat_minor": 5
}
