{
 "cells": [
  {
   "cell_type": "markdown",
   "id": "689718b3",
   "metadata": {},
   "source": [
    "### Quiz( data/wine-data.csv )\n",
    "* 각 분류기들을 이용하여 모델을 생성하고 평가하시오\n",
    "* class : 0 - 레드와인, 1 - 화이트와인\n",
    "\n",
    "\n",
    "### Quiz\n",
    "\n",
    "* 다음 데이터셋(loan_train_cleaning.csv)을 분석하여 loan_test_cleaning.csv파일의 레이블을 넣으시오\n",
    "> test데이터에 레이블이 없어 처리하려 한다. 또한 데이터 자동화를 하여 대출 가능한지 아닌지를 만들고자 한다\n",
    "* Dream Housing Finance 회사는 모든 주택 융자를 취급합니다. 그들은 모든 도시, 중 도시 및 농촌 지역에 존재합니다.\n",
    "* 해당 회사가 고객의 대출 자격을 확인한 후 주택 대출을 고객에게 해준다.\n",
    "* 고객은 지원 양식을 작성하는 동안 회사는 고객 세부 정보를 기반으로 대출 자격 프로세스(실시간)를  자동화하려고 합니다. \n",
    "* 이러한 세부 정보는 성별, 결혼 여부, 교육, 부양 가족 수, 소득, 대출 금액, 신용 기록 등입니다. \n",
    "* 특정 고객이 각각의 값을 입력 했을 경우 대출이 되는지 안되는지 자동화를 진행하고자 한다.\n",
    ">\n",
    "* 컬럼\n",
    "    - Loan_ID : 고유 대출 id\n",
    "    - Gender : 성별(1:남성, 0:여성)\n",
    "    - married : 1:기혼, 0:미혼\n",
    "    - dependents : 부양가족 수\n",
    "    - education : 대학원( 0:졸업, 1:미졸업 )\n",
    "    - self_employed : 0:자영업 아님, 1:자영업\n",
    "    - applicantlncome : 신청자 소득\n",
    "    - coapplicantlncome : 신청인 소득\n",
    "    - loanAmount : 대출금액(천만원)\n",
    "    - loan_amount_term : 대출기간(개월)\n",
    "    - credit_history : 신용 기록 지침(0:미충족, 1:충족)\n",
    "    - property_area : 2:도시, 1:중 도시, 0:농촌\n",
    "    - loan_status : 대출(1:승인, 0:거절)"
   ]
  },
  {
   "cell_type": "code",
   "execution_count": 1,
   "id": "10d558c7",
   "metadata": {},
   "outputs": [
    {
     "data": {
      "text/html": [
       "<div>\n",
       "<style scoped>\n",
       "    .dataframe tbody tr th:only-of-type {\n",
       "        vertical-align: middle;\n",
       "    }\n",
       "\n",
       "    .dataframe tbody tr th {\n",
       "        vertical-align: top;\n",
       "    }\n",
       "\n",
       "    .dataframe thead th {\n",
       "        text-align: right;\n",
       "    }\n",
       "</style>\n",
       "<table border=\"1\" class=\"dataframe\">\n",
       "  <thead>\n",
       "    <tr style=\"text-align: right;\">\n",
       "      <th></th>\n",
       "      <th>alcohol</th>\n",
       "      <th>sugar</th>\n",
       "      <th>pH</th>\n",
       "      <th>class</th>\n",
       "    </tr>\n",
       "  </thead>\n",
       "  <tbody>\n",
       "    <tr>\n",
       "      <th>0</th>\n",
       "      <td>9.4</td>\n",
       "      <td>1.9</td>\n",
       "      <td>3.51</td>\n",
       "      <td>0</td>\n",
       "    </tr>\n",
       "    <tr>\n",
       "      <th>1</th>\n",
       "      <td>9.8</td>\n",
       "      <td>2.6</td>\n",
       "      <td>3.20</td>\n",
       "      <td>0</td>\n",
       "    </tr>\n",
       "    <tr>\n",
       "      <th>2</th>\n",
       "      <td>9.8</td>\n",
       "      <td>2.3</td>\n",
       "      <td>3.26</td>\n",
       "      <td>0</td>\n",
       "    </tr>\n",
       "    <tr>\n",
       "      <th>3</th>\n",
       "      <td>9.8</td>\n",
       "      <td>1.9</td>\n",
       "      <td>3.16</td>\n",
       "      <td>0</td>\n",
       "    </tr>\n",
       "    <tr>\n",
       "      <th>4</th>\n",
       "      <td>9.4</td>\n",
       "      <td>1.9</td>\n",
       "      <td>3.51</td>\n",
       "      <td>0</td>\n",
       "    </tr>\n",
       "  </tbody>\n",
       "</table>\n",
       "</div>"
      ],
      "text/plain": [
       "   alcohol  sugar    pH  class\n",
       "0      9.4    1.9  3.51      0\n",
       "1      9.8    2.6  3.20      0\n",
       "2      9.8    2.3  3.26      0\n",
       "3      9.8    1.9  3.16      0\n",
       "4      9.4    1.9  3.51      0"
      ]
     },
     "execution_count": 1,
     "metadata": {},
     "output_type": "execute_result"
    }
   ],
   "source": [
    "import pandas as pd\n",
    "wine = pd.read_csv('data/wine-data.csv')\n",
    "wine.head()"
   ]
  },
  {
   "cell_type": "code",
   "execution_count": 2,
   "id": "a5a75e97",
   "metadata": {},
   "outputs": [
    {
     "data": {
      "text/plain": [
       "Index(['alcohol', 'sugar', 'pH', 'class'], dtype='object')"
      ]
     },
     "execution_count": 2,
     "metadata": {},
     "output_type": "execute_result"
    }
   ],
   "source": [
    "wine.columns"
   ]
  },
  {
   "cell_type": "code",
   "execution_count": 3,
   "id": "691d5651",
   "metadata": {},
   "outputs": [],
   "source": [
    "features = ['alcohol', 'sugar', 'pH']\n",
    "label = 'class'\n",
    "\n",
    "X, y = wine[features], wine[label]\n"
   ]
  },
  {
   "cell_type": "code",
   "execution_count": 4,
   "id": "33f219b9",
   "metadata": {},
   "outputs": [],
   "source": [
    "from sklearn.model_selection import train_test_split\n",
    "X_train, X_test , y_train, y_test = \\\n",
    "                train_test_split(X, y ,test_size=0.2)"
   ]
  },
  {
   "cell_type": "code",
   "execution_count": 5,
   "id": "2c636a73",
   "metadata": {},
   "outputs": [
    {
     "name": "stdout",
     "output_type": "stream",
     "text": [
      "0.9045603232634212\n",
      "0.8623076923076923\n"
     ]
    }
   ],
   "source": [
    "import warnings\n",
    "warnings.filterwarnings('ignore')\n",
    "from sklearn.neighbors import KNeighborsClassifier\n",
    "\n",
    "kn = KNeighborsClassifier()\n",
    "kn.fit(X_train, y_train)\n",
    "\n",
    "print(kn.score(X_train, y_train))\n",
    "print(kn.score(X_test, y_test))"
   ]
  },
  {
   "cell_type": "code",
   "execution_count": 6,
   "id": "b83f24a7",
   "metadata": {},
   "outputs": [
    {
     "name": "stdout",
     "output_type": "stream",
     "text": [
      "0.7796805849528574\n",
      "0.7623076923076924\n"
     ]
    }
   ],
   "source": [
    "from sklearn.svm import SVC\n",
    "svm_linear = SVC(kernel='linear')\n",
    "svm_linear.fit(X_train, y_train)\n",
    "print(svm_linear.score(X_train, y_train))\n",
    "print(svm_linear.score(X_test, y_test))"
   ]
  },
  {
   "cell_type": "code",
   "execution_count": 7,
   "id": "b15c0a2b",
   "metadata": {},
   "outputs": [
    {
     "name": "stdout",
     "output_type": "stream",
     "text": [
      "0.8449105253030594\n",
      "0.8430769230769231\n"
     ]
    }
   ],
   "source": [
    "svm_rbf = SVC(kernel='rbf')\n",
    "svm_rbf.fit(X_train, y_train)\n",
    "print(svm_rbf.score(X_train, y_train))\n",
    "print(svm_rbf.score(X_test, y_test))"
   ]
  },
  {
   "cell_type": "code",
   "execution_count": 9,
   "id": "6973490e",
   "metadata": {},
   "outputs": [
    {
     "name": "stdout",
     "output_type": "stream",
     "text": [
      "svm :  0.8430769230769231\n",
      "knn :  0.8623076923076923\n",
      "vo :  0.8661538461538462\n"
     ]
    }
   ],
   "source": [
    "svm_rbf = SVC(kernel='rbf', probability=True)\n",
    "svm_rbf.fit(X_train, y_train)\n",
    "from sklearn.ensemble import VotingClassifier\n",
    "vo = VotingClassifier(estimators=[('svc',svm_rbf),('knn',kn)], voting='soft')\n",
    "\n",
    "vo.fit( X_train, y_train )\n",
    "print('svm : ', svm_rbf.score(X_test, y_test) )\n",
    "print('knn : ', kn.score(X_test, y_test) )\n",
    "print('vo : ', vo.score(X_test, y_test ))\n"
   ]
  },
  {
   "cell_type": "markdown",
   "id": "dfae19ea",
   "metadata": {},
   "source": [
    "### MinMaxScaler\n"
   ]
  },
  {
   "cell_type": "code",
   "execution_count": 11,
   "id": "e7c6ba84",
   "metadata": {},
   "outputs": [],
   "source": [
    "from sklearn.preprocessing import MinMaxScaler\n",
    "minMaxScaler = MinMaxScaler()\n",
    "minMaxScaler.fit(X_train)\n",
    "X_train_minMax = minMaxScaler.transform(X_train)\n",
    "X_test_minMax = minMaxScaler.transform(X_test)"
   ]
  },
  {
   "cell_type": "markdown",
   "id": "a48e5acb",
   "metadata": {},
   "source": [
    "### StandardScaler"
   ]
  },
  {
   "cell_type": "code",
   "execution_count": 14,
   "id": "edb99730",
   "metadata": {},
   "outputs": [],
   "source": [
    "from sklearn.preprocessing import StandardScaler\n",
    "\n",
    "scaler = StandardScaler()\n",
    "scaler.fit(X_train)\n",
    "\n",
    "X_train_scaler = scaler.transform(X_train)\n",
    "X_test_scaler = scaler.transform(X_test)"
   ]
  },
  {
   "cell_type": "code",
   "execution_count": 15,
   "id": "10df207a",
   "metadata": {},
   "outputs": [
    {
     "name": "stdout",
     "output_type": "stream",
     "text": [
      "0.7558206657687128\n",
      "0.7446153846153846\n"
     ]
    }
   ],
   "source": [
    "svm_linear = SVC(kernel='linear')\n",
    "svm_linear.fit(X_train_minMax, y_train)\n",
    "print(svm_linear.score(X_train_minMax, y_train))\n",
    "print(svm_linear.score(X_test_minMax, y_test))"
   ]
  },
  {
   "cell_type": "code",
   "execution_count": 16,
   "id": "82ae010e",
   "metadata": {},
   "outputs": [
    {
     "name": "stdout",
     "output_type": "stream",
     "text": [
      "0.800461804887435\n",
      "0.7807692307692308\n"
     ]
    }
   ],
   "source": [
    "svm_rbf = SVC(kernel='rbf')\n",
    "svm_rbf.fit(X_train_minMax, y_train)\n",
    "print(svm_rbf.score(X_train_minMax, y_train))\n",
    "print(svm_rbf.score(X_test_minMax, y_test))"
   ]
  },
  {
   "cell_type": "code",
   "execution_count": 18,
   "id": "98e62741",
   "metadata": {},
   "outputs": [
    {
     "name": "stdout",
     "output_type": "stream",
     "text": [
      "최적의 하이퍼 파라미터 :  {'C': 100.0, 'gamma': 1.0}\n",
      "train : 0.8807004040792765\n",
      "test : 0.85\n"
     ]
    }
   ],
   "source": [
    "#GridSearchCV\n",
    "from sklearn.model_selection import GridSearchCV\n",
    "\n",
    "param_c = [ 0.001, 0.01, 0.1, 1.0, 10.0, 100.0]\n",
    "param_gamma = [ 0.001, 0.01, 0.1, 1.0, 10.0 ]\n",
    "params = {\n",
    "    'C':param_c,\n",
    "    'gamma':param_gamma\n",
    "}\n",
    "\n",
    "svc = SVC(kernel = 'rbf')\n",
    "\n",
    "grid_cv = GridSearchCV(svc, param_grid = params, cv=3, n_jobs = -1)# n_jobs : 사용할 코어의 수 . -1인경우 모든 코어를 사용함\n",
    "grid_cv.fit(X_train_scaler, y_train)\n",
    "print('최적의 하이퍼 파라미터 : ', grid_cv.best_params_)\n",
    "\n",
    "print('train :',grid_cv.score(X_train_scaler,y_train))\n",
    "print('test :',grid_cv.score(X_test_scaler,y_test))"
   ]
  },
  {
   "cell_type": "code",
   "execution_count": 19,
   "id": "d52843c3",
   "metadata": {},
   "outputs": [
    {
     "name": "stdout",
     "output_type": "stream",
     "text": [
      "train :  0.996921300750433\n",
      "test :  0.8976923076923077\n"
     ]
    }
   ],
   "source": [
    "from sklearn.ensemble import RandomForestClassifier\n",
    "rfc = RandomForestClassifier()\n",
    "\n",
    "rfc.fit(X_train, y_train)\n",
    "\n",
    "print(\"train : \",rfc.score(X_train,y_train))\n",
    "print(\"test : \",rfc.score(X_test,y_test))"
   ]
  },
  {
   "cell_type": "markdown",
   "id": "a82969d0",
   "metadata": {},
   "source": [
    "### GradientBoosting"
   ]
  },
  {
   "cell_type": "code",
   "execution_count": 20,
   "id": "08d36bb4",
   "metadata": {},
   "outputs": [
    {
     "name": "stdout",
     "output_type": "stream",
     "text": [
      "train :  0.8862805464691168\n",
      "test :  0.8569230769230769\n"
     ]
    }
   ],
   "source": [
    "from sklearn.ensemble import GradientBoostingClassifier\n",
    "\n",
    "gbc = GradientBoostingClassifier()\n",
    "gbc.fit(X_train, y_train)\n",
    "\n",
    "print(\"train : \",gbc.score(X_train,y_train))\n",
    "print(\"test : \",gbc.score(X_test,y_test))"
   ]
  }
 ],
 "metadata": {
  "kernelspec": {
   "display_name": "Python 3 (ipykernel)",
   "language": "python",
   "name": "python3"
  },
  "language_info": {
   "codemirror_mode": {
    "name": "ipython",
    "version": 3
   },
   "file_extension": ".py",
   "mimetype": "text/x-python",
   "name": "python",
   "nbconvert_exporter": "python",
   "pygments_lexer": "ipython3",
   "version": "3.9.13"
  }
 },
 "nbformat": 4,
 "nbformat_minor": 5
}
