{
 "cells": [
  {
   "cell_type": "markdown",
   "id": "d6b716a3",
   "metadata": {},
   "source": [
    "### 과대적합과 과소적합\n",
    "![image](images/과대_과소적합-1.png)\n",
    "#### 과대적합(overfitting)\n",
    "* 훈련데이터에만 잘 맞고 테스트데이터에는 낮은 정답률이 나오는 경우\n",
    "![image](images/과대적합.png)\n",
    ">\n",
    "\n",
    "#### 과소적합(underfitting)\n",
    "* 훈련이 제대로 이루어지지 않아 테스트 데이터보다 훈련데이터의 정답률이 낮은 경우\n",
    "* 훈련, 테스트데이터 모두 정답률이 낮은 경우\n",
    "* 훈련데이터의 개수가 적을 경우\n",
    "![image](images/과소적합.png)"
   ]
  },
  {
   "cell_type": "markdown",
   "id": "56b38015",
   "metadata": {},
   "source": [
    "### 스케일링\n",
    "* 수치형 데이터들의 값의 범위가 클 경우 사용한다.(연산 속도 증가)\n",
    "    - 예를 들어 주식의 가격을 생각했을 경우 100원의 1%와 100000원의 1%를 계산하고자 한다면 같은 1%연산이지만 숫자가 클 경우 연산속도에 영향을 미치게 된다.\n",
    "* 서로 다른 변수의 값 범위를 일정한 수준으로 맞추고자 하는 경우\n",
    "* 대표적 스케일링 클래스는 StandardScaler, MinMaxScaler이 있다\n",
    "* 사용 이유\n",
    "    - 연산속도를 올릴 수 있다\n",
    "    - 확률을 높일 수 있다\n",
    "    - 과대, 과소적합을 조금은 해결할 수 있다\n",
    "* 참고\n",
    "    - 이상치가 있을 경우 범위의 차이가 커지게 되므로 이상치는 제거해야 한다\n",
    "    - Ensemble는 따로 스케일링 할 필요가 없다\n",
    "    "
   ]
  },
  {
   "cell_type": "markdown",
   "id": "25cc7fe3",
   "metadata": {},
   "source": [
    "#### StandardScaler(label값은 스케일 하지 않는다)\n",
    "* 사이킷런에서 서포트벡터머신, 선형회귀, 로지스틱 회귀에 적용하는 것이 예측 성능 향상에 중요한 요소가 된다.\n",
    "* 각 특성의 평균을 0, 편차를 1로 변경하여 정규분포로 만드는 것이다\n",
    "    - 편차(deviation)는 예측값과 평균의 차이\n",
    "    > ![image](images/정규분포.png)\n",
    "\n",
    "#### MinMaxScaler(label값은 스케일 하지 않는다)\n",
    "* 모든 특성이 정확하게 0과 1사이에 위치하도록 데이터를 변경\n",
    "* k-means, k-nearest neighbor등의 알고리즘에 좋은 성능을 보인다"
   ]
  },
  {
   "cell_type": "code",
   "execution_count": 3,
   "id": "1267b401",
   "metadata": {},
   "outputs": [
    {
     "data": {
      "text/html": [
       "<div>\n",
       "<style scoped>\n",
       "    .dataframe tbody tr th:only-of-type {\n",
       "        vertical-align: middle;\n",
       "    }\n",
       "\n",
       "    .dataframe tbody tr th {\n",
       "        vertical-align: top;\n",
       "    }\n",
       "\n",
       "    .dataframe thead th {\n",
       "        text-align: right;\n",
       "    }\n",
       "</style>\n",
       "<table border=\"1\" class=\"dataframe\">\n",
       "  <thead>\n",
       "    <tr style=\"text-align: right;\">\n",
       "      <th></th>\n",
       "      <th>daum</th>\n",
       "      <th>naver</th>\n",
       "    </tr>\n",
       "  </thead>\n",
       "  <tbody>\n",
       "    <tr>\n",
       "      <th>0</th>\n",
       "      <td>2</td>\n",
       "      <td>1</td>\n",
       "    </tr>\n",
       "    <tr>\n",
       "      <th>1</th>\n",
       "      <td>4</td>\n",
       "      <td>2</td>\n",
       "    </tr>\n",
       "    <tr>\n",
       "      <th>2</th>\n",
       "      <td>6</td>\n",
       "      <td>3</td>\n",
       "    </tr>\n",
       "    <tr>\n",
       "      <th>3</th>\n",
       "      <td>8</td>\n",
       "      <td>4</td>\n",
       "    </tr>\n",
       "    <tr>\n",
       "      <th>4</th>\n",
       "      <td>10</td>\n",
       "      <td>5</td>\n",
       "    </tr>\n",
       "  </tbody>\n",
       "</table>\n",
       "</div>"
      ],
      "text/plain": [
       "   daum  naver\n",
       "0     2      1\n",
       "1     4      2\n",
       "2     6      3\n",
       "3     8      4\n",
       "4    10      5"
      ]
     },
     "execution_count": 3,
     "metadata": {},
     "output_type": "execute_result"
    }
   ],
   "source": [
    "import pandas as pd\n",
    "from sklearn.preprocessing import StandardScaler\n",
    "\n",
    "movie = {'daum':[2,4,6,8,10], 'naver':[1,2,3,4,5]}\n",
    "\n",
    "mv = pd.DataFrame(movie)\n",
    "mv"
   ]
  },
  {
   "cell_type": "code",
   "execution_count": 4,
   "id": "578fe0c8",
   "metadata": {},
   "outputs": [
    {
     "data": {
      "text/html": [
       "<div>\n",
       "<style scoped>\n",
       "    .dataframe tbody tr th:only-of-type {\n",
       "        vertical-align: middle;\n",
       "    }\n",
       "\n",
       "    .dataframe tbody tr th {\n",
       "        vertical-align: top;\n",
       "    }\n",
       "\n",
       "    .dataframe thead th {\n",
       "        text-align: right;\n",
       "    }\n",
       "</style>\n",
       "<table border=\"1\" class=\"dataframe\">\n",
       "  <thead>\n",
       "    <tr style=\"text-align: right;\">\n",
       "      <th></th>\n",
       "      <th>daum</th>\n",
       "      <th>naver</th>\n",
       "    </tr>\n",
       "  </thead>\n",
       "  <tbody>\n",
       "    <tr>\n",
       "      <th>0</th>\n",
       "      <td>-1.414214</td>\n",
       "      <td>-1.414214</td>\n",
       "    </tr>\n",
       "    <tr>\n",
       "      <th>1</th>\n",
       "      <td>-0.707107</td>\n",
       "      <td>-0.707107</td>\n",
       "    </tr>\n",
       "    <tr>\n",
       "      <th>2</th>\n",
       "      <td>0.000000</td>\n",
       "      <td>0.000000</td>\n",
       "    </tr>\n",
       "    <tr>\n",
       "      <th>3</th>\n",
       "      <td>0.707107</td>\n",
       "      <td>0.707107</td>\n",
       "    </tr>\n",
       "    <tr>\n",
       "      <th>4</th>\n",
       "      <td>1.414214</td>\n",
       "      <td>1.414214</td>\n",
       "    </tr>\n",
       "  </tbody>\n",
       "</table>\n",
       "</div>"
      ],
      "text/plain": [
       "       daum     naver\n",
       "0 -1.414214 -1.414214\n",
       "1 -0.707107 -0.707107\n",
       "2  0.000000  0.000000\n",
       "3  0.707107  0.707107\n",
       "4  1.414214  1.414214"
      ]
     },
     "execution_count": 4,
     "metadata": {},
     "output_type": "execute_result"
    }
   ],
   "source": [
    "standard_scaler = StandardScaler()\n",
    "scaler = standard_scaler.fit_transform(mv)\n",
    "pd.DataFrame(data=scaler, columns=['daum','naver'])"
   ]
  },
  {
   "cell_type": "code",
   "execution_count": 5,
   "id": "c575bb41",
   "metadata": {},
   "outputs": [
    {
     "data": {
      "text/plain": [
       "(0.0, 1.0)"
      ]
     },
     "execution_count": 5,
     "metadata": {},
     "output_type": "execute_result"
    }
   ],
   "source": [
    "round( scaler.mean(), 2) ,round(scaler.std(),2)"
   ]
  },
  {
   "cell_type": "code",
   "execution_count": 6,
   "id": "5ecae3bf",
   "metadata": {},
   "outputs": [
    {
     "data": {
      "text/html": [
       "<div>\n",
       "<style scoped>\n",
       "    .dataframe tbody tr th:only-of-type {\n",
       "        vertical-align: middle;\n",
       "    }\n",
       "\n",
       "    .dataframe tbody tr th {\n",
       "        vertical-align: top;\n",
       "    }\n",
       "\n",
       "    .dataframe thead th {\n",
       "        text-align: right;\n",
       "    }\n",
       "</style>\n",
       "<table border=\"1\" class=\"dataframe\">\n",
       "  <thead>\n",
       "    <tr style=\"text-align: right;\">\n",
       "      <th></th>\n",
       "      <th>daum</th>\n",
       "      <th>naver</th>\n",
       "    </tr>\n",
       "  </thead>\n",
       "  <tbody>\n",
       "    <tr>\n",
       "      <th>0</th>\n",
       "      <td>0.00</td>\n",
       "      <td>0.00</td>\n",
       "    </tr>\n",
       "    <tr>\n",
       "      <th>1</th>\n",
       "      <td>0.25</td>\n",
       "      <td>0.25</td>\n",
       "    </tr>\n",
       "    <tr>\n",
       "      <th>2</th>\n",
       "      <td>0.50</td>\n",
       "      <td>0.50</td>\n",
       "    </tr>\n",
       "    <tr>\n",
       "      <th>3</th>\n",
       "      <td>0.75</td>\n",
       "      <td>0.75</td>\n",
       "    </tr>\n",
       "    <tr>\n",
       "      <th>4</th>\n",
       "      <td>1.00</td>\n",
       "      <td>1.00</td>\n",
       "    </tr>\n",
       "  </tbody>\n",
       "</table>\n",
       "</div>"
      ],
      "text/plain": [
       "   daum  naver\n",
       "0  0.00   0.00\n",
       "1  0.25   0.25\n",
       "2  0.50   0.50\n",
       "3  0.75   0.75\n",
       "4  1.00   1.00"
      ]
     },
     "execution_count": 6,
     "metadata": {},
     "output_type": "execute_result"
    }
   ],
   "source": [
    "from sklearn.preprocessing import MinMaxScaler\n",
    "\n",
    "min_max_sc = MinMaxScaler()\n",
    "data = min_max_sc.fit_transform(mv)\n",
    "pd.DataFrame( data, columns= ['daum', 'naver'])"
   ]
  },
  {
   "cell_type": "markdown",
   "id": "295ed388",
   "metadata": {},
   "source": [
    "### bank 스케일링"
   ]
  },
  {
   "cell_type": "code",
   "execution_count": 7,
   "id": "8d791bc4",
   "metadata": {},
   "outputs": [
    {
     "data": {
      "text/html": [
       "<div>\n",
       "<style scoped>\n",
       "    .dataframe tbody tr th:only-of-type {\n",
       "        vertical-align: middle;\n",
       "    }\n",
       "\n",
       "    .dataframe tbody tr th {\n",
       "        vertical-align: top;\n",
       "    }\n",
       "\n",
       "    .dataframe thead th {\n",
       "        text-align: right;\n",
       "    }\n",
       "</style>\n",
       "<table border=\"1\" class=\"dataframe\">\n",
       "  <thead>\n",
       "    <tr style=\"text-align: right;\">\n",
       "      <th></th>\n",
       "      <th>age</th>\n",
       "      <th>duration</th>\n",
       "      <th>campaign</th>\n",
       "      <th>pdays</th>\n",
       "      <th>previous</th>\n",
       "      <th>y</th>\n",
       "    </tr>\n",
       "  </thead>\n",
       "  <tbody>\n",
       "    <tr>\n",
       "      <th>0</th>\n",
       "      <td>56</td>\n",
       "      <td>261</td>\n",
       "      <td>1</td>\n",
       "      <td>999</td>\n",
       "      <td>0</td>\n",
       "      <td>0</td>\n",
       "    </tr>\n",
       "    <tr>\n",
       "      <th>1</th>\n",
       "      <td>57</td>\n",
       "      <td>149</td>\n",
       "      <td>1</td>\n",
       "      <td>999</td>\n",
       "      <td>0</td>\n",
       "      <td>0</td>\n",
       "    </tr>\n",
       "    <tr>\n",
       "      <th>2</th>\n",
       "      <td>37</td>\n",
       "      <td>226</td>\n",
       "      <td>1</td>\n",
       "      <td>999</td>\n",
       "      <td>0</td>\n",
       "      <td>0</td>\n",
       "    </tr>\n",
       "    <tr>\n",
       "      <th>3</th>\n",
       "      <td>40</td>\n",
       "      <td>151</td>\n",
       "      <td>1</td>\n",
       "      <td>999</td>\n",
       "      <td>0</td>\n",
       "      <td>0</td>\n",
       "    </tr>\n",
       "    <tr>\n",
       "      <th>4</th>\n",
       "      <td>56</td>\n",
       "      <td>307</td>\n",
       "      <td>1</td>\n",
       "      <td>999</td>\n",
       "      <td>0</td>\n",
       "      <td>0</td>\n",
       "    </tr>\n",
       "  </tbody>\n",
       "</table>\n",
       "</div>"
      ],
      "text/plain": [
       "   age  duration  campaign  pdays  previous  y\n",
       "0   56       261         1    999         0  0\n",
       "1   57       149         1    999         0  0\n",
       "2   37       226         1    999         0  0\n",
       "3   40       151         1    999         0  0\n",
       "4   56       307         1    999         0  0"
      ]
     },
     "execution_count": 7,
     "metadata": {},
     "output_type": "execute_result"
    }
   ],
   "source": [
    "df = pd.read_csv('data/bank_cleaning.csv')\n",
    "df.head()"
   ]
  },
  {
   "cell_type": "code",
   "execution_count": 8,
   "id": "225507c3",
   "metadata": {},
   "outputs": [
    {
     "data": {
      "text/plain": [
       "Index(['age', 'duration', 'campaign', 'pdays', 'previous', 'y'], dtype='object')"
      ]
     },
     "execution_count": 8,
     "metadata": {},
     "output_type": "execute_result"
    }
   ],
   "source": [
    "df.columns"
   ]
  },
  {
   "cell_type": "code",
   "execution_count": 9,
   "id": "5ea7d795",
   "metadata": {},
   "outputs": [],
   "source": [
    "features = ['age', 'duration', 'campaign', 'pdays', 'previous']\n",
    "label = 'y'\n",
    "#문제와 정답 구분\n",
    "X, y = df[features], df[label]"
   ]
  },
  {
   "cell_type": "code",
   "execution_count": 12,
   "id": "ec2fb3eb",
   "metadata": {},
   "outputs": [],
   "source": [
    "from sklearn.model_selection import train_test_split\n",
    "X_train, X_test, y_train, y_test = \\\n",
    "                        train_test_split(X, y , test_size=0.2)"
   ]
  },
  {
   "cell_type": "code",
   "execution_count": 13,
   "id": "855dfd3e",
   "metadata": {},
   "outputs": [
    {
     "name": "stdout",
     "output_type": "stream",
     "text": [
      "학습 데이터 :  0.9905918057663126\n",
      "test 데이터 :  0.8862588006797767\n"
     ]
    }
   ],
   "source": [
    "from sklearn.ensemble import RandomForestClassifier\n",
    "\n",
    "rfc = RandomForestClassifier()\n",
    "rfc.fit(X_train, y_train)\n",
    "print('학습 데이터 : ', rfc.score(X_train, y_train))\n",
    "print('test 데이터 : ', rfc.score(X_test, y_test))\n"
   ]
  },
  {
   "cell_type": "code",
   "execution_count": 16,
   "id": "d90c6896",
   "metadata": {},
   "outputs": [
    {
     "name": "stdout",
     "output_type": "stream",
     "text": [
      "학습 데이터 :  0.9214264036418817\n",
      "test 데이터 :  0.9003398883224083\n"
     ]
    }
   ],
   "source": [
    "import warnings\n",
    "warnings.filterwarnings('ignore')\n",
    "from sklearn.neighbors import KNeighborsClassifier\n",
    "\n",
    "kn = KNeighborsClassifier()\n",
    "kn.fit( X_train, y_train )\n",
    "print('학습 데이터 : ', kn.score(X_train, y_train))\n",
    "print('test 데이터 : ', kn.score(X_test, y_test))"
   ]
  },
  {
   "cell_type": "markdown",
   "id": "471e9ddc",
   "metadata": {},
   "source": [
    "### 스케일"
   ]
  },
  {
   "cell_type": "code",
   "execution_count": 21,
   "id": "82641fa8",
   "metadata": {},
   "outputs": [
    {
     "name": "stdout",
     "output_type": "stream",
     "text": [
      "------랜덤 포레스트------\n",
      "학습데이터 :  0.9905918057663126\n",
      "학습데이터 :  0.8854090798737557\n",
      "------knn------\n",
      "학습데이터 :  0.9208801213960546\n",
      "학습데이터 :  0.8971837824714737\n"
     ]
    }
   ],
   "source": [
    "from sklearn.preprocessing import StandardScaler\n",
    "\n",
    "scaler = StandardScaler()\n",
    "scaler.fit(X_train)\n",
    "\n",
    "X_train_scaler = scaler.transform(X_train)\n",
    "X_test_scaler =scaler.transform(X_test)\n",
    "\n",
    "rfc.fit(X_train_scaler, y_train)\n",
    "kn.fit(X_train_scaler, y_train)\n",
    "\n",
    "print('------랜덤 포레스트------')\n",
    "print('학습데이터 : ', rfc.score(X_train_scaler, y_train))\n",
    "print('학습데이터 : ', rfc.score(X_test_scaler, y_test))\n",
    "print('------knn------')\n",
    "print('학습데이터 : ', kn.score(X_train_scaler, y_train))\n",
    "print('학습데이터 : ', kn.score(X_test_scaler, y_test))"
   ]
  },
  {
   "cell_type": "code",
   "execution_count": 22,
   "id": "e5a83655",
   "metadata": {},
   "outputs": [
    {
     "name": "stdout",
     "output_type": "stream",
     "text": [
      "------랜덤 포레스트------\n",
      "학습데이터 :  0.9905614567526555\n",
      "학습데이터 :  0.887836853605244\n",
      "------knn------\n",
      "학습데이터 :  0.921669195751138\n",
      "학습데이터 :  0.8947560087399854\n"
     ]
    }
   ],
   "source": [
    "from sklearn.preprocessing import MinMaxScaler\n",
    "\n",
    "scaler =MinMaxScaler()\n",
    "scaler.fit(X_train)\n",
    "\n",
    "X_train_scaler = scaler.transform(X_train)\n",
    "X_test_scaler = scaler.transform(X_test)\n",
    "\n",
    "rfc.fit(X_train_scaler, y_train)\n",
    "kn.fit(X_train_scaler, y_train)\n",
    "\n",
    "print('------랜덤 포레스트------')\n",
    "print('학습데이터 : ', rfc.score(X_train_scaler, y_train))\n",
    "print('학습데이터 : ', rfc.score(X_test_scaler, y_test))\n",
    "print('------knn------')\n",
    "print('학습데이터 : ', kn.score(X_train_scaler, y_train))\n",
    "print('학습데이터 : ', kn.score(X_test_scaler, y_test))"
   ]
  },
  {
   "cell_type": "code",
   "execution_count": 23,
   "id": "67b6fe70",
   "metadata": {},
   "outputs": [
    {
     "name": "stdout",
     "output_type": "stream",
     "text": [
      "0.9052807283763278\n",
      "0.9037387715464918\n"
     ]
    }
   ],
   "source": [
    "import sklearn.svm as svm\n",
    "\n",
    "svm_r = svm.SVC(kernel = 'rbf')\n",
    "svm_r.fit(X_train, y_train)\n",
    "\n",
    "print(svm_r.score(X_train, y_train))\n",
    "print(svm_r.score(X_test, y_test))"
   ]
  },
  {
   "cell_type": "code",
   "execution_count": 24,
   "id": "7df7b061",
   "metadata": {},
   "outputs": [
    {
     "name": "stdout",
     "output_type": "stream",
     "text": [
      "0.9070409711684371\n",
      "0.9036173828599174\n"
     ]
    }
   ],
   "source": [
    "scaler = StandardScaler()\n",
    "scaler.fit(X_train)\n",
    "\n",
    "X_train_scaler = scaler.transform(X_train)\n",
    "X_test_scaler =scaler.transform(X_test)\n",
    "\n",
    "svm_r.fit(X_train_scaler, y_train)\n",
    "\n",
    "print(svm_r.score(X_train_scaler, y_train))\n",
    "print(svm_r.score(X_test_scaler, y_test))"
   ]
  },
  {
   "cell_type": "markdown",
   "id": "3aa7778c",
   "metadata": {},
   "source": [
    "### 상관관계\n",
    "* 특정 변수들 끼리의 상관관계가 높은 값을 제거하면 과적합을 줄일 수 있다"
   ]
  },
  {
   "cell_type": "code",
   "execution_count": 26,
   "id": "831afcdd",
   "metadata": {},
   "outputs": [
    {
     "data": {
      "text/html": [
       "<div>\n",
       "<style scoped>\n",
       "    .dataframe tbody tr th:only-of-type {\n",
       "        vertical-align: middle;\n",
       "    }\n",
       "\n",
       "    .dataframe tbody tr th {\n",
       "        vertical-align: top;\n",
       "    }\n",
       "\n",
       "    .dataframe thead th {\n",
       "        text-align: right;\n",
       "    }\n",
       "</style>\n",
       "<table border=\"1\" class=\"dataframe\">\n",
       "  <thead>\n",
       "    <tr style=\"text-align: right;\">\n",
       "      <th></th>\n",
       "      <th>age</th>\n",
       "      <th>duration</th>\n",
       "      <th>campaign</th>\n",
       "      <th>pdays</th>\n",
       "      <th>previous</th>\n",
       "      <th>y</th>\n",
       "    </tr>\n",
       "  </thead>\n",
       "  <tbody>\n",
       "    <tr>\n",
       "      <th>age</th>\n",
       "      <td>1.000000</td>\n",
       "      <td>-0.000866</td>\n",
       "      <td>0.004594</td>\n",
       "      <td>-0.034369</td>\n",
       "      <td>0.024365</td>\n",
       "      <td>0.030399</td>\n",
       "    </tr>\n",
       "    <tr>\n",
       "      <th>duration</th>\n",
       "      <td>-0.000866</td>\n",
       "      <td>1.000000</td>\n",
       "      <td>-0.071699</td>\n",
       "      <td>-0.047577</td>\n",
       "      <td>0.020640</td>\n",
       "      <td>0.405274</td>\n",
       "    </tr>\n",
       "    <tr>\n",
       "      <th>campaign</th>\n",
       "      <td>0.004594</td>\n",
       "      <td>-0.071699</td>\n",
       "      <td>1.000000</td>\n",
       "      <td>0.052584</td>\n",
       "      <td>-0.079141</td>\n",
       "      <td>-0.066357</td>\n",
       "    </tr>\n",
       "    <tr>\n",
       "      <th>pdays</th>\n",
       "      <td>-0.034369</td>\n",
       "      <td>-0.047577</td>\n",
       "      <td>0.052584</td>\n",
       "      <td>1.000000</td>\n",
       "      <td>-0.587514</td>\n",
       "      <td>-0.324914</td>\n",
       "    </tr>\n",
       "    <tr>\n",
       "      <th>previous</th>\n",
       "      <td>0.024365</td>\n",
       "      <td>0.020640</td>\n",
       "      <td>-0.079141</td>\n",
       "      <td>-0.587514</td>\n",
       "      <td>1.000000</td>\n",
       "      <td>0.230181</td>\n",
       "    </tr>\n",
       "    <tr>\n",
       "      <th>y</th>\n",
       "      <td>0.030399</td>\n",
       "      <td>0.405274</td>\n",
       "      <td>-0.066357</td>\n",
       "      <td>-0.324914</td>\n",
       "      <td>0.230181</td>\n",
       "      <td>1.000000</td>\n",
       "    </tr>\n",
       "  </tbody>\n",
       "</table>\n",
       "</div>"
      ],
      "text/plain": [
       "               age  duration  campaign     pdays  previous         y\n",
       "age       1.000000 -0.000866  0.004594 -0.034369  0.024365  0.030399\n",
       "duration -0.000866  1.000000 -0.071699 -0.047577  0.020640  0.405274\n",
       "campaign  0.004594 -0.071699  1.000000  0.052584 -0.079141 -0.066357\n",
       "pdays    -0.034369 -0.047577  0.052584  1.000000 -0.587514 -0.324914\n",
       "previous  0.024365  0.020640 -0.079141 -0.587514  1.000000  0.230181\n",
       "y         0.030399  0.405274 -0.066357 -0.324914  0.230181  1.000000"
      ]
     },
     "execution_count": 26,
     "metadata": {},
     "output_type": "execute_result"
    }
   ],
   "source": [
    "df.corr()"
   ]
  },
  {
   "cell_type": "code",
   "execution_count": 29,
   "id": "cf4e1cf5",
   "metadata": {},
   "outputs": [
    {
     "data": {
      "text/plain": [
       "<AxesSubplot:>"
      ]
     },
     "execution_count": 29,
     "metadata": {},
     "output_type": "execute_result"
    },
    {
     "data": {
      "image/png": "[encoded data removed]",
      "text/plain": [
       "<Figure size 2000x1500 with 2 Axes>"
      ]
     },
     "metadata": {},
     "output_type": "display_data"
    }
   ],
   "source": [
    "import seaborn as sns\n",
    "import matplotlib.pyplot as plt\n",
    "fig, ax1 = plt.subplots()\n",
    "fig.set_size_inches(20,15)\n",
    "sns.heatmap( df.corr(), annot=True)"
   ]
  },
  {
   "cell_type": "code",
   "execution_count": 33,
   "id": "31312934",
   "metadata": {},
   "outputs": [
    {
     "name": "stdout",
     "output_type": "stream",
     "text": [
      "------랜덤 포레스트------\n",
      "학습데이터 :  0.8879514415781488\n",
      "학습데이터 :  0.8849235251274581\n",
      "------knn------\n",
      "학습데이터 :  0.40482549317147193\n",
      "학습데이터 :  0.41332847778587034\n"
     ]
    }
   ],
   "source": [
    "f = ['age','duration','campaign', 'pdays','previous']\n",
    "label ='y'\n",
    "X, y = df[f], df[label]\n",
    "X_train, X_test, y_train, y_test = \\\n",
    "                train_test_split(X, y, test_size=0.2)\n",
    "\n",
    "scaler = StandardScaler()\n",
    "scaler.fit(X_train)\n",
    "X_train_scaler = scaler.transform(X_train)\n",
    "X_test_scaler = scaler.transform(X_test)\n",
    "\n",
    "rfc = RandomForestClassifier()\n",
    "rfc.fit(X_train, y_train)\n",
    "\n",
    "knn = KNeighborsClassifier()\n",
    "knn.fit(X_train, y_train)\n",
    "\n",
    "print('------랜덤 포레스트------')\n",
    "print('학습데이터 : ', rfc.score(X_train_scaler, y_train))\n",
    "print('학습데이터 : ', rfc.score(X_test_scaler, y_test))\n",
    "print('------knn------')\n",
    "print('학습데이터 : ', kn.score(X_train_scaler, y_train))\n",
    "print('학습데이터 : ', kn.score(X_test_scaler, y_test))"
   ]
  },
  {
   "cell_type": "code",
   "execution_count": null,
   "id": "e1ca5e83",
   "metadata": {},
   "outputs": [],
   "source": []
  },
  {
   "cell_type": "code",
   "execution_count": null,
   "id": "f3d8cb2b",
   "metadata": {},
   "outputs": [],
   "source": []
  },
  {
   "cell_type": "code",
   "execution_count": null,
   "id": "e79b2da6",
   "metadata": {},
   "outputs": [],
   "source": []
  },
  {
   "cell_type": "code",
   "execution_count": null,
   "id": "01d8ee03",
   "metadata": {},
   "outputs": [],
   "source": []
  },
  {
   "cell_type": "code",
   "execution_count": null,
   "id": "f986659a",
   "metadata": {},
   "outputs": [],
   "source": []
  },
  {
   "cell_type": "code",
   "execution_count": null,
   "id": "e4d60ab1",
   "metadata": {},
   "outputs": [],
   "source": []
  },
  {
   "cell_type": "code",
   "execution_count": null,
   "id": "5a55c164",
   "metadata": {},
   "outputs": [],
   "source": []
  },
  {
   "cell_type": "code",
   "execution_count": null,
   "id": "12d392ad",
   "metadata": {},
   "outputs": [],
   "source": []
  },
  {
   "cell_type": "code",
   "execution_count": null,
   "id": "fb370fe4",
   "metadata": {},
   "outputs": [],
   "source": []
  },
  {
   "cell_type": "code",
   "execution_count": null,
   "id": "e99404dd",
   "metadata": {},
   "outputs": [],
   "source": []
  },
  {
   "cell_type": "code",
   "execution_count": null,
   "id": "cc4c1d5f",
   "metadata": {},
   "outputs": [],
   "source": []
  },
  {
   "cell_type": "code",
   "execution_count": null,
   "id": "4c0f3ed2",
   "metadata": {},
   "outputs": [],
   "source": []
  },
  {
   "cell_type": "code",
   "execution_count": null,
   "id": "cb6849b3",
   "metadata": {},
   "outputs": [],
   "source": []
  },
  {
   "cell_type": "code",
   "execution_count": null,
   "id": "d9ca442a",
   "metadata": {},
   "outputs": [],
   "source": []
  },
  {
   "cell_type": "code",
   "execution_count": null,
   "id": "39246e24",
   "metadata": {},
   "outputs": [],
   "source": []
  },
  {
   "cell_type": "code",
   "execution_count": null,
   "id": "cbd60b5c",
   "metadata": {},
   "outputs": [],
   "source": []
  },
  {
   "cell_type": "code",
   "execution_count": null,
   "id": "f1723f5c",
   "metadata": {},
   "outputs": [],
   "source": []
  },
  {
   "cell_type": "code",
   "execution_count": null,
   "id": "6049abb2",
   "metadata": {},
   "outputs": [],
   "source": []
  },
  {
   "cell_type": "code",
   "execution_count": null,
   "id": "cba06d8d",
   "metadata": {},
   "outputs": [],
   "source": []
  }
 ],
 "metadata": {
  "kernelspec": {
   "display_name": "Python 3 (ipykernel)",
   "language": "python",
   "name": "python3"
  },
  "language_info": {
   "codemirror_mode": {
    "name": "ipython",
    "version": 3
   },
   "file_extension": ".py",
   "mimetype": "text/x-python",
   "name": "python",
   "nbconvert_exporter": "python",
   "pygments_lexer": "ipython3",
   "version": "3.9.13"
  }
 },
 "nbformat": 4,
 "nbformat_minor": 5
}
