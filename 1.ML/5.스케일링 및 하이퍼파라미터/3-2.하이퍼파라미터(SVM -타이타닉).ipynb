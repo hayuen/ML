{
 "cells": [
  {
   "cell_type": "markdown",
   "id": "c3cb0089",
   "metadata": {},
   "source": [
    "### svm 하이퍼 파라미터\n",
    "* C(cost)\n",
    "    - cost값이 작으면 과소적합이 발생한다.\n",
    "        * cost값을 작게하면 훈련 데이터에 대해 어느정도 오류를 허용하게 되며, 새로 들어오는 데이터는 잘 분류할 수 있다\n",
    "    - cost값이 커지면 과대적합이 발생한다.\n",
    "        * cost값을 크게하면 훈련 데이터에 대해 오류가 최소화 되지만, 새로 들어오는 데이터는 분류를 잘못할 가능성이 높다는 것이다\n",
    "        \n",
    "        "
   ]
  },
  {
   "cell_type": "markdown",
   "id": "965d460e",
   "metadata": {},
   "source": [
    "![image](images/cost.png)"
   ]
  },
  {
   "cell_type": "markdown",
   "id": "f045ef4a",
   "metadata": {},
   "source": [
    "* gamma\n",
    "    - 결정 경계에 영향을 끼치는 범위를 조절하는 변수\n",
    "    - gamma가 크면 과대적합이 될 수 있다\n",
    "        - gamma가 크면 결정경계에 영향력이 커 결정경계가 복잡해진다\n",
    "    - gamma가 작으면 과소적합이 될 수 있다.\n",
    "        - gamma가 작으면 결정경계에 영향력이 미미하여 결정경계가 부드러워진다"
   ]
  },
  {
   "cell_type": "markdown",
   "id": "6d27156c",
   "metadata": {},
   "source": [
    "![image](images/gamma.png)"
   ]
  },
  {
   "cell_type": "markdown",
   "id": "2b6128f5",
   "metadata": {},
   "source": [
    "### 데이터 셋 로드"
   ]
  },
  {
   "cell_type": "code",
   "execution_count": 1,
   "id": "029133dc",
   "metadata": {},
   "outputs": [],
   "source": [
    "from sklearn.model_selection import train_test_split\n",
    "from sklearn.svm import SVC\n",
    "from sklearn.preprocessing import StandardScaler\n",
    "import pandas as pd\n",
    "\n"
   ]
  },
  {
   "cell_type": "code",
   "execution_count": 2,
   "id": "cb34e70f",
   "metadata": {},
   "outputs": [
    {
     "data": {
      "text/html": [
       "<div>\n",
       "<style scoped>\n",
       "    .dataframe tbody tr th:only-of-type {\n",
       "        vertical-align: middle;\n",
       "    }\n",
       "\n",
       "    .dataframe tbody tr th {\n",
       "        vertical-align: top;\n",
       "    }\n",
       "\n",
       "    .dataframe thead th {\n",
       "        text-align: right;\n",
       "    }\n",
       "</style>\n",
       "<table border=\"1\" class=\"dataframe\">\n",
       "  <thead>\n",
       "    <tr style=\"text-align: right;\">\n",
       "      <th></th>\n",
       "      <th>PassengerId</th>\n",
       "      <th>Survived</th>\n",
       "      <th>Pclass</th>\n",
       "      <th>Sex</th>\n",
       "      <th>Age</th>\n",
       "      <th>SibSp</th>\n",
       "      <th>Parch</th>\n",
       "      <th>Fare</th>\n",
       "    </tr>\n",
       "  </thead>\n",
       "  <tbody>\n",
       "    <tr>\n",
       "      <th>0</th>\n",
       "      <td>1</td>\n",
       "      <td>0</td>\n",
       "      <td>3</td>\n",
       "      <td>0</td>\n",
       "      <td>22.0</td>\n",
       "      <td>1</td>\n",
       "      <td>0</td>\n",
       "      <td>7.2500</td>\n",
       "    </tr>\n",
       "    <tr>\n",
       "      <th>1</th>\n",
       "      <td>2</td>\n",
       "      <td>1</td>\n",
       "      <td>1</td>\n",
       "      <td>1</td>\n",
       "      <td>38.0</td>\n",
       "      <td>1</td>\n",
       "      <td>0</td>\n",
       "      <td>71.2833</td>\n",
       "    </tr>\n",
       "    <tr>\n",
       "      <th>2</th>\n",
       "      <td>3</td>\n",
       "      <td>1</td>\n",
       "      <td>3</td>\n",
       "      <td>1</td>\n",
       "      <td>26.0</td>\n",
       "      <td>0</td>\n",
       "      <td>0</td>\n",
       "      <td>7.9250</td>\n",
       "    </tr>\n",
       "    <tr>\n",
       "      <th>3</th>\n",
       "      <td>4</td>\n",
       "      <td>1</td>\n",
       "      <td>1</td>\n",
       "      <td>1</td>\n",
       "      <td>35.0</td>\n",
       "      <td>1</td>\n",
       "      <td>0</td>\n",
       "      <td>53.1000</td>\n",
       "    </tr>\n",
       "    <tr>\n",
       "      <th>4</th>\n",
       "      <td>5</td>\n",
       "      <td>0</td>\n",
       "      <td>3</td>\n",
       "      <td>0</td>\n",
       "      <td>35.0</td>\n",
       "      <td>0</td>\n",
       "      <td>0</td>\n",
       "      <td>8.0500</td>\n",
       "    </tr>\n",
       "  </tbody>\n",
       "</table>\n",
       "</div>"
      ],
      "text/plain": [
       "   PassengerId  Survived  Pclass  Sex   Age  SibSp  Parch     Fare\n",
       "0            1         0       3    0  22.0      1      0   7.2500\n",
       "1            2         1       1    1  38.0      1      0  71.2833\n",
       "2            3         1       3    1  26.0      0      0   7.9250\n",
       "3            4         1       1    1  35.0      1      0  53.1000\n",
       "4            5         0       3    0  35.0      0      0   8.0500"
      ]
     },
     "execution_count": 2,
     "metadata": {},
     "output_type": "execute_result"
    }
   ],
   "source": [
    "df = pd.read_csv('data/titanic_cleaning.csv')\n",
    "df.head()"
   ]
  },
  {
   "cell_type": "code",
   "execution_count": 3,
   "id": "a47eeef3",
   "metadata": {},
   "outputs": [
    {
     "data": {
      "text/plain": [
       "Index(['PassengerId', 'Survived', 'Pclass', 'Sex', 'Age', 'SibSp', 'Parch',\n",
       "       'Fare'],\n",
       "      dtype='object')"
      ]
     },
     "execution_count": 3,
     "metadata": {},
     "output_type": "execute_result"
    }
   ],
   "source": [
    "df.columns\n"
   ]
  },
  {
   "cell_type": "code",
   "execution_count": 4,
   "id": "f1c58fd1",
   "metadata": {},
   "outputs": [],
   "source": [
    "features = ['Pclass', 'Sex', 'Age', 'SibSp', 'Parch',\n",
    "       'Fare']\n",
    "label = 'Survived'\n",
    "\n",
    "X,y = df[features], df[label]"
   ]
  },
  {
   "cell_type": "code",
   "execution_count": 5,
   "id": "51f3ab0b",
   "metadata": {},
   "outputs": [],
   "source": [
    "X_train , X_test, y_train , y_test =\\\n",
    "                        train_test_split(X, y, test_size = 0.2)\n",
    "\n",
    "scaler = StandardScaler()\n",
    "scaler.fit(X)\n",
    "X_scaler = scaler.transform(X)\n",
    "\n",
    "X_train_scaler , X_test_scaler, y_train , y_test =\\\n",
    "                        train_test_split(X_scaler, y, test_size = 0.2)\n"
   ]
  },
  {
   "cell_type": "markdown",
   "id": "84f08abb",
   "metadata": {},
   "source": [
    "### linear 모델 생성 및 하이퍼파라미터\n",
    "* linear은 c(cost)값만 줄수있다"
   ]
  },
  {
   "cell_type": "code",
   "execution_count": 6,
   "id": "29f52822",
   "metadata": {},
   "outputs": [
    {
     "name": "stdout",
     "output_type": "stream",
     "text": [
      "===스케일전===\n",
      "train : 0.6123595505617978\n",
      "test : 0.6312849162011173\n"
     ]
    }
   ],
   "source": [
    "svc = SVC(kernel='linear')\n",
    "svc.fit( X_train, y_train)\n",
    "\n",
    "print('===스케일전===')\n",
    "print('train :', svc.score(X_train, y_train))\n",
    "print('test :', svc.score(X_test, y_test))\n",
    "\n",
    "\n"
   ]
  },
  {
   "cell_type": "code",
   "execution_count": 7,
   "id": "7053d982",
   "metadata": {},
   "outputs": [
    {
     "name": "stdout",
     "output_type": "stream",
     "text": [
      "===스케일후===\n",
      "train : 0.7949438202247191\n",
      "test : 0.7821229050279329\n"
     ]
    }
   ],
   "source": [
    "svc.fit( X_train_scaler, y_train)\n",
    "\n",
    "print('===스케일후===')\n",
    "print('train :', svc.score(X_train_scaler, y_train))\n",
    "print('test :', svc.score(X_test_scaler, y_test))"
   ]
  },
  {
   "cell_type": "code",
   "execution_count": 8,
   "id": "dd557363",
   "metadata": {},
   "outputs": [
    {
     "name": "stdout",
     "output_type": "stream",
     "text": [
      "train : 0.7949438202247191\n",
      "test : 0.7821229050279329\n"
     ]
    }
   ],
   "source": [
    "svc = SVC(kernel='linear', C = 1000)\n",
    "svc.fit(X_train_scaler, y_train)\n",
    "\n",
    "print('train :', svc.score(X_train_scaler, y_train))\n",
    "print('test :', svc.score(X_test_scaler, y_test))"
   ]
  },
  {
   "cell_type": "code",
   "execution_count": 9,
   "id": "50176582",
   "metadata": {},
   "outputs": [
    {
     "data": {
      "text/html": [
       "<div>\n",
       "<style scoped>\n",
       "    .dataframe tbody tr th:only-of-type {\n",
       "        vertical-align: middle;\n",
       "    }\n",
       "\n",
       "    .dataframe tbody tr th {\n",
       "        vertical-align: top;\n",
       "    }\n",
       "\n",
       "    .dataframe thead th {\n",
       "        text-align: right;\n",
       "    }\n",
       "</style>\n",
       "<table border=\"1\" class=\"dataframe\">\n",
       "  <thead>\n",
       "    <tr style=\"text-align: right;\">\n",
       "      <th></th>\n",
       "      <th>cost</th>\n",
       "      <th>train정확도</th>\n",
       "      <th>test정확도</th>\n",
       "    </tr>\n",
       "  </thead>\n",
       "  <tbody>\n",
       "    <tr>\n",
       "      <th>0</th>\n",
       "      <td>0.001</td>\n",
       "      <td>0.655899</td>\n",
       "      <td>0.642458</td>\n",
       "    </tr>\n",
       "    <tr>\n",
       "      <th>1</th>\n",
       "      <td>0.010</td>\n",
       "      <td>0.787921</td>\n",
       "      <td>0.782123</td>\n",
       "    </tr>\n",
       "    <tr>\n",
       "      <th>2</th>\n",
       "      <td>0.100</td>\n",
       "      <td>0.794944</td>\n",
       "      <td>0.782123</td>\n",
       "    </tr>\n",
       "    <tr>\n",
       "      <th>3</th>\n",
       "      <td>1.000</td>\n",
       "      <td>0.794944</td>\n",
       "      <td>0.782123</td>\n",
       "    </tr>\n",
       "    <tr>\n",
       "      <th>4</th>\n",
       "      <td>10.000</td>\n",
       "      <td>0.794944</td>\n",
       "      <td>0.782123</td>\n",
       "    </tr>\n",
       "    <tr>\n",
       "      <th>5</th>\n",
       "      <td>100.000</td>\n",
       "      <td>0.794944</td>\n",
       "      <td>0.782123</td>\n",
       "    </tr>\n",
       "  </tbody>\n",
       "</table>\n",
       "</div>"
      ],
      "text/plain": [
       "      cost  train정확도   test정확도\n",
       "0    0.001  0.655899  0.642458\n",
       "1    0.010  0.787921  0.782123\n",
       "2    0.100  0.794944  0.782123\n",
       "3    1.000  0.794944  0.782123\n",
       "4   10.000  0.794944  0.782123\n",
       "5  100.000  0.794944  0.782123"
      ]
     },
     "execution_count": 9,
     "metadata": {},
     "output_type": "execute_result"
    }
   ],
   "source": [
    "param_cost = [0.001, 0.01, 0.1, 1.0, 10.0, 100.0]\n",
    "train_list = []\n",
    "test_list = []\n",
    "for cost in param_cost:\n",
    "    svc = SVC(kernel='linear', C=cost)\n",
    "    svc.fit(X_train_scaler, y_train)\n",
    "    \n",
    "    train_list.append( svc.score(X_train_scaler, y_train))\n",
    "    test_list.append( svc.score(X_test_scaler, y_test))\n",
    "    \n",
    "dic = {\n",
    "    \n",
    "    'cost':param_cost,\n",
    "    'train정확도':train_list,\n",
    "    'test정확도':test_list\n",
    "    \n",
    "}\n",
    "score_df = pd.DataFrame(dic)\n",
    "score_df"
   ]
  },
  {
   "cell_type": "code",
   "execution_count": 10,
   "id": "287e275c",
   "metadata": {},
   "outputs": [
    {
     "name": "stdout",
     "output_type": "stream",
     "text": [
      "train : 0.8426966292134831\n",
      "test : 0.7932960893854749\n"
     ]
    }
   ],
   "source": [
    "svc = SVC(kernel='rbf')\n",
    "\n",
    "svc.fit(X_train_scaler, y_train)\n",
    "\n",
    "print('train :', svc.score(X_train_scaler, y_train))\n",
    "print('test :', svc.score(X_test_scaler, y_test))"
   ]
  },
  {
   "cell_type": "code",
   "execution_count": 15,
   "id": "0fcf43bd",
   "metadata": {},
   "outputs": [
    {
     "data": {
      "text/html": [
       "<div>\n",
       "<style scoped>\n",
       "    .dataframe tbody tr th:only-of-type {\n",
       "        vertical-align: middle;\n",
       "    }\n",
       "\n",
       "    .dataframe tbody tr th {\n",
       "        vertical-align: top;\n",
       "    }\n",
       "\n",
       "    .dataframe thead th {\n",
       "        text-align: right;\n",
       "    }\n",
       "</style>\n",
       "<table border=\"1\" class=\"dataframe\">\n",
       "  <thead>\n",
       "    <tr style=\"text-align: right;\">\n",
       "      <th></th>\n",
       "      <th>cost</th>\n",
       "      <th>train정확도</th>\n",
       "      <th>test정확도</th>\n",
       "    </tr>\n",
       "  </thead>\n",
       "  <tbody>\n",
       "    <tr>\n",
       "      <th>0</th>\n",
       "      <td>0.001</td>\n",
       "      <td>0.612360</td>\n",
       "      <td>0.631285</td>\n",
       "    </tr>\n",
       "    <tr>\n",
       "      <th>1</th>\n",
       "      <td>0.010</td>\n",
       "      <td>0.612360</td>\n",
       "      <td>0.631285</td>\n",
       "    </tr>\n",
       "    <tr>\n",
       "      <th>2</th>\n",
       "      <td>0.100</td>\n",
       "      <td>0.817416</td>\n",
       "      <td>0.787709</td>\n",
       "    </tr>\n",
       "    <tr>\n",
       "      <th>3</th>\n",
       "      <td>1.000</td>\n",
       "      <td>0.842697</td>\n",
       "      <td>0.793296</td>\n",
       "    </tr>\n",
       "    <tr>\n",
       "      <th>4</th>\n",
       "      <td>10.000</td>\n",
       "      <td>0.853933</td>\n",
       "      <td>0.776536</td>\n",
       "    </tr>\n",
       "    <tr>\n",
       "      <th>5</th>\n",
       "      <td>100.000</td>\n",
       "      <td>0.867978</td>\n",
       "      <td>0.754190</td>\n",
       "    </tr>\n",
       "  </tbody>\n",
       "</table>\n",
       "</div>"
      ],
      "text/plain": [
       "      cost  train정확도   test정확도\n",
       "0    0.001  0.612360  0.631285\n",
       "1    0.010  0.612360  0.631285\n",
       "2    0.100  0.817416  0.787709\n",
       "3    1.000  0.842697  0.793296\n",
       "4   10.000  0.853933  0.776536\n",
       "5  100.000  0.867978  0.754190"
      ]
     },
     "execution_count": 15,
     "metadata": {},
     "output_type": "execute_result"
    }
   ],
   "source": [
    "param_cost = [0.001, 0.01, 0.1, 1.0, 10.0, 100.0]\n",
    "train_list = []\n",
    "test_list = []\n",
    "for cost in param_cost:\n",
    "    svc = SVC(kernel='rbf', C=cost)\n",
    "    svc.fit(X_train_scaler, y_train)\n",
    "    \n",
    "    train_list.append( svc.score(X_train_scaler, y_train))\n",
    "    test_list.append( svc.score(X_test_scaler, y_test))\n",
    "    \n",
    "dic = {\n",
    "    \n",
    "    'cost':param_cost,\n",
    "    'train정확도':train_list,\n",
    "    'test정확도':test_list\n",
    "    \n",
    "}\n",
    "score_df = pd.DataFrame(dic)\n",
    "score_df"
   ]
  },
  {
   "cell_type": "code",
   "execution_count": 18,
   "id": "19387a21",
   "metadata": {},
   "outputs": [
    {
     "data": {
      "text/html": [
       "<div>\n",
       "<style scoped>\n",
       "    .dataframe tbody tr th:only-of-type {\n",
       "        vertical-align: middle;\n",
       "    }\n",
       "\n",
       "    .dataframe tbody tr th {\n",
       "        vertical-align: top;\n",
       "    }\n",
       "\n",
       "    .dataframe thead th {\n",
       "        text-align: right;\n",
       "    }\n",
       "</style>\n",
       "<table border=\"1\" class=\"dataframe\">\n",
       "  <thead>\n",
       "    <tr style=\"text-align: right;\">\n",
       "      <th></th>\n",
       "      <th>gamma</th>\n",
       "      <th>train정확도</th>\n",
       "      <th>test정확도</th>\n",
       "    </tr>\n",
       "  </thead>\n",
       "  <tbody>\n",
       "    <tr>\n",
       "      <th>0</th>\n",
       "      <td>0.001</td>\n",
       "      <td>0.797753</td>\n",
       "      <td>0.782123</td>\n",
       "    </tr>\n",
       "    <tr>\n",
       "      <th>1</th>\n",
       "      <td>0.010</td>\n",
       "      <td>0.838483</td>\n",
       "      <td>0.787709</td>\n",
       "    </tr>\n",
       "    <tr>\n",
       "      <th>2</th>\n",
       "      <td>0.100</td>\n",
       "      <td>0.859551</td>\n",
       "      <td>0.776536</td>\n",
       "    </tr>\n",
       "    <tr>\n",
       "      <th>3</th>\n",
       "      <td>1.000</td>\n",
       "      <td>0.900281</td>\n",
       "      <td>0.787709</td>\n",
       "    </tr>\n",
       "    <tr>\n",
       "      <th>4</th>\n",
       "      <td>10.000</td>\n",
       "      <td>0.945225</td>\n",
       "      <td>0.698324</td>\n",
       "    </tr>\n",
       "    <tr>\n",
       "      <th>5</th>\n",
       "      <td>100.000</td>\n",
       "      <td>0.963483</td>\n",
       "      <td>0.659218</td>\n",
       "    </tr>\n",
       "  </tbody>\n",
       "</table>\n",
       "</div>"
      ],
      "text/plain": [
       "     gamma  train정확도   test정확도\n",
       "0    0.001  0.797753  0.782123\n",
       "1    0.010  0.838483  0.787709\n",
       "2    0.100  0.859551  0.776536\n",
       "3    1.000  0.900281  0.787709\n",
       "4   10.000  0.945225  0.698324\n",
       "5  100.000  0.963483  0.659218"
      ]
     },
     "execution_count": 18,
     "metadata": {},
     "output_type": "execute_result"
    }
   ],
   "source": [
    "param_gamma = [0.001, 0.01, 0.1, 1.0, 10.0, 100.0]\n",
    "train_list = []\n",
    "test_list = []\n",
    "for g in param_gamma:\n",
    "    svc = SVC(kernel='rbf', C=100, gamma=g)\n",
    "    svc.fit(X_train_scaler, y_train)\n",
    "    \n",
    "    train_list.append( svc.score(X_train_scaler, y_train))\n",
    "    test_list.append( svc.score(X_test_scaler, y_test))\n",
    "    \n",
    "dic = {\n",
    "    \n",
    "    'gamma':param_gamma,\n",
    "    'train정확도':train_list,\n",
    "    'test정확도':test_list\n",
    "    \n",
    "}\n",
    "score_df = pd.DataFrame(dic)\n",
    "score_df"
   ]
  },
  {
   "cell_type": "code",
   "execution_count": 20,
   "id": "8923c62f",
   "metadata": {},
   "outputs": [
    {
     "name": "stdout",
     "output_type": "stream",
     "text": [
      "최적의 하이퍼파라미터 :  {'C': 1.0, 'gamma': 0.1}\n",
      "train :  0.8412921348314607\n",
      "test :  0.7877094972067039\n"
     ]
    }
   ],
   "source": [
    "from sklearn.model_selection import GridSearchCV\n",
    "\n",
    "param_cost = [0.001, 0.01, 0.1,1.0,10.0, 100.0]\n",
    "param_gamma = [0.001, 0.01, 0.1,1.0,10.0, 100.0]\n",
    "\n",
    "params = {\n",
    "    'C':param_cost,\n",
    "    'gamma':param_gamma\n",
    "}\n",
    "svc = SVC(kernel='rbf')\n",
    "grid_cv = GridSearchCV(svc, param_grid=params,cv=5,n_jobs = -1)\n",
    "\n",
    "grid_cv.fit(X_train_scaler, y_train)\n",
    "\n",
    "print('최적의 하이퍼파라미터 : ', grid_cv.best_params_)\n",
    "print('train : ',grid_cv.score(X_train_scaler,y_train))\n",
    "print('test : ',grid_cv.score(X_test_scaler,y_test))"
   ]
  },
  {
   "cell_type": "code",
   "execution_count": null,
   "id": "3c3f7282",
   "metadata": {},
   "outputs": [],
   "source": []
  },
  {
   "cell_type": "code",
   "execution_count": null,
   "id": "4ceb8e49",
   "metadata": {},
   "outputs": [],
   "source": []
  }
 ],
 "metadata": {
  "kernelspec": {
   "display_name": "Python 3 (ipykernel)",
   "language": "python",
   "name": "python3"
  },
  "language_info": {
   "codemirror_mode": {
    "name": "ipython",
    "version": 3
   },
   "file_extension": ".py",
   "mimetype": "text/x-python",
   "name": "python",
   "nbconvert_exporter": "python",
   "pygments_lexer": "ipython3",
   "version": "3.9.13"
  }
 },
 "nbformat": 4,
 "nbformat_minor": 5
}
