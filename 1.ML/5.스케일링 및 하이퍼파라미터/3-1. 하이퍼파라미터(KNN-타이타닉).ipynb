{
 "cells": [
  {
   "cell_type": "markdown",
   "id": "f035748b",
   "metadata": {},
   "source": [
    "### K-최근접 이웃 알고리즘\n",
    "* 주위에서 가장 가까운 다른 데이터를 보고 현재 데이터를 판단\n",
    "\n",
    "#### 하이퍼파라미터\n",
    "* n_neighbors\n",
    "    - 기본 가까운 5개의 데이터를 보고 자기 자신이 어디에 속하는지를 판단\n",
    "    - 비교하고자 하는 데이터의 수가 적을 수록 과대 적합이 된다\n",
    "* metric : 거리계산 척도\n",
    "    - euclidean(녹색) : 유클리디안 거리 측정\n",
    "        * 목표 지점까지 가장 짧은 거리\n",
    "    - manhattan(녹색을 제외한 모든 색) : 맨하튼 거리 측정 방법\n",
    "        * 찾아가는 경로의 모든 길이의 합\n",
    "* weights : 가중치\n",
    "    - uniform : 거리에 가중치 부여하지 않음(균일한 가중치)\n",
    "    - distance : 거리에 가중치 부여(가까이 있는 데이터에 가중치)"
   ]
  },
  {
   "cell_type": "code",
   "execution_count": 1,
   "id": "c1ccabb7",
   "metadata": {},
   "outputs": [],
   "source": [
    "from sklearn.neighbors import KNeighborsClassifier\n",
    "from sklearn.preprocessing import MinMaxScaler\n",
    "from sklearn.model_selection import train_test_split\n",
    "import pandas as pd\n",
    "import warnings\n",
    "warnings.filterwarnings('ignore')\n"
   ]
  },
  {
   "cell_type": "code",
   "execution_count": 2,
   "id": "52a2b2f5",
   "metadata": {},
   "outputs": [
    {
     "data": {
      "text/html": [
       "<div>\n",
       "<style scoped>\n",
       "    .dataframe tbody tr th:only-of-type {\n",
       "        vertical-align: middle;\n",
       "    }\n",
       "\n",
       "    .dataframe tbody tr th {\n",
       "        vertical-align: top;\n",
       "    }\n",
       "\n",
       "    .dataframe thead th {\n",
       "        text-align: right;\n",
       "    }\n",
       "</style>\n",
       "<table border=\"1\" class=\"dataframe\">\n",
       "  <thead>\n",
       "    <tr style=\"text-align: right;\">\n",
       "      <th></th>\n",
       "      <th>PassengerId</th>\n",
       "      <th>Survived</th>\n",
       "      <th>Pclass</th>\n",
       "      <th>Sex</th>\n",
       "      <th>Age</th>\n",
       "      <th>SibSp</th>\n",
       "      <th>Parch</th>\n",
       "      <th>Fare</th>\n",
       "    </tr>\n",
       "  </thead>\n",
       "  <tbody>\n",
       "    <tr>\n",
       "      <th>0</th>\n",
       "      <td>1</td>\n",
       "      <td>0</td>\n",
       "      <td>3</td>\n",
       "      <td>0</td>\n",
       "      <td>22.0</td>\n",
       "      <td>1</td>\n",
       "      <td>0</td>\n",
       "      <td>7.2500</td>\n",
       "    </tr>\n",
       "    <tr>\n",
       "      <th>1</th>\n",
       "      <td>2</td>\n",
       "      <td>1</td>\n",
       "      <td>1</td>\n",
       "      <td>1</td>\n",
       "      <td>38.0</td>\n",
       "      <td>1</td>\n",
       "      <td>0</td>\n",
       "      <td>71.2833</td>\n",
       "    </tr>\n",
       "    <tr>\n",
       "      <th>2</th>\n",
       "      <td>3</td>\n",
       "      <td>1</td>\n",
       "      <td>3</td>\n",
       "      <td>1</td>\n",
       "      <td>26.0</td>\n",
       "      <td>0</td>\n",
       "      <td>0</td>\n",
       "      <td>7.9250</td>\n",
       "    </tr>\n",
       "    <tr>\n",
       "      <th>3</th>\n",
       "      <td>4</td>\n",
       "      <td>1</td>\n",
       "      <td>1</td>\n",
       "      <td>1</td>\n",
       "      <td>35.0</td>\n",
       "      <td>1</td>\n",
       "      <td>0</td>\n",
       "      <td>53.1000</td>\n",
       "    </tr>\n",
       "    <tr>\n",
       "      <th>4</th>\n",
       "      <td>5</td>\n",
       "      <td>0</td>\n",
       "      <td>3</td>\n",
       "      <td>0</td>\n",
       "      <td>35.0</td>\n",
       "      <td>0</td>\n",
       "      <td>0</td>\n",
       "      <td>8.0500</td>\n",
       "    </tr>\n",
       "  </tbody>\n",
       "</table>\n",
       "</div>"
      ],
      "text/plain": [
       "   PassengerId  Survived  Pclass  Sex   Age  SibSp  Parch     Fare\n",
       "0            1         0       3    0  22.0      1      0   7.2500\n",
       "1            2         1       1    1  38.0      1      0  71.2833\n",
       "2            3         1       3    1  26.0      0      0   7.9250\n",
       "3            4         1       1    1  35.0      1      0  53.1000\n",
       "4            5         0       3    0  35.0      0      0   8.0500"
      ]
     },
     "execution_count": 2,
     "metadata": {},
     "output_type": "execute_result"
    }
   ],
   "source": [
    "df = pd.read_csv('data/titanic_cleaning.csv')\n",
    "df.head()"
   ]
  },
  {
   "cell_type": "markdown",
   "id": "18eb9981",
   "metadata": {},
   "source": [
    "### train, test셋 구분 및 스케일"
   ]
  },
  {
   "cell_type": "code",
   "execution_count": 3,
   "id": "7ea872b9",
   "metadata": {},
   "outputs": [
    {
     "data": {
      "text/plain": [
       "Index(['PassengerId', 'Survived', 'Pclass', 'Sex', 'Age', 'SibSp', 'Parch',\n",
       "       'Fare'],\n",
       "      dtype='object')"
      ]
     },
     "execution_count": 3,
     "metadata": {},
     "output_type": "execute_result"
    }
   ],
   "source": [
    "df.columns"
   ]
  },
  {
   "cell_type": "code",
   "execution_count": 4,
   "id": "5fad86d4",
   "metadata": {},
   "outputs": [],
   "source": [
    "features = ['Pclass', 'Sex', 'Age', 'SibSp', 'Parch',\n",
    "       'Fare']\n",
    "label = 'Survived'\n",
    "\n",
    "X,y =df[features], df[label]"
   ]
  },
  {
   "cell_type": "markdown",
   "id": "ba43580d",
   "metadata": {},
   "source": [
    "### MinMaxScaler"
   ]
  },
  {
   "cell_type": "code",
   "execution_count": 5,
   "id": "66717ace",
   "metadata": {},
   "outputs": [],
   "source": [
    "minMaxScaler = MinMaxScaler()\n",
    "minMaxScaler.fit(X)\n",
    "X_scaler = minMaxScaler.transform(X)"
   ]
  },
  {
   "cell_type": "markdown",
   "id": "e91a28b3",
   "metadata": {},
   "source": [
    "#### train, test셋 분리 - 80:20"
   ]
  },
  {
   "cell_type": "code",
   "execution_count": 6,
   "id": "caddf1b2",
   "metadata": {},
   "outputs": [],
   "source": [
    "#X.head()\n",
    "#X_scaler\n",
    "X_train_minMax, X_test_minMax , y_train, y_test = \\\n",
    "                train_test_split(X_scaler, y ,test_size=0.2)"
   ]
  },
  {
   "cell_type": "code",
   "execution_count": 7,
   "id": "bea7d61c",
   "metadata": {},
   "outputs": [
    {
     "name": "stdout",
     "output_type": "stream",
     "text": [
      "train :  0.8426966292134831\n",
      "test :  0.8379888268156425\n"
     ]
    }
   ],
   "source": [
    "knn = KNeighborsClassifier( n_neighbors=7)\n",
    "knn.fit(X_train_minMax, y_train)\n",
    "print('train : ', knn.score(X_train_minMax, y_train))\n",
    "print('test : ', knn.score(X_test_minMax, y_test))"
   ]
  },
  {
   "cell_type": "code",
   "execution_count": 8,
   "id": "4f7748bc",
   "metadata": {},
   "outputs": [
    {
     "data": {
      "text/html": [
       "<div>\n",
       "<style scoped>\n",
       "    .dataframe tbody tr th:only-of-type {\n",
       "        vertical-align: middle;\n",
       "    }\n",
       "\n",
       "    .dataframe tbody tr th {\n",
       "        vertical-align: top;\n",
       "    }\n",
       "\n",
       "    .dataframe thead th {\n",
       "        text-align: right;\n",
       "    }\n",
       "</style>\n",
       "<table border=\"1\" class=\"dataframe\">\n",
       "  <thead>\n",
       "    <tr style=\"text-align: right;\">\n",
       "      <th></th>\n",
       "      <th>k</th>\n",
       "      <th>train정확도</th>\n",
       "      <th>test정확도</th>\n",
       "    </tr>\n",
       "  </thead>\n",
       "  <tbody>\n",
       "    <tr>\n",
       "      <th>0</th>\n",
       "      <td>1</td>\n",
       "      <td>0.987360</td>\n",
       "      <td>0.765363</td>\n",
       "    </tr>\n",
       "    <tr>\n",
       "      <th>1</th>\n",
       "      <td>2</td>\n",
       "      <td>0.882022</td>\n",
       "      <td>0.826816</td>\n",
       "    </tr>\n",
       "    <tr>\n",
       "      <th>2</th>\n",
       "      <td>3</td>\n",
       "      <td>0.876404</td>\n",
       "      <td>0.826816</td>\n",
       "    </tr>\n",
       "    <tr>\n",
       "      <th>3</th>\n",
       "      <td>4</td>\n",
       "      <td>0.856742</td>\n",
       "      <td>0.849162</td>\n",
       "    </tr>\n",
       "    <tr>\n",
       "      <th>4</th>\n",
       "      <td>5</td>\n",
       "      <td>0.852528</td>\n",
       "      <td>0.821229</td>\n",
       "    </tr>\n",
       "    <tr>\n",
       "      <th>5</th>\n",
       "      <td>6</td>\n",
       "      <td>0.844101</td>\n",
       "      <td>0.849162</td>\n",
       "    </tr>\n",
       "    <tr>\n",
       "      <th>6</th>\n",
       "      <td>7</td>\n",
       "      <td>0.842697</td>\n",
       "      <td>0.837989</td>\n",
       "    </tr>\n",
       "    <tr>\n",
       "      <th>7</th>\n",
       "      <td>8</td>\n",
       "      <td>0.830056</td>\n",
       "      <td>0.849162</td>\n",
       "    </tr>\n",
       "    <tr>\n",
       "      <th>8</th>\n",
       "      <td>9</td>\n",
       "      <td>0.830056</td>\n",
       "      <td>0.832402</td>\n",
       "    </tr>\n",
       "    <tr>\n",
       "      <th>9</th>\n",
       "      <td>10</td>\n",
       "      <td>0.814607</td>\n",
       "      <td>0.837989</td>\n",
       "    </tr>\n",
       "  </tbody>\n",
       "</table>\n",
       "</div>"
      ],
      "text/plain": [
       "    k  train정확도   test정확도\n",
       "0   1  0.987360  0.765363\n",
       "1   2  0.882022  0.826816\n",
       "2   3  0.876404  0.826816\n",
       "3   4  0.856742  0.849162\n",
       "4   5  0.852528  0.821229\n",
       "5   6  0.844101  0.849162\n",
       "6   7  0.842697  0.837989\n",
       "7   8  0.830056  0.849162\n",
       "8   9  0.830056  0.832402\n",
       "9  10  0.814607  0.837989"
      ]
     },
     "execution_count": 8,
     "metadata": {},
     "output_type": "execute_result"
    }
   ],
   "source": [
    "k_param = range(1,11)\n",
    "train_list = []\n",
    "test_list = []\n",
    "for k in k_param:\n",
    "    #print(k)\n",
    "    knn = KNeighborsClassifier( n_neighbors=k )\n",
    "    knn.fit(X_train_minMax, y_train)\n",
    "    train_list.append( knn.score(X_train_minMax, y_train))\n",
    "    test_list.append( knn.score(X_test_minMax, y_test))\n",
    "    \n",
    "dic = {\n",
    "    'k' :  k_param,\n",
    "    'train정확도':train_list,\n",
    "    'test정확도':test_list\n",
    "}\n",
    "score_df = pd.DataFrame(dic)\n",
    "score_df"
   ]
  },
  {
   "cell_type": "code",
   "execution_count": 9,
   "id": "1c225725",
   "metadata": {},
   "outputs": [
    {
     "data": {
      "text/plain": [
       "<AxesSubplot:xlabel='k', ylabel='train정확도'>"
      ]
     },
     "execution_count": 9,
     "metadata": {},
     "output_type": "execute_result"
    },
    {
     "data": {
      "image/png": "[encoded data removed]",
      "text/plain": [
       "<Figure size 640x480 with 1 Axes>"
      ]
     },
     "metadata": {},
     "output_type": "display_data"
    }
   ],
   "source": [
    "import seaborn as sns\n",
    "sns.lineplot(x='k',y='train정확도', data=score_df)\n",
    "sns.lineplot(x='k',y='test정확도', data=score_df)"
   ]
  },
  {
   "cell_type": "markdown",
   "id": "4a8dca3b",
   "metadata": {},
   "source": [
    "### GridSearchCV\n",
    "* 교차 검증으로 하이퍼파라미터 탐색을 수행한다\n",
    "* 최상의 모델을 찾은 후 훈련 세트 전체를 사용해 최종 모델을 훈련한다\n",
    "* 매개변수\n",
    "    - GridSearchCV(모델, param_grid = 파라미터, cv=반복횟수, n_jobs=코어 수(-1, 모든 코어 사용))"
   ]
  },
  {
   "cell_type": "code",
   "execution_count": 10,
   "id": "7f3b9daf",
   "metadata": {},
   "outputs": [
    {
     "name": "stdout",
     "output_type": "stream",
     "text": [
      "train :  0.8567415730337079\n",
      "test :  0.8491620111731844\n"
     ]
    },
    {
     "data": {
      "text/plain": [
       "('최적의 하이퍼 파라미터 : ', {'n_neighbors': 4})"
      ]
     },
     "execution_count": 10,
     "metadata": {},
     "output_type": "execute_result"
    }
   ],
   "source": [
    "from sklearn.model_selection import GridSearchCV\n",
    "\n",
    "params = {\n",
    "    'n_neighbors': k_param\n",
    "}\n",
    "knn = KNeighborsClassifier()\n",
    "\n",
    "grid_cv = GridSearchCV(knn, param_grid=params, cv=5,n_jobs = -1)\n",
    "grid_cv.fit(X_train_minMax, y_train)\n",
    "print('train : ', grid_cv.score(X_train_minMax, y_train))\n",
    "print('test : ', grid_cv.score(X_test_minMax, y_test))\n",
    "\n",
    "'최적의 하이퍼 파라미터 : ', grid_cv.best_params_"
   ]
  },
  {
   "cell_type": "code",
   "execution_count": 11,
   "id": "c34ba50a",
   "metadata": {},
   "outputs": [
    {
     "name": "stdout",
     "output_type": "stream",
     "text": [
      "train :  0.8567415730337079\n",
      "test :  0.8491620111731844\n"
     ]
    },
    {
     "data": {
      "text/plain": [
       "('최적의 하이퍼 파라미터 : ',\n",
       " {'metric': 'euclidean', 'n_neighbors': 4, 'weights': 'uniform'})"
      ]
     },
     "execution_count": 11,
     "metadata": {},
     "output_type": "execute_result"
    }
   ],
   "source": [
    "params = {\n",
    "    'n_neighbors':range(1,11),\n",
    "    'metric':['manhattan', 'euclidean'],\n",
    "    'weights':['uniform', 'distance'],\n",
    "    \n",
    "}\n",
    "\n",
    "grid_cv = GridSearchCV(knn, param_grid=params, cv=5, n_jobs= -1)\n",
    "grid_cv.fit(X_train_minMax, y_train)\n",
    "print('train : ', grid_cv.score(X_train_minMax, y_train))\n",
    "print('test : ', grid_cv.score(X_test_minMax, y_test))\n",
    "\n",
    "'최적의 하이퍼 파라미터 : ', grid_cv.best_params_"
   ]
  },
  {
   "cell_type": "code",
   "execution_count": 14,
   "id": "48e7008c",
   "metadata": {},
   "outputs": [
    {
     "name": "stdout",
     "output_type": "stream",
     "text": [
      "0.8491620111731844\n",
      "test :  0.8435754189944135\n"
     ]
    }
   ],
   "source": [
    "pred = grid_cv.predict(X_test_minMax)\n",
    "from sklearn.metrics import accuracy_score\n",
    "print(accuracy_score(y_test, pred))\n",
    "\n",
    "knn = KNeighborsClassifier(n_neighbors=4, metric='manhattan', weights='uniform')\n",
    "knn.fit(X_train_minMax,y_train)\n",
    "print('test : ',knn.score(X_test_minMax,y_test))"
   ]
  },
  {
   "cell_type": "code",
   "execution_count": null,
   "id": "c882ffcd",
   "metadata": {},
   "outputs": [],
   "source": []
  },
  {
   "cell_type": "code",
   "execution_count": null,
   "id": "abb78ab9",
   "metadata": {},
   "outputs": [],
   "source": []
  }
 ],
 "metadata": {
  "kernelspec": {
   "display_name": "Python 3 (ipykernel)",
   "language": "python",
   "name": "python3"
  },
  "language_info": {
   "codemirror_mode": {
    "name": "ipython",
    "version": 3
   },
   "file_extension": ".py",
   "mimetype": "text/x-python",
   "name": "python",
   "nbconvert_exporter": "python",
   "pygments_lexer": "ipython3",
   "version": "3.9.13"
  }
 },
 "nbformat": 4,
 "nbformat_minor": 5
}
