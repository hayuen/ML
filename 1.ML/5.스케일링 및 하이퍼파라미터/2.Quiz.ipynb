{
 "cells": [
  {
   "cell_type": "markdown",
   "id": "7967b1c3",
   "metadata": {},
   "source": [
    "## Quiz( titanic_cleaning.csv )\n",
    "### 각각 분류기(알고리즘)로 평가하시오.\n",
    "* 평가하는 경우 스케일 없는 경우와 스케일 있는경우 다 평가하시오\n",
    "* 스케일 : StandardScaler, MinMaxScaler\n",
    "* 분류기\n",
    "    - SVC(linear, rbf)\n",
    "    - KNeighborsClassifier\n",
    "    - Voting(SVC-rbf, KNeighborsClassifier)\n",
    "    - RandomForest\n",
    "    - GBM(Gradient Boosting Machine)\n",
    "    "
   ]
  },
  {
   "cell_type": "code",
   "execution_count": 1,
   "id": "e581866a",
   "metadata": {},
   "outputs": [],
   "source": [
    "import pandas as pd\n",
    "import warnings\n",
    "warnings.filterwarnings('ignore')"
   ]
  },
  {
   "cell_type": "code",
   "execution_count": 2,
   "id": "5b0247b3",
   "metadata": {},
   "outputs": [
    {
     "data": {
      "text/html": [
       "<div>\n",
       "<style scoped>\n",
       "    .dataframe tbody tr th:only-of-type {\n",
       "        vertical-align: middle;\n",
       "    }\n",
       "\n",
       "    .dataframe tbody tr th {\n",
       "        vertical-align: top;\n",
       "    }\n",
       "\n",
       "    .dataframe thead th {\n",
       "        text-align: right;\n",
       "    }\n",
       "</style>\n",
       "<table border=\"1\" class=\"dataframe\">\n",
       "  <thead>\n",
       "    <tr style=\"text-align: right;\">\n",
       "      <th></th>\n",
       "      <th>PassengerId</th>\n",
       "      <th>Survived</th>\n",
       "      <th>Pclass</th>\n",
       "      <th>Sex</th>\n",
       "      <th>Age</th>\n",
       "      <th>SibSp</th>\n",
       "      <th>Parch</th>\n",
       "      <th>Fare</th>\n",
       "    </tr>\n",
       "  </thead>\n",
       "  <tbody>\n",
       "    <tr>\n",
       "      <th>0</th>\n",
       "      <td>1</td>\n",
       "      <td>0</td>\n",
       "      <td>3</td>\n",
       "      <td>0</td>\n",
       "      <td>22.0</td>\n",
       "      <td>1</td>\n",
       "      <td>0</td>\n",
       "      <td>7.2500</td>\n",
       "    </tr>\n",
       "    <tr>\n",
       "      <th>1</th>\n",
       "      <td>2</td>\n",
       "      <td>1</td>\n",
       "      <td>1</td>\n",
       "      <td>1</td>\n",
       "      <td>38.0</td>\n",
       "      <td>1</td>\n",
       "      <td>0</td>\n",
       "      <td>71.2833</td>\n",
       "    </tr>\n",
       "    <tr>\n",
       "      <th>2</th>\n",
       "      <td>3</td>\n",
       "      <td>1</td>\n",
       "      <td>3</td>\n",
       "      <td>1</td>\n",
       "      <td>26.0</td>\n",
       "      <td>0</td>\n",
       "      <td>0</td>\n",
       "      <td>7.9250</td>\n",
       "    </tr>\n",
       "    <tr>\n",
       "      <th>3</th>\n",
       "      <td>4</td>\n",
       "      <td>1</td>\n",
       "      <td>1</td>\n",
       "      <td>1</td>\n",
       "      <td>35.0</td>\n",
       "      <td>1</td>\n",
       "      <td>0</td>\n",
       "      <td>53.1000</td>\n",
       "    </tr>\n",
       "    <tr>\n",
       "      <th>4</th>\n",
       "      <td>5</td>\n",
       "      <td>0</td>\n",
       "      <td>3</td>\n",
       "      <td>0</td>\n",
       "      <td>35.0</td>\n",
       "      <td>0</td>\n",
       "      <td>0</td>\n",
       "      <td>8.0500</td>\n",
       "    </tr>\n",
       "  </tbody>\n",
       "</table>\n",
       "</div>"
      ],
      "text/plain": [
       "   PassengerId  Survived  Pclass  Sex   Age  SibSp  Parch     Fare\n",
       "0            1         0       3    0  22.0      1      0   7.2500\n",
       "1            2         1       1    1  38.0      1      0  71.2833\n",
       "2            3         1       3    1  26.0      0      0   7.9250\n",
       "3            4         1       1    1  35.0      1      0  53.1000\n",
       "4            5         0       3    0  35.0      0      0   8.0500"
      ]
     },
     "execution_count": 2,
     "metadata": {},
     "output_type": "execute_result"
    }
   ],
   "source": [
    "df = pd.read_csv('data/titanic_cleaning.csv')\n",
    "df.head()"
   ]
  },
  {
   "cell_type": "code",
   "execution_count": 3,
   "id": "5d22d88d",
   "metadata": {},
   "outputs": [
    {
     "data": {
      "text/plain": [
       "Index(['PassengerId', 'Survived', 'Pclass', 'Sex', 'Age', 'SibSp', 'Parch',\n",
       "       'Fare'],\n",
       "      dtype='object')"
      ]
     },
     "execution_count": 3,
     "metadata": {},
     "output_type": "execute_result"
    }
   ],
   "source": [
    "df.columns"
   ]
  },
  {
   "cell_type": "code",
   "execution_count": 4,
   "id": "1fb122f5",
   "metadata": {},
   "outputs": [],
   "source": [
    "f = ['Pclass', 'Sex', 'Age', 'SibSp', 'Parch',\n",
    "       'Fare']\n",
    "label = 'Survived'\n",
    "\n",
    "X, y = df[f], df[label]"
   ]
  },
  {
   "cell_type": "code",
   "execution_count": 5,
   "id": "f2732e3f",
   "metadata": {},
   "outputs": [],
   "source": [
    "from sklearn.model_selection import train_test_split\n",
    "X_train, X_test, y_train, y_test = \\\n",
    "                        train_test_split(X, y , test_size=0.2)"
   ]
  },
  {
   "cell_type": "code",
   "execution_count": 6,
   "id": "2466036f",
   "metadata": {},
   "outputs": [
    {
     "name": "stdout",
     "output_type": "stream",
     "text": [
      "학습: 0.8061797752808989\n",
      "결과: 0.664804469273743\n"
     ]
    }
   ],
   "source": [
    "from sklearn.neighbors  import KNeighborsClassifier\n",
    "\n",
    "kn = KNeighborsClassifier()\n",
    "kn.fit(X_train, y_train)\n",
    "\n",
    "\n",
    "print('학습:', kn.score(X_train, y_train))\n",
    "print('결과:', kn.score(X_test, y_test))"
   ]
  },
  {
   "cell_type": "code",
   "execution_count": 7,
   "id": "6b821928",
   "metadata": {
    "scrolled": true
   },
   "outputs": [
    {
     "name": "stdout",
     "output_type": "stream",
     "text": [
      "학습: 0.9845505617977528\n",
      "결과: 0.770949720670391\n"
     ]
    }
   ],
   "source": [
    "from sklearn.ensemble import RandomForestClassifier\n",
    "\n",
    "rfc = RandomForestClassifier()\n",
    "rfc.fit(X_train, y_train)\n",
    "\n",
    "print('학습:', rfc.score(X_train, y_train))\n",
    "print('결과:', rfc.score(X_test, y_test))"
   ]
  },
  {
   "cell_type": "code",
   "execution_count": 8,
   "id": "0c24a983",
   "metadata": {},
   "outputs": [
    {
     "data": {
      "text/plain": [
       "0.7877094972067039"
      ]
     },
     "execution_count": 8,
     "metadata": {},
     "output_type": "execute_result"
    }
   ],
   "source": [
    "import sklearn.svm as svm\n",
    "svm_linear = svm.SVC(kernel = 'linear')\n",
    "svm_linear.fit(X_train, y_train)\n",
    "svm_linear.score(X_test, y_test)"
   ]
  },
  {
   "cell_type": "code",
   "execution_count": 9,
   "id": "0c75bdd1",
   "metadata": {},
   "outputs": [
    {
     "data": {
      "text/plain": [
       "0.6703910614525139"
      ]
     },
     "execution_count": 9,
     "metadata": {},
     "output_type": "execute_result"
    }
   ],
   "source": [
    "svm_rbf = svm.SVC(kernel = 'rbf')\n",
    "svm_rbf.fit(X_train, y_train)\n",
    "svm_rbf.score(X_test, y_test)"
   ]
  },
  {
   "cell_type": "code",
   "execution_count": 10,
   "id": "40a9f837",
   "metadata": {},
   "outputs": [
    {
     "name": "stdout",
     "output_type": "stream",
     "text": [
      "svm :  0.6703910614525139\n",
      "knn :  0.664804469273743\n",
      "vo :  0.6871508379888268\n"
     ]
    }
   ],
   "source": [
    "svm_rbf = svm.SVC(kernel = 'rbf', probability=True)\n",
    "svm_rbf.fit(X_train, y_train)\n",
    "\n",
    "from sklearn.ensemble import VotingClassifier\n",
    "vo = VotingClassifier(estimators=[('svc',svm_rbf),('knn',kn)], voting='soft')\n",
    "\n",
    "vo.fit( X_train, y_train )\n",
    "print('svm : ', svm_rbf.score(X_test, y_test) )\n",
    "print('knn : ', kn.score(X_test, y_test) )\n",
    "print('vo : ', vo.score(X_test, y_test))"
   ]
  },
  {
   "cell_type": "code",
   "execution_count": 11,
   "id": "cddbf3eb",
   "metadata": {},
   "outputs": [
    {
     "data": {
      "text/plain": [
       "0.9101123595505618"
      ]
     },
     "execution_count": 11,
     "metadata": {},
     "output_type": "execute_result"
    }
   ],
   "source": [
    "from sklearn.ensemble import GradientBoostingClassifier\n",
    "\n",
    "gbc = GradientBoostingClassifier()\n",
    "gbc.fit(X_train, y_train)\n",
    "gbc.score(X_train, y_train)"
   ]
  },
  {
   "cell_type": "code",
   "execution_count": 12,
   "id": "efb0a157",
   "metadata": {},
   "outputs": [
    {
     "name": "stdout",
     "output_type": "stream",
     "text": [
      "학습: 0.37780898876404495\n",
      "결과: 0.40782122905027934\n",
      "==================================\n",
      "학습: 0.7640449438202247\n",
      "결과: 0.7318435754189944\n",
      "==================================\n",
      "학습: 0.37780898876404495\n",
      "결과: 0.40782122905027934\n",
      "==================================\n",
      "학습: 0.3890449438202247\n",
      "결과: 0.39106145251396646\n"
     ]
    }
   ],
   "source": [
    "from sklearn.preprocessing import StandardScaler\n",
    "\n",
    "scaler = StandardScaler()\n",
    "scaler.fit(X_train)\n",
    "\n",
    "X_train_scaler = scaler.transform(X_train)\n",
    "X_test_scaler = scaler.transform(X_test)\n",
    "\n",
    "\n",
    "\n",
    "\n",
    "print('학습:', kn.score(X_train_scaler, y_train))\n",
    "print('결과:', kn.score(X_test_scaler, y_test))\n",
    "print(\"==================================\")\n",
    "print('학습:', rfc.score(X_train_scaler, y_train))\n",
    "print('결과:', rfc.score(X_test_scaler, y_test))\n",
    "print(\"==================================\")\n",
    "print('학습:', vo.score(X_train_scaler, y_train))\n",
    "print('결과:', vo.score(X_test_scaler, y_test))\n",
    "print(\"==================================\")\n",
    "print('학습:', gbc.score(X_train_scaler, y_train))\n",
    "print('결과:', gbc.score(X_test_scaler, y_test))"
   ]
  },
  {
   "cell_type": "code",
   "execution_count": 13,
   "id": "61db83e0",
   "metadata": {},
   "outputs": [
    {
     "name": "stdout",
     "output_type": "stream",
     "text": [
      "학습: 0.37780898876404495\n",
      "결과: 0.40782122905027934\n",
      "==================================\n",
      "학습: 0.7823033707865169\n",
      "결과: 0.7877094972067039\n",
      "==================================\n",
      "학습: 0.37780898876404495\n",
      "결과: 0.40782122905027934\n",
      "==================================\n",
      "학습: 0.37780898876404495\n",
      "결과: 0.40782122905027934\n"
     ]
    }
   ],
   "source": [
    "from sklearn.preprocessing import MinMaxScaler\n",
    "\n",
    "scaler =MinMaxScaler()\n",
    "scaler.fit(X_train)\n",
    "\n",
    "X_train_scaler = scaler.transform(X_train)\n",
    "X_test_scaler = scaler.transform(X_test)\n",
    "\n",
    "\n",
    "print('학습:', kn.score(X_train_scaler, y_train))\n",
    "print('결과:', kn.score(X_test_scaler, y_test))\n",
    "print(\"==================================\")\n",
    "print('학습:', rfc.score(X_train_scaler, y_train))\n",
    "print('결과:', rfc.score(X_test_scaler, y_test))\n",
    "print(\"==================================\")\n",
    "print('학습:', vo.score(X_train_scaler, y_train))\n",
    "print('결과:', vo.score(X_test_scaler, y_test))\n",
    "print(\"==================================\")\n",
    "print('학습:', gbc.score(X_train_scaler, y_train))\n",
    "print('결과:', gbc.score(X_test_scaler, y_test))"
   ]
  },
  {
   "cell_type": "code",
   "execution_count": 30,
   "id": "83ba1977",
   "metadata": {},
   "outputs": [],
   "source": [
    "rfc_pred = rfc.predict(X_test)\n",
    "kn_pred = kn.predict(X_test)\n",
    "vo_pred = vo.predict(X_test)\n",
    "gbc_pred = gbc.predict(X_test)"
   ]
  },
  {
   "cell_type": "code",
   "execution_count": 31,
   "id": "4ba4b221",
   "metadata": {},
   "outputs": [
    {
     "name": "stdout",
     "output_type": "stream",
     "text": [
      "정확도 :  0.770949720670391\n",
      "재현율 :  0.6986301369863014\n",
      "정밀도 :  0.7285714285714285\n",
      "f1_score :  0.7132867132867133\n",
      "=====rfc=====\n",
      "정확도 :  0.664804469273743\n",
      "재현율 :  0.589041095890411\n",
      "정밀도 :  0.589041095890411\n",
      "f1_score :  0.589041095890411\n",
      "=====kn=====\n",
      "정확도 :  0.6871508379888268\n",
      "재현율 :  0.4794520547945205\n",
      "정밀도 :  0.660377358490566\n",
      "f1_score :  0.5555555555555555\n",
      "=====vo=====\n",
      "정확도 :  0.8044692737430168\n",
      "재현율 :  0.6575342465753424\n",
      "정밀도 :  0.8275862068965517\n",
      "f1_score :  0.732824427480916\n",
      "======gbc====\n"
     ]
    }
   ],
   "source": [
    "#예측 정확도 평가(Accuracy 를 통한 성능평가)\n",
    "from sklearn.metrics import accuracy_score, precision_score, recall_score, f1_score\n",
    "accuracy = accuracy_score(y_test, rfc_pred) #정확도\n",
    "precision = precision_score(y_test, rfc_pred) #정밀도\n",
    "recall = recall_score(y_test, rfc_pred) #재현율\n",
    "f1 = f1_score(y_test, rfc_pred) #f1 score\n",
    "\n",
    "print('정확도 : ',accuracy)\n",
    "print('재현율 : ',recall)\n",
    "print('정밀도 : ',precision)\n",
    "print('f1_score : ',f1)\n",
    "print(\"=====rfc=====\")\n",
    "\n",
    "accuracy = accuracy_score(y_test, kn_pred) #정확도\n",
    "precision = precision_score(y_test, kn_pred) #정밀도\n",
    "recall = recall_score(y_test, kn_pred) #재현율\n",
    "f1 = f1_score(y_test, kn_pred) #f1 score\n",
    "\n",
    "print('정확도 : ',accuracy)\n",
    "print('재현율 : ',recall)\n",
    "print('정밀도 : ',precision)\n",
    "print('f1_score : ',f1)\n",
    "print(\"=====kn=====\")\n",
    "accuracy = accuracy_score(y_test, vo_pred) #정확도\n",
    "precision = precision_score(y_test, vo_pred) #정밀도\n",
    "recall = recall_score(y_test, vo_pred) #재현율\n",
    "f1 = f1_score(y_test, vo_pred) #f1 score\n",
    "\n",
    "print('정확도 : ',accuracy)\n",
    "print('재현율 : ',recall)\n",
    "print('정밀도 : ',precision)\n",
    "print('f1_score : ',f1)\n",
    "print(\"=====vo=====\")\n",
    "accuracy = accuracy_score(y_test, gbc_pred) #정확도\n",
    "precision = precision_score(y_test, gbc_pred) #정밀도\n",
    "recall = recall_score(y_test, gbc_pred) #재현율\n",
    "f1 = f1_score(y_test, gbc_pred) #f1 score\n",
    "\n",
    "print('정확도 : ',accuracy)\n",
    "print('재현율 : ',recall)\n",
    "print('정밀도 : ',precision)\n",
    "print('f1_score : ',f1)\n",
    "print(\"======gbc====\")\n"
   ]
  },
  {
   "cell_type": "code",
   "execution_count": 27,
   "id": "444796f3",
   "metadata": {},
   "outputs": [],
   "source": [
    "rfc_pred = rfc.predict(X_test_scaler)\n",
    "kn_pred = kn.predict(X_test_scaler)\n",
    "vo_pred = vo.predict(X_test_scaler)\n",
    "gbc_pred = gbc.predict(X_test_scaler)"
   ]
  },
  {
   "cell_type": "code",
   "execution_count": 28,
   "id": "80965eff",
   "metadata": {},
   "outputs": [
    {
     "name": "stdout",
     "output_type": "stream",
     "text": [
      "정확도 :  0.7877094972067039\n",
      "재현율 :  0.6712328767123288\n",
      "정밀도 :  0.7777777777777778\n",
      "f1_score :  0.7205882352941178\n",
      "=====rfc=====\n",
      "정확도 :  0.40782122905027934\n",
      "재현율 :  1.0\n",
      "정밀도 :  0.40782122905027934\n",
      "f1_score :  0.5793650793650793\n",
      "=====kn=====\n",
      "정확도 :  0.40782122905027934\n",
      "재현율 :  1.0\n",
      "정밀도 :  0.40782122905027934\n",
      "f1_score :  0.5793650793650793\n",
      "=====vo=====\n",
      "정확도 :  0.40782122905027934\n",
      "재현율 :  1.0\n",
      "정밀도 :  0.40782122905027934\n",
      "f1_score :  0.5793650793650793\n",
      "======gbc====\n"
     ]
    }
   ],
   "source": [
    "#예측 정확도 평가(Accuracy 를 통한 성능평가)\n",
    "from sklearn.metrics import accuracy_score, precision_score, recall_score, f1_score\n",
    "accuracy = accuracy_score(y_test, rfc_pred) #정확도\n",
    "precision = precision_score(y_test, rfc_pred) #정밀도\n",
    "recall = recall_score(y_test, rfc_pred) #재현율\n",
    "f1 = f1_score(y_test, rfc_pred) #f1 score\n",
    "\n",
    "print('정확도 : ',accuracy)\n",
    "print('재현율 : ',recall)\n",
    "print('정밀도 : ',precision)\n",
    "print('f1_score : ',f1)\n",
    "print(\"=====rfc=====\")\n",
    "\n",
    "accuracy = accuracy_score(y_test, kn_pred) #정확도\n",
    "precision = precision_score(y_test, kn_pred) #정밀도\n",
    "recall = recall_score(y_test, kn_pred) #재현율\n",
    "f1 = f1_score(y_test, kn_pred) #f1 score\n",
    "\n",
    "print('정확도 : ',accuracy)\n",
    "print('재현율 : ',recall)\n",
    "print('정밀도 : ',precision)\n",
    "print('f1_score : ',f1)\n",
    "print(\"=====kn=====\")\n",
    "accuracy = accuracy_score(y_test, vo_pred) #정확도\n",
    "precision = precision_score(y_test, vo_pred) #정밀도\n",
    "recall = recall_score(y_test, vo_pred) #재현율\n",
    "f1 = f1_score(y_test, vo_pred) #f1 score\n",
    "\n",
    "print('정확도 : ',accuracy)\n",
    "print('재현율 : ',recall)\n",
    "print('정밀도 : ',precision)\n",
    "print('f1_score : ',f1)\n",
    "print(\"=====vo=====\")\n",
    "accuracy = accuracy_score(y_test, gbc_pred) #정확도\n",
    "precision = precision_score(y_test, gbc_pred) #정밀도\n",
    "recall = recall_score(y_test, gbc_pred) #재현율\n",
    "f1 = f1_score(y_test, gbc_pred) #f1 score\n",
    "\n",
    "print('정확도 : ',accuracy)\n",
    "print('재현율 : ',recall)\n",
    "print('정밀도 : ',precision)\n",
    "print('f1_score : ',f1)\n",
    "print(\"======gbc====\")\n",
    "\n"
   ]
  },
  {
   "cell_type": "code",
   "execution_count": null,
   "id": "39fc34a8",
   "metadata": {},
   "outputs": [],
   "source": []
  },
  {
   "cell_type": "code",
   "execution_count": null,
   "id": "8d9968fc",
   "metadata": {},
   "outputs": [],
   "source": []
  },
  {
   "cell_type": "code",
   "execution_count": null,
   "id": "9c9905a8",
   "metadata": {},
   "outputs": [],
   "source": []
  },
  {
   "cell_type": "code",
   "execution_count": null,
   "id": "33dd7e4c",
   "metadata": {},
   "outputs": [],
   "source": []
  },
  {
   "cell_type": "code",
   "execution_count": null,
   "id": "945e2485",
   "metadata": {},
   "outputs": [],
   "source": []
  },
  {
   "cell_type": "code",
   "execution_count": null,
   "id": "2bc4ad38",
   "metadata": {},
   "outputs": [],
   "source": []
  },
  {
   "cell_type": "code",
   "execution_count": null,
   "id": "18d7260a",
   "metadata": {},
   "outputs": [],
   "source": []
  },
  {
   "cell_type": "code",
   "execution_count": null,
   "id": "bc224ee5",
   "metadata": {},
   "outputs": [],
   "source": []
  },
  {
   "cell_type": "code",
   "execution_count": null,
   "id": "1e325cd4",
   "metadata": {},
   "outputs": [],
   "source": []
  },
  {
   "cell_type": "code",
   "execution_count": null,
   "id": "faae7880",
   "metadata": {},
   "outputs": [],
   "source": []
  }
 ],
 "metadata": {
  "kernelspec": {
   "display_name": "Python 3 (ipykernel)",
   "language": "python",
   "name": "python3"
  },
  "language_info": {
   "codemirror_mode": {
    "name": "ipython",
    "version": 3
   },
   "file_extension": ".py",
   "mimetype": "text/x-python",
   "name": "python",
   "nbconvert_exporter": "python",
   "pygments_lexer": "ipython3",
   "version": "3.9.13"
  }
 },
 "nbformat": 4,
 "nbformat_minor": 5
}
