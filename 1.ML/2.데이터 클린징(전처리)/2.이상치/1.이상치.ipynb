{
 "cells": [
  {
   "cell_type": "markdown",
   "id": "413ec073",
   "metadata": {},
   "source": [
    "### 이상치\n",
    "* 이상치\n",
    "    - IQR의 1.5배 또는 3배의 차이가 나면 이상치라고 표현\n",
    "    - 다른 데이터보다 아주 작거나 큰 값을 말한다\n",
    "    - 데이터를 분석할 때 이상치는 의사결정에 영향을 미칠 수 있다\n",
    "* 이상치 처리\n",
    "    1. 제거\n",
    "        - 오타, 오류, 비상식적 값들을 단순히 제거\n",
    "    2. 치환\n",
    "        - 평균, 최빈, 중앙값\n",
    "* 이상치 구하기\n",
    "    - 1/4 분위값 25%, 2/4분위값 50%(MEDIAN-중앙값), 3/4분위 75%\n",
    "    - IQR = Q3(3사분위) - Q1(1사분위)\n",
    "    - 최대 이상치 = Q3 + IQR * 1.5(3.0)\n",
    "    - 최저 이상치 = Q1 - IQR * 1.5(3.0)"
   ]
  },
  {
   "cell_type": "markdown",
   "id": "43364fcd",
   "metadata": {},
   "source": [
    "## 배달 시간 확인하기\n"
   ]
  },
  {
   "cell_type": "code",
   "execution_count": 1,
   "id": "cfff7383",
   "metadata": {},
   "outputs": [],
   "source": [
    "import pandas as pd"
   ]
  },
  {
   "cell_type": "code",
   "execution_count": 2,
   "id": "6697ecf2",
   "metadata": {},
   "outputs": [],
   "source": [
    "df = pd.read_csv('data/food.csv')"
   ]
  },
  {
   "cell_type": "code",
   "execution_count": 3,
   "id": "54732cd0",
   "metadata": {},
   "outputs": [
    {
     "data": {
      "text/plain": [
       "food_a    47.407407\n",
       "food_b    51.037037\n",
       "food_c    42.407407\n",
       "dtype: float64"
      ]
     },
     "execution_count": 3,
     "metadata": {},
     "output_type": "execute_result"
    }
   ],
   "source": [
    "df.mean()"
   ]
  },
  {
   "cell_type": "code",
   "execution_count": 4,
   "id": "df25e1f6",
   "metadata": {},
   "outputs": [
    {
     "data": {
      "text/html": [
       "<div>\n",
       "<style scoped>\n",
       "    .dataframe tbody tr th:only-of-type {\n",
       "        vertical-align: middle;\n",
       "    }\n",
       "\n",
       "    .dataframe tbody tr th {\n",
       "        vertical-align: top;\n",
       "    }\n",
       "\n",
       "    .dataframe thead th {\n",
       "        text-align: right;\n",
       "    }\n",
       "</style>\n",
       "<table border=\"1\" class=\"dataframe\">\n",
       "  <thead>\n",
       "    <tr style=\"text-align: right;\">\n",
       "      <th></th>\n",
       "      <th>food_a</th>\n",
       "      <th>food_b</th>\n",
       "      <th>food_c</th>\n",
       "    </tr>\n",
       "  </thead>\n",
       "  <tbody>\n",
       "    <tr>\n",
       "      <th>count</th>\n",
       "      <td>27.000000</td>\n",
       "      <td>27.000000</td>\n",
       "      <td>27.000000</td>\n",
       "    </tr>\n",
       "    <tr>\n",
       "      <th>mean</th>\n",
       "      <td>47.407407</td>\n",
       "      <td>51.037037</td>\n",
       "      <td>42.407407</td>\n",
       "    </tr>\n",
       "    <tr>\n",
       "      <th>std</th>\n",
       "      <td>20.267935</td>\n",
       "      <td>110.789295</td>\n",
       "      <td>64.268822</td>\n",
       "    </tr>\n",
       "    <tr>\n",
       "      <th>min</th>\n",
       "      <td>20.000000</td>\n",
       "      <td>5.000000</td>\n",
       "      <td>5.000000</td>\n",
       "    </tr>\n",
       "    <tr>\n",
       "      <th>25%</th>\n",
       "      <td>38.000000</td>\n",
       "      <td>20.000000</td>\n",
       "      <td>20.000000</td>\n",
       "    </tr>\n",
       "    <tr>\n",
       "      <th>50%</th>\n",
       "      <td>46.000000</td>\n",
       "      <td>30.000000</td>\n",
       "      <td>31.000000</td>\n",
       "    </tr>\n",
       "    <tr>\n",
       "      <th>75%</th>\n",
       "      <td>57.000000</td>\n",
       "      <td>41.500000</td>\n",
       "      <td>45.500000</td>\n",
       "    </tr>\n",
       "    <tr>\n",
       "      <th>max</th>\n",
       "      <td>120.000000</td>\n",
       "      <td>600.000000</td>\n",
       "      <td>350.000000</td>\n",
       "    </tr>\n",
       "  </tbody>\n",
       "</table>\n",
       "</div>"
      ],
      "text/plain": [
       "           food_a      food_b      food_c\n",
       "count   27.000000   27.000000   27.000000\n",
       "mean    47.407407   51.037037   42.407407\n",
       "std     20.267935  110.789295   64.268822\n",
       "min     20.000000    5.000000    5.000000\n",
       "25%     38.000000   20.000000   20.000000\n",
       "50%     46.000000   30.000000   31.000000\n",
       "75%     57.000000   41.500000   45.500000\n",
       "max    120.000000  600.000000  350.000000"
      ]
     },
     "execution_count": 4,
     "metadata": {},
     "output_type": "execute_result"
    }
   ],
   "source": [
    "df.describe()\n",
    "# std = 표쥰편차 , 25% 지점 (Q1) , 75% 지점(Q3)"
   ]
  },
  {
   "cell_type": "markdown",
   "id": "ca139d39",
   "metadata": {},
   "source": [
    "### 중위수"
   ]
  },
  {
   "cell_type": "code",
   "execution_count": 5,
   "id": "4ffb5a3b",
   "metadata": {},
   "outputs": [
    {
     "name": "stdout",
     "output_type": "stream",
     "text": [
      "평균 :  5.5\n"
     ]
    },
    {
     "data": {
      "text/plain": [
       "('중위수(중앙값) : ', 5.5)"
      ]
     },
     "execution_count": 5,
     "metadata": {},
     "output_type": "execute_result"
    }
   ],
   "source": [
    "import numpy as np\n",
    "test_median = [1,2,3,4,5,6,7,8,9,10]\n",
    "print('평균 : ', np.mean(test_median))\n",
    "'중위수(중앙값) : ', np.median(test_median)"
   ]
  },
  {
   "cell_type": "code",
   "execution_count": 6,
   "id": "600dc6d0",
   "metadata": {},
   "outputs": [
    {
     "name": "stdout",
     "output_type": "stream",
     "text": [
      "food_a :  46.0\n",
      "food_b :  30.0\n",
      "food_c :  31.0\n"
     ]
    }
   ],
   "source": [
    "food_a_median = np.median(df['food_a'])\n",
    "food_b_median = np.median(df['food_b'])\n",
    "food_c_median = np.median(df['food_c'])\n",
    "\n",
    "print('food_a : ', food_a_median)\n",
    "print('food_b : ', food_b_median)\n",
    "print('food_c : ', food_c_median)"
   ]
  },
  {
   "cell_type": "code",
   "execution_count": 7,
   "id": "e6e5072a",
   "metadata": {},
   "outputs": [
    {
     "data": {
      "image/png": "[encoded data removed]",
      "text/plain": [
       "<Figure size 640x480 with 1 Axes>"
      ]
     },
     "metadata": {},
     "output_type": "display_data"
    }
   ],
   "source": [
    "import matplotlib.pyplot as plt\n",
    "plt.boxplot(df['food_a'])\n",
    "plt.show()"
   ]
  },
  {
   "cell_type": "markdown",
   "id": "9c4c62bf",
   "metadata": {},
   "source": [
    "### 이상치\n",
    "* IQR = Q3 - Q1\n",
    "* 최대 이상치 : Q3 + IQR * 1.5(3.0)\n",
    "* 최저 이상치 : Q1 - IQR * 1.5(3.0)"
   ]
  },
  {
   "cell_type": "code",
   "execution_count": 8,
   "id": "6353ec34",
   "metadata": {
    "scrolled": true
   },
   "outputs": [
    {
     "data": {
      "image/png": "[encoded data removed]",
      "text/plain": [
       "<Figure size 640x480 with 1 Axes>"
      ]
     },
     "metadata": {},
     "output_type": "display_data"
    }
   ],
   "source": [
    "test_median = [-4,2,3,4,5,6,7,8,9,15]\n",
    "df_test = pd.DataFrame(test_median)\n",
    "plt.boxplot(df_test[0])\n",
    "plt.show()"
   ]
  },
  {
   "cell_type": "code",
   "execution_count": 9,
   "id": "687e99d6",
   "metadata": {},
   "outputs": [
    {
     "data": {
      "text/html": [
       "<div>\n",
       "<style scoped>\n",
       "    .dataframe tbody tr th:only-of-type {\n",
       "        vertical-align: middle;\n",
       "    }\n",
       "\n",
       "    .dataframe tbody tr th {\n",
       "        vertical-align: top;\n",
       "    }\n",
       "\n",
       "    .dataframe thead th {\n",
       "        text-align: right;\n",
       "    }\n",
       "</style>\n",
       "<table border=\"1\" class=\"dataframe\">\n",
       "  <thead>\n",
       "    <tr style=\"text-align: right;\">\n",
       "      <th></th>\n",
       "      <th>0</th>\n",
       "    </tr>\n",
       "  </thead>\n",
       "  <tbody>\n",
       "    <tr>\n",
       "      <th>count</th>\n",
       "      <td>10.000000</td>\n",
       "    </tr>\n",
       "    <tr>\n",
       "      <th>mean</th>\n",
       "      <td>5.500000</td>\n",
       "    </tr>\n",
       "    <tr>\n",
       "      <th>std</th>\n",
       "      <td>4.972145</td>\n",
       "    </tr>\n",
       "    <tr>\n",
       "      <th>min</th>\n",
       "      <td>-4.000000</td>\n",
       "    </tr>\n",
       "    <tr>\n",
       "      <th>25%</th>\n",
       "      <td>3.250000</td>\n",
       "    </tr>\n",
       "    <tr>\n",
       "      <th>50%</th>\n",
       "      <td>5.500000</td>\n",
       "    </tr>\n",
       "    <tr>\n",
       "      <th>75%</th>\n",
       "      <td>7.750000</td>\n",
       "    </tr>\n",
       "    <tr>\n",
       "      <th>max</th>\n",
       "      <td>15.000000</td>\n",
       "    </tr>\n",
       "  </tbody>\n",
       "</table>\n",
       "</div>"
      ],
      "text/plain": [
       "               0\n",
       "count  10.000000\n",
       "mean    5.500000\n",
       "std     4.972145\n",
       "min    -4.000000\n",
       "25%     3.250000\n",
       "50%     5.500000\n",
       "75%     7.750000\n",
       "max    15.000000"
      ]
     },
     "execution_count": 9,
     "metadata": {},
     "output_type": "execute_result"
    }
   ],
   "source": [
    "df_test.describe()"
   ]
  },
  {
   "cell_type": "code",
   "execution_count": 10,
   "id": "ab720a16",
   "metadata": {},
   "outputs": [
    {
     "name": "stdout",
     "output_type": "stream",
     "text": [
      "0    3.25\n",
      "Name: 25%, dtype: float64\n",
      "3.25 7.75\n"
     ]
    }
   ],
   "source": [
    "print( df_test.describe().loc['25%'] )\n",
    "q1 = df_test[0].describe().loc['25%']\n",
    "q3 = df_test[0].describe().loc['75%']\n",
    "print(q1,q3)"
   ]
  },
  {
   "cell_type": "code",
   "execution_count": 11,
   "id": "3d1468a0",
   "metadata": {},
   "outputs": [
    {
     "name": "stdout",
     "output_type": "stream",
     "text": [
      "최저 이상치 :  -3.5\n",
      "최대 이상치 :  14.5\n"
     ]
    }
   ],
   "source": [
    "iqr = q3 - q1\n",
    "lowerfence = q1 - iqr * 1.5 #최저 이상치\n",
    "upperfence = q3 + iqr * 1.5 #최대 이상치\n",
    "print('최저 이상치 : ', lowerfence)\n",
    "print('최대 이상치 : ', upperfence)"
   ]
  },
  {
   "cell_type": "code",
   "execution_count": 12,
   "id": "c40660de",
   "metadata": {},
   "outputs": [
    {
     "name": "stdout",
     "output_type": "stream",
     "text": [
      "0    False\n",
      "1     True\n",
      "2     True\n",
      "3     True\n",
      "4     True\n",
      "5     True\n",
      "6     True\n",
      "7     True\n",
      "8     True\n",
      "9    False\n",
      "Name: 0, dtype: bool\n"
     ]
    },
    {
     "data": {
      "image/png": "[encoded data removed]",
      "text/plain": [
       "<Figure size 640x480 with 1 Axes>"
      ]
     },
     "metadata": {},
     "output_type": "display_data"
    }
   ],
   "source": [
    "print( (df_test[0] >= lowerfence) & (df_test[0] <= upperfence) )\n",
    "df_test[(df_test[0] >= lowerfence) & (df_test[0] <= upperfence)]\n",
    "df_test = df_test[(df_test[0] >= lowerfence) & (df_test[0] <= upperfence)]\n",
    "plt.boxplot(df_test[0])\n",
    "plt.show()"
   ]
  },
  {
   "cell_type": "markdown",
   "id": "2532d82c",
   "metadata": {},
   "source": [
    "### 이상치 치환\n",
    "- 평균, 최빈값, 중앙값"
   ]
  },
  {
   "cell_type": "code",
   "execution_count": 13,
   "id": "6f05e0e7",
   "metadata": {},
   "outputs": [],
   "source": [
    "df_test= pd.DataFrame(test_median)\n"
   ]
  },
  {
   "cell_type": "code",
   "execution_count": 14,
   "id": "b84303fa",
   "metadata": {},
   "outputs": [
    {
     "data": {
      "text/html": [
       "<div>\n",
       "<style scoped>\n",
       "    .dataframe tbody tr th:only-of-type {\n",
       "        vertical-align: middle;\n",
       "    }\n",
       "\n",
       "    .dataframe tbody tr th {\n",
       "        vertical-align: top;\n",
       "    }\n",
       "\n",
       "    .dataframe thead th {\n",
       "        text-align: right;\n",
       "    }\n",
       "</style>\n",
       "<table border=\"1\" class=\"dataframe\">\n",
       "  <thead>\n",
       "    <tr style=\"text-align: right;\">\n",
       "      <th></th>\n",
       "      <th>0</th>\n",
       "    </tr>\n",
       "  </thead>\n",
       "  <tbody>\n",
       "    <tr>\n",
       "      <th>0</th>\n",
       "      <td>5.5</td>\n",
       "    </tr>\n",
       "    <tr>\n",
       "      <th>1</th>\n",
       "      <td>2.0</td>\n",
       "    </tr>\n",
       "    <tr>\n",
       "      <th>2</th>\n",
       "      <td>3.0</td>\n",
       "    </tr>\n",
       "    <tr>\n",
       "      <th>3</th>\n",
       "      <td>4.0</td>\n",
       "    </tr>\n",
       "    <tr>\n",
       "      <th>4</th>\n",
       "      <td>5.0</td>\n",
       "    </tr>\n",
       "    <tr>\n",
       "      <th>5</th>\n",
       "      <td>6.0</td>\n",
       "    </tr>\n",
       "    <tr>\n",
       "      <th>6</th>\n",
       "      <td>7.0</td>\n",
       "    </tr>\n",
       "    <tr>\n",
       "      <th>7</th>\n",
       "      <td>8.0</td>\n",
       "    </tr>\n",
       "    <tr>\n",
       "      <th>8</th>\n",
       "      <td>9.0</td>\n",
       "    </tr>\n",
       "    <tr>\n",
       "      <th>9</th>\n",
       "      <td>5.5</td>\n",
       "    </tr>\n",
       "  </tbody>\n",
       "</table>\n",
       "</div>"
      ],
      "text/plain": [
       "     0\n",
       "0  5.5\n",
       "1  2.0\n",
       "2  3.0\n",
       "3  4.0\n",
       "4  5.0\n",
       "5  6.0\n",
       "6  7.0\n",
       "7  8.0\n",
       "8  9.0\n",
       "9  5.5"
      ]
     },
     "execution_count": 14,
     "metadata": {},
     "output_type": "execute_result"
    }
   ],
   "source": [
    "df_test[(df_test[0]>upperfence) | (df_test[0] < lowerfence) ]\\\n",
    "                    = df_test[0].describe().loc['50%']\n",
    "df_test"
   ]
  },
  {
   "cell_type": "code",
   "execution_count": 15,
   "id": "7425882d",
   "metadata": {},
   "outputs": [
    {
     "data": {
      "text/html": [
       "<div>\n",
       "<style scoped>\n",
       "    .dataframe tbody tr th:only-of-type {\n",
       "        vertical-align: middle;\n",
       "    }\n",
       "\n",
       "    .dataframe tbody tr th {\n",
       "        vertical-align: top;\n",
       "    }\n",
       "\n",
       "    .dataframe thead th {\n",
       "        text-align: right;\n",
       "    }\n",
       "</style>\n",
       "<table border=\"1\" class=\"dataframe\">\n",
       "  <thead>\n",
       "    <tr style=\"text-align: right;\">\n",
       "      <th></th>\n",
       "      <th>0</th>\n",
       "    </tr>\n",
       "  </thead>\n",
       "  <tbody>\n",
       "    <tr>\n",
       "      <th>0</th>\n",
       "      <td>5.5</td>\n",
       "    </tr>\n",
       "    <tr>\n",
       "      <th>1</th>\n",
       "      <td>2.0</td>\n",
       "    </tr>\n",
       "    <tr>\n",
       "      <th>2</th>\n",
       "      <td>3.0</td>\n",
       "    </tr>\n",
       "    <tr>\n",
       "      <th>3</th>\n",
       "      <td>4.0</td>\n",
       "    </tr>\n",
       "    <tr>\n",
       "      <th>4</th>\n",
       "      <td>5.0</td>\n",
       "    </tr>\n",
       "    <tr>\n",
       "      <th>5</th>\n",
       "      <td>6.0</td>\n",
       "    </tr>\n",
       "    <tr>\n",
       "      <th>6</th>\n",
       "      <td>7.0</td>\n",
       "    </tr>\n",
       "    <tr>\n",
       "      <th>7</th>\n",
       "      <td>8.0</td>\n",
       "    </tr>\n",
       "    <tr>\n",
       "      <th>8</th>\n",
       "      <td>9.0</td>\n",
       "    </tr>\n",
       "    <tr>\n",
       "      <th>9</th>\n",
       "      <td>5.5</td>\n",
       "    </tr>\n",
       "  </tbody>\n",
       "</table>\n",
       "</div>"
      ],
      "text/plain": [
       "     0\n",
       "0  5.5\n",
       "1  2.0\n",
       "2  3.0\n",
       "3  4.0\n",
       "4  5.0\n",
       "5  6.0\n",
       "6  7.0\n",
       "7  8.0\n",
       "8  9.0\n",
       "9  5.5"
      ]
     },
     "execution_count": 15,
     "metadata": {},
     "output_type": "execute_result"
    }
   ],
   "source": [
    "df_test.reset_index( drop = True )"
   ]
  },
  {
   "cell_type": "code",
   "execution_count": 16,
   "id": "d854d506",
   "metadata": {},
   "outputs": [],
   "source": [
    "df = pd.read_csv('data/food.csv')"
   ]
  },
  {
   "cell_type": "code",
   "execution_count": 17,
   "id": "fab71a21",
   "metadata": {},
   "outputs": [
    {
     "data": {
      "text/html": [
       "<div>\n",
       "<style scoped>\n",
       "    .dataframe tbody tr th:only-of-type {\n",
       "        vertical-align: middle;\n",
       "    }\n",
       "\n",
       "    .dataframe tbody tr th {\n",
       "        vertical-align: top;\n",
       "    }\n",
       "\n",
       "    .dataframe thead th {\n",
       "        text-align: right;\n",
       "    }\n",
       "</style>\n",
       "<table border=\"1\" class=\"dataframe\">\n",
       "  <thead>\n",
       "    <tr style=\"text-align: right;\">\n",
       "      <th></th>\n",
       "      <th>food_a</th>\n",
       "      <th>food_b</th>\n",
       "      <th>food_c</th>\n",
       "    </tr>\n",
       "  </thead>\n",
       "  <tbody>\n",
       "    <tr>\n",
       "      <th>0</th>\n",
       "      <td>20</td>\n",
       "      <td>5</td>\n",
       "      <td>5</td>\n",
       "    </tr>\n",
       "    <tr>\n",
       "      <th>1</th>\n",
       "      <td>21</td>\n",
       "      <td>6</td>\n",
       "      <td>5</td>\n",
       "    </tr>\n",
       "    <tr>\n",
       "      <th>2</th>\n",
       "      <td>23</td>\n",
       "      <td>11</td>\n",
       "      <td>5</td>\n",
       "    </tr>\n",
       "    <tr>\n",
       "      <th>3</th>\n",
       "      <td>22</td>\n",
       "      <td>13</td>\n",
       "      <td>12</td>\n",
       "    </tr>\n",
       "    <tr>\n",
       "      <th>4</th>\n",
       "      <td>26</td>\n",
       "      <td>15</td>\n",
       "      <td>10</td>\n",
       "    </tr>\n",
       "    <tr>\n",
       "      <th>5</th>\n",
       "      <td>120</td>\n",
       "      <td>16</td>\n",
       "      <td>11</td>\n",
       "    </tr>\n",
       "    <tr>\n",
       "      <th>6</th>\n",
       "      <td>35</td>\n",
       "      <td>20</td>\n",
       "      <td>20</td>\n",
       "    </tr>\n",
       "    <tr>\n",
       "      <th>7</th>\n",
       "      <td>35</td>\n",
       "      <td>20</td>\n",
       "      <td>20</td>\n",
       "    </tr>\n",
       "    <tr>\n",
       "      <th>8</th>\n",
       "      <td>41</td>\n",
       "      <td>21</td>\n",
       "      <td>350</td>\n",
       "    </tr>\n",
       "    <tr>\n",
       "      <th>9</th>\n",
       "      <td>42</td>\n",
       "      <td>23</td>\n",
       "      <td>20</td>\n",
       "    </tr>\n",
       "    <tr>\n",
       "      <th>10</th>\n",
       "      <td>43</td>\n",
       "      <td>22</td>\n",
       "      <td>20</td>\n",
       "    </tr>\n",
       "    <tr>\n",
       "      <th>11</th>\n",
       "      <td>45</td>\n",
       "      <td>27</td>\n",
       "      <td>21</td>\n",
       "    </tr>\n",
       "    <tr>\n",
       "      <th>12</th>\n",
       "      <td>44</td>\n",
       "      <td>27</td>\n",
       "      <td>20</td>\n",
       "    </tr>\n",
       "    <tr>\n",
       "      <th>13</th>\n",
       "      <td>45</td>\n",
       "      <td>30</td>\n",
       "      <td>30</td>\n",
       "    </tr>\n",
       "    <tr>\n",
       "      <th>14</th>\n",
       "      <td>46</td>\n",
       "      <td>30</td>\n",
       "      <td>32</td>\n",
       "    </tr>\n",
       "    <tr>\n",
       "      <th>15</th>\n",
       "      <td>47</td>\n",
       "      <td>32</td>\n",
       "      <td>31</td>\n",
       "    </tr>\n",
       "    <tr>\n",
       "      <th>16</th>\n",
       "      <td>47</td>\n",
       "      <td>36</td>\n",
       "      <td>31</td>\n",
       "    </tr>\n",
       "    <tr>\n",
       "      <th>17</th>\n",
       "      <td>46</td>\n",
       "      <td>37</td>\n",
       "      <td>31</td>\n",
       "    </tr>\n",
       "    <tr>\n",
       "      <th>18</th>\n",
       "      <td>47</td>\n",
       "      <td>40</td>\n",
       "      <td>36</td>\n",
       "    </tr>\n",
       "    <tr>\n",
       "      <th>19</th>\n",
       "      <td>58</td>\n",
       "      <td>40</td>\n",
       "      <td>40</td>\n",
       "    </tr>\n",
       "    <tr>\n",
       "      <th>20</th>\n",
       "      <td>58</td>\n",
       "      <td>43</td>\n",
       "      <td>40</td>\n",
       "    </tr>\n",
       "    <tr>\n",
       "      <th>21</th>\n",
       "      <td>59</td>\n",
       "      <td>44</td>\n",
       "      <td>51</td>\n",
       "    </tr>\n",
       "    <tr>\n",
       "      <th>22</th>\n",
       "      <td>60</td>\n",
       "      <td>45</td>\n",
       "      <td>61</td>\n",
       "    </tr>\n",
       "    <tr>\n",
       "      <th>23</th>\n",
       "      <td>56</td>\n",
       "      <td>51</td>\n",
       "      <td>51</td>\n",
       "    </tr>\n",
       "    <tr>\n",
       "      <th>24</th>\n",
       "      <td>57</td>\n",
       "      <td>54</td>\n",
       "      <td>61</td>\n",
       "    </tr>\n",
       "    <tr>\n",
       "      <th>25</th>\n",
       "      <td>57</td>\n",
       "      <td>70</td>\n",
       "      <td>61</td>\n",
       "    </tr>\n",
       "    <tr>\n",
       "      <th>26</th>\n",
       "      <td>80</td>\n",
       "      <td>600</td>\n",
       "      <td>70</td>\n",
       "    </tr>\n",
       "  </tbody>\n",
       "</table>\n",
       "</div>"
      ],
      "text/plain": [
       "    food_a  food_b  food_c\n",
       "0       20       5       5\n",
       "1       21       6       5\n",
       "2       23      11       5\n",
       "3       22      13      12\n",
       "4       26      15      10\n",
       "5      120      16      11\n",
       "6       35      20      20\n",
       "7       35      20      20\n",
       "8       41      21     350\n",
       "9       42      23      20\n",
       "10      43      22      20\n",
       "11      45      27      21\n",
       "12      44      27      20\n",
       "13      45      30      30\n",
       "14      46      30      32\n",
       "15      47      32      31\n",
       "16      47      36      31\n",
       "17      46      37      31\n",
       "18      47      40      36\n",
       "19      58      40      40\n",
       "20      58      43      40\n",
       "21      59      44      51\n",
       "22      60      45      61\n",
       "23      56      51      51\n",
       "24      57      54      61\n",
       "25      57      70      61\n",
       "26      80     600      70"
      ]
     },
     "execution_count": 17,
     "metadata": {},
     "output_type": "execute_result"
    }
   ],
   "source": [
    "df"
   ]
  },
  {
   "cell_type": "code",
   "execution_count": 18,
   "id": "708aafd9",
   "metadata": {},
   "outputs": [
    {
     "data": {
      "image/png": "[encoded data removed]",
      "text/plain": [
       "<Figure size 640x480 with 1 Axes>"
      ]
     },
     "metadata": {},
     "output_type": "display_data"
    }
   ],
   "source": [
    "# plt.boxplot([df['food_a'],df['food_b'],df['food_c']])\n",
    "plt.boxplot(df[['food_a','food_b','food_c']])\n",
    "plt.show()"
   ]
  },
  {
   "cell_type": "code",
   "execution_count": 19,
   "id": "21ab40f0",
   "metadata": {},
   "outputs": [
    {
     "data": {
      "text/plain": [
       "0      20\n",
       "1      21\n",
       "2      23\n",
       "3      22\n",
       "4      26\n",
       "5     120\n",
       "6      35\n",
       "7      35\n",
       "8      41\n",
       "9      42\n",
       "10     43\n",
       "11     45\n",
       "12     44\n",
       "13     45\n",
       "14     46\n",
       "15     47\n",
       "16     47\n",
       "17     46\n",
       "18     47\n",
       "19     58\n",
       "20     58\n",
       "21     59\n",
       "22     60\n",
       "23     56\n",
       "24     57\n",
       "25     57\n",
       "26     80\n",
       "Name: food_a, dtype: int64"
      ]
     },
     "execution_count": 19,
     "metadata": {},
     "output_type": "execute_result"
    }
   ],
   "source": [
    "df['food_a']"
   ]
  },
  {
   "cell_type": "code",
   "execution_count": null,
   "id": "7e9a145c",
   "metadata": {},
   "outputs": [],
   "source": [
    "lowerfence = []\n",
    "upperfence = []\n",
    "li = ['food_a','food_b','food_c']\n",
    "for i in df :\n",
    "    iqr =df[i].describe().loc['75%']-df[i].describe().loc['25%']\n",
    "    lowerfence.append(df[i].describe().loc['25%'] - iqr * 1.5)\n",
    "    upperfence.append(df[i].describe().loc['75%'] + iqr * 1.5)\n",
    "    \n",
    "print('\\n----------------------')\n",
    "print(lowerfence, '최저 이상치')\n",
    "\n",
    "print(upperfence, '최고 이상치')\n",
    "\n",
    "#     lowerfence[i] = df[i](q1- iqr * 1.5)\n",
    "#     upperfence[i] = df[i](q3 + iqr * 1.5)"
   ]
  },
  {
   "cell_type": "code",
   "execution_count": null,
   "id": "72f4cbc9",
   "metadata": {},
   "outputs": [],
   "source": [
    "cnt = 0\n",
    "for i in df.columns :\n",
    "\n",
    "    print(i, \"이상치\",end=\"\")\n",
    "    print(\"\\n--------\")\n",
    "    print(df[(df[i]<lowerfence[cnt]) | (df[i]> upperfence[cnt])])\n",
    "    print('===================================\\n')\n",
    "    cnt += 1"
   ]
  },
  {
   "cell_type": "code",
   "execution_count": null,
   "id": "164b72eb",
   "metadata": {},
   "outputs": [],
   "source": [
    "dd = df['food_b'][(df['food_b']<lowerfence[1]) | (df['food_b']>upperfence[1])]\n",
    "print(dd.index[0])\n",
    "dd.loc[ dd.index[0] ]"
   ]
  },
  {
   "cell_type": "code",
   "execution_count": null,
   "id": "7bb48695",
   "metadata": {},
   "outputs": [],
   "source": [
    "df"
   ]
  },
  {
   "cell_type": "code",
   "execution_count": null,
   "id": "ca54dbfb",
   "metadata": {},
   "outputs": [],
   "source": [
    "count = 0\n",
    "for column in df.columns:\n",
    "    s = df[column][(df[column]<lowerfence[count]) | (df[column]> upperfence[count])]\n",
    "    df.drop(s.index[0], inplace=True)\n",
    "    count = count + 1"
   ]
  },
  {
   "cell_type": "code",
   "execution_count": null,
   "id": "1343cfd7",
   "metadata": {},
   "outputs": [],
   "source": [
    "plt.boxplot(df[['food_a','food_b','food_c']])\n",
    "plt.show()"
   ]
  },
  {
   "cell_type": "code",
   "execution_count": null,
   "id": "a7160053",
   "metadata": {},
   "outputs": [],
   "source": [
    "df = pd.read_csv('data/food.csv')\n",
    "df.shape"
   ]
  },
  {
   "cell_type": "code",
   "execution_count": null,
   "id": "7c777d6e",
   "metadata": {},
   "outputs": [],
   "source": [
    "count = 0\n",
    "for column in df.columns:\n",
    "    df[column][(df[column]<lowerfence[count]) | (df[column]> upperfence[count])] = df[column].describe().loc['50%']\n",
    "    count = count + 1"
   ]
  },
  {
   "cell_type": "code",
   "execution_count": null,
   "id": "4bd4f2a2",
   "metadata": {},
   "outputs": [],
   "source": [
    "df = pd.read_csv('data/food.csv')\n",
    "count = 0\n",
    "for column in df.columns:\n",
    "    df[column][(df[column]<lowerfence[count]) | (df[column]> upperfence[count])] = round(df[column].mean())\n",
    "    count = count + 1\n",
    "df"
   ]
  },
  {
   "cell_type": "code",
   "execution_count": null,
   "id": "126328a1",
   "metadata": {},
   "outputs": [],
   "source": [
    "df = pd.read_csv('data/food.csv')"
   ]
  },
  {
   "cell_type": "code",
   "execution_count": null,
   "id": "4885cba5",
   "metadata": {},
   "outputs": [],
   "source": [
    "for i in df.columns :\n",
    "    print(i, \"최빈값\")\n",
    "    print(df[i].mode())\n",
    "    print('===============\\n')"
   ]
  },
  {
   "cell_type": "code",
   "execution_count": null,
   "id": "175154f6",
   "metadata": {},
   "outputs": [],
   "source": [
    "df = pd.read_csv('data/food.csv')\n",
    "count = 0\n",
    "for column in df.columns:\n",
    "    df[column][(df[column]<lowerfence[count]) | (df[column]> upperfence[count])] = df[column].mode()[0]\n",
    "    count = count + 1\n",
    "df"
   ]
  }
 ],
 "metadata": {
  "kernelspec": {
   "display_name": "Python 3 (ipykernel)",
   "language": "python",
   "name": "python3"
  },
  "language_info": {
   "codemirror_mode": {
    "name": "ipython",
    "version": 3
   },
   "file_extension": ".py",
   "mimetype": "text/x-python",
   "name": "python",
   "nbconvert_exporter": "python",
   "pygments_lexer": "ipython3",
   "version": "3.9.13"
  }
 },
 "nbformat": 4,
 "nbformat_minor": 5
}
